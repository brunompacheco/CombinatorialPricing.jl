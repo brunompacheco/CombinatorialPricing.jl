{
 "cells": [
  {
   "cell_type": "code",
   "execution_count": 6,
   "id": "d4b0050e",
   "metadata": {},
   "outputs": [],
   "source": [
    "using JuMP, Gurobi, CombinatorialPricing"
   ]
  },
  {
   "cell_type": "code",
   "execution_count": 2,
   "id": "50032b17",
   "metadata": {},
   "outputs": [
    {
     "data": {
      "text/plain": [
       "KnapsackPricing with 30 items (15 tolled)"
      ]
     },
     "metadata": {},
     "output_type": "display_data"
    }
   ],
   "source": [
    "# Import a problem from a file\n",
    "file = \"./problems/knapsack/expset-2/kpp2-n30-01.json\"\n",
    "prob = read(file, KnapsackPricing)"
   ]
  },
  {
   "cell_type": "code",
   "execution_count": 6,
   "id": "47e14d0d",
   "metadata": {},
   "outputs": [
    {
     "name": "stdout",
     "output_type": "stream",
     "text": [
      "Set parameter OutputFlag to value 1\n",
      "Set parameter Threads to value 0\n"
     ]
    },
    {
     "data": {
      "text/plain": [
       "A JuMP Model\n",
       "├ solver: Gurobi\n",
       "├ objective_sense: MAX_SENSE\n",
       "│ └ objective_function_type: AffExpr\n",
       "├ num_variables: 62\n",
       "├ num_constraints: 123\n",
       "│ ├ AffExpr in MOI.EqualTo{Float64}: 1\n",
       "│ ├ AffExpr in MOI.GreaterThan{Float64}: 15\n",
       "│ ├ AffExpr in MOI.LessThan{Float64}: 32\n",
       "│ ├ VariableRef in MOI.GreaterThan{Float64}: 30\n",
       "│ ├ VariableRef in MOI.LessThan{Float64}: 15\n",
       "│ └ VariableRef in MOI.ZeroOne: 30\n",
       "└ Names registered in the model\n",
       "  └ :callback_calls, :callback_time, :f, :follower, :g, :heur_provider, :knapsack, :primalobj, :prob, :sdtol, :strongdual, :subproblem_time, :subproblem_times, :t, :toll_bounds, :tx, :vf_x, :x"
      ]
     },
     "metadata": {},
     "output_type": "display_data"
    }
   ],
   "source": [
    "# Create a value function model\n",
    "model_vf = value_function_model(prob)"
   ]
  },
  {
   "cell_type": "code",
   "execution_count": 7,
   "id": "197e5908",
   "metadata": {},
   "outputs": [
    {
     "name": "stdout",
     "output_type": "stream",
     "text": [
      "Set parameter Threads to value 0\n",
      "Set parameter OutputFlag to value 1\n",
      "Set parameter LazyConstraints to value 1\n",
      "Gurobi Optimizer version 12.0.2 build v12.0.2rc0 (armlinux64 - \"Ubuntu 22.04.5 LTS\")\n",
      "\n",
      "CPU model: ARM64\n",
      "Thread count: 8 physical cores, 8 logical processors, using up to 8 threads\n",
      "\n",
      "Non-default parameters:\n",
      "LazyConstraints  1\n",
      "\n",
      "Academic license 2562957 - for non-commercial use only - registered to br___@umontreal.ca\n",
      "Optimize a model with 48 rows, 62 columns and 183 nonzeros\n",
      "Model fingerprint: 0x511fdeb9\n",
      "Variable types: 32 continuous, 30 integer (30 binary)\n",
      "Coefficient statistics:\n",
      "  Matrix range     [1e+00, 1e+02]\n",
      "  Objective range  [1e+00, 1e+00]\n",
      "  Bounds range     [3e+00, 1e+02]\n",
      "  RHS range        [1e-04, 7e+02]\n",
      "Presolve removed 1 rows and 1 columns\n",
      "Presolve time: 0.00s\n",
      "Presolved: 47 rows, 61 columns, 181 nonzeros\n",
      "Variable types: 31 continuous, 30 integer (30 binary)\n",
      "\n",
      "Root relaxation: objective 1.062886e+03, 72 iterations, 0.00 seconds (0.00 work units)\n",
      "\n",
      "    Nodes    |    Current Node    |     Objective Bounds      |     Work\n",
      " Expl Unexpl |  Obj  Depth IntInf | Incumbent    BestBd   Gap | It/Node Time\n",
      "\n",
      "     0     0 1062.88552    0    1          - 1062.88552      -     -    0s\n",
      "H    0     0                      -0.0000000 1062.59469      -     -    0s\n",
      "     0     0 1062.59469    0    2   -0.00000 1062.59469      -     -    0s\n",
      "     0     0  299.00010    0    -   -0.00000  299.00010      -     -    0s\n",
      "     0     0  298.97355    0    3   -0.00000  298.97355      -     -    0s\n",
      "H    0     0                      13.0001000  298.97355  2200%     -    0s\n",
      "     0     0  298.96028    0    4   13.00010  298.96028  2200%     -    0s\n",
      "     0     0  297.00030    0    -   13.00010  297.00030  2185%     -    0s\n",
      "     0     0  296.85611    0    5   13.00010  296.85611  2183%     -    0s\n",
      "H    0     0                      85.5001000  295.98201   246%     -    0s\n",
      "     0     0  295.98201    0    7   85.50010  295.98201   246%     -    0s\n",
      "     0     0  295.63217    0    6   85.50010  295.63217   246%     -    1s\n",
      "H    0     0                     178.2930466  295.63217  65.8%     -    1s\n",
      "     0     0  295.63217    0    6  178.29305  295.63217  65.8%     -    1s\n",
      "     0     2  295.63217    0    6  178.29305  295.63217  65.8%     -    1s\n",
      "H 2114  1511                     191.0002000  279.50010  46.3%   4.4    1s\n",
      "H 6740  2839                     194.0911409  253.31335  30.5%   6.1    2s\n",
      "H 6832  2500                     202.9526048  253.17279  24.7%   6.1    2s\n",
      "H 8364  2713                     208.0003750  249.73375  20.1%   6.5    2s\n",
      "H10179  2840                     211.0002000  245.50073  16.4%   7.3    3s\n",
      "H18518  1622                     214.3336778  227.33363  6.07%   9.6    4s\n",
      "*19614    86              31     223.0002889  226.00040  1.35%   9.7    4s\n",
      "*19754     1              25     224.5004000  226.00040  0.67%   9.7    4s\n",
      "*19761     0              28     226.0004000  226.00040  0.00%   9.7    4s\n",
      "\n",
      "Cutting planes:\n",
      "  Gomory: 9\n",
      "  Cover: 5\n",
      "  MIR: 25\n",
      "  StrongCG: 4\n",
      "  Flow cover: 16\n",
      "  Inf proof: 4\n",
      "  RLT: 1\n",
      "  Lazy constraints: 828\n",
      "\n",
      "Explored 19762 nodes (191324 simplex iterations) in 4.54 seconds (3.09 work units)\n",
      "Thread count was 8 (of 8 available processors)\n",
      "\n",
      "Solution count 10: 226 224.5 223 ... 178.293\n",
      "\n",
      "Optimal solution found (tolerance 1.00e-04)\n",
      "Best objective 2.260004000000e+02, best bound 2.260004000000e+02, gap 0.0000%\n",
      "\n",
      "User-callback calls 41682, time in user-callback 2.35 sec\n"
     ]
    }
   ],
   "source": [
    "# Solve the model\n",
    "optimize!(model_vf)"
   ]
  },
  {
   "cell_type": "code",
   "execution_count": 17,
   "id": "f78b3d28",
   "metadata": {},
   "outputs": [
    {
     "name": "stdout",
     "output_type": "stream",
     "text": [
      "Set parameter OutputFlag to value 1\n",
      "Set parameter Threads to value 0\n",
      "Set parameter Threads to value 0\n",
      "Set parameter OutputFlag to value 1\n",
      "Gurobi Optimizer version 12.0.2 build v12.0.2rc0 (armlinux64 - \"Ubuntu 22.04.5 LTS\")\n",
      "\n",
      "CPU model: ARM64\n",
      "Thread count: 8 physical cores, 8 logical processors, using up to 8 threads\n",
      "\n",
      "Academic license 2562957 - for non-commercial use only - registered to br___@umontreal.ca\n",
      "Optimize a model with 1 rows, 30 columns and 30 nonzeros\n",
      "Model fingerprint: 0xa6603a45\n",
      "Variable types: 0 continuous, 30 integer (30 binary)\n",
      "Coefficient statistics:\n",
      "  Matrix range     [2e+00, 1e+02]\n",
      "  Objective range  [1e+00, 1e+02]\n",
      "  Bounds range     [0e+00, 0e+00]\n",
      "  RHS range        [7e+02, 7e+02]\n",
      "Found heuristic solution: objective -778.3329667\n",
      "Presolve removed 1 rows and 30 columns\n",
      "Presolve time: 0.00s\n",
      "Presolve: All rows and columns removed\n",
      "\n",
      "Explored 0 nodes (0 simplex iterations) in 0.01 seconds (0.00 work units)\n",
      "Thread count was 1 (of 8 available processors)\n",
      "\n",
      "Solution count 2: -823 -778.333 \n",
      "No other solutions better than -823\n",
      "\n",
      "Optimal solution found (tolerance 1.00e-04)\n",
      "Best objective -8.229997000000e+02, best bound -8.229997000000e+02, gap 0.0000%\n",
      "\n",
      "User-callback calls 144, time in user-callback 0.00 sec\n"
     ]
    }
   ],
   "source": [
    "model_f = follower_model(prob)\n",
    "\n",
    "follower_obj = set_toll!(model_f, prob, value.(model_vf[:t]))\n",
    "\n",
    "optimize!(model_f)"
   ]
  },
  {
   "cell_type": "code",
   "execution_count": 43,
   "id": "c07924ec",
   "metadata": {},
   "outputs": [
    {
     "data": {
      "text/plain": [
       "(-822.9995999999992, -822.9997000000001)"
      ]
     },
     "metadata": {},
     "output_type": "display_data"
    }
   ],
   "source": [
    "inp = Dict(model_f[:x][i] => value(model_vf[:x][i]) for i in 1:num_items(prob))\n",
    "value(i -> inp[i], follower_obj), objective_value(model_f)"
   ]
  },
  {
   "cell_type": "markdown",
   "id": "d4c23933",
   "metadata": {},
   "source": [
    "Value-function model is sound."
   ]
  },
  {
   "cell_type": "markdown",
   "id": "02f16b3a",
   "metadata": {},
   "source": [
    "## Selection Diagram"
   ]
  },
  {
   "cell_type": "code",
   "execution_count": 386,
   "id": "99a638c8",
   "metadata": {},
   "outputs": [
    {
     "data": {
      "text/plain": [
       "SDGraph{KnapsackPricing} with 3 layers, 16 nodes, and 19 arcs"
      ]
     },
     "metadata": {},
     "output_type": "display_data"
    }
   ],
   "source": [
    "numpairs = 5\n",
    "\n",
    "# Sample some solutions\n",
    "sampler = MaximalKnapsackSampler(prob)\n",
    "samples = rand(sampler, numpairs)\n",
    "\n",
    "# Extract random pairs from the samples\n",
    "pairs = random_pair.(samples)\n",
    "\n",
    "# Create a selection diagram\n",
    "sd = sdgraph_from_pairs(prob, pairs)"
   ]
  },
  {
   "cell_type": "code",
   "execution_count": 387,
   "id": "8f14ea1b",
   "metadata": {},
   "outputs": [],
   "source": [
    "l = length(sd.layers) - 1\n",
    "for u in sd.layers[l]\n",
    "    empty_arc = SDArc((l, u), sink_node(sd), DPAction())\n",
    "    push!(sd.arcs, empty_arc)\n",
    "end"
   ]
  },
  {
   "cell_type": "code",
   "execution_count": 461,
   "id": "a6b147d2",
   "metadata": {},
   "outputs": [
    {
     "data": {
      "image/png": "[encoded data removed]",
      "image/svg+xml": [
       "<?xml version=\"1.0\" encoding=\"utf-8\"?>\n",
       "<svg xmlns=\"http://www.w3.org/2000/svg\" xmlns:xlink=\"http://www.w3.org/1999/xlink\" width=\"600\" height=\"400\" viewBox=\"0 0 2400 1600\">\n",
       "<defs>\n",
       "  <clipPath id=\"clip680\">\n",
       "    <rect x=\"0\" y=\"0\" width=\"2400\" height=\"1600\"/>\n",
       "  </clipPath>\n",
       "</defs>\n",
       "<path clip-path=\"url(#clip680)\" d=\"M0 1600 L2400 1600 L2400 0 L0 0  Z\" fill=\"#ffffff\" fill-rule=\"evenodd\" fill-opacity=\"1\"/>\n",
       "<defs>\n",
       "  <clipPath id=\"clip681\">\n",
       "    <rect x=\"480\" y=\"0\" width=\"1681\" height=\"1600\"/>\n",
       "  </clipPath>\n",
       "</defs>\n",
       "<path clip-path=\"url(#clip680)\" d=\"M447.244 1552.76 L1952.76 1552.76 L1952.76 47.2441 L447.244 47.2441  Z\" fill=\"#ffffff\" fill-rule=\"evenodd\" fill-opacity=\"1\"/>\n",
       "<defs>\n",
       "  <clipPath id=\"clip682\">\n",
       "    <rect x=\"447\" y=\"47\" width=\"1507\" height=\"1507\"/>\n",
       "  </clipPath>\n",
       "</defs>\n",
       "<polyline clip-path=\"url(#clip682)\" style=\"stroke:#000000; stroke-linecap:round; stroke-linejoin:round; stroke-width:4; stroke-opacity:1; fill:none\" points=\"1171.89,262.317 1172.36,276.097 1173.71,290.032 1175.88,304.112 1178.81,318.324 1182.42,332.659 1186.66,347.102 1191.46,361.645 1196.75,376.273 1202.46,390.977 1208.54,405.745 1214.92,420.564 1221.52,435.424 1228.29,450.313 1235.15,465.219 1242.05,480.131 1248.91,495.037 1255.68,509.926 1262.28,524.786 1268.66,539.605 1274.73,554.373 1280.45,569.077 1285.74,583.705 1290.54,598.248 1294.78,612.691 1298.39,627.026 1301.32,641.238 1303.49,655.318 1304.84,669.253 1305.31,683.033 \"/>\n",
       "<polyline clip-path=\"url(#clip682)\" style=\"stroke:#000000; stroke-linecap:round; stroke-linejoin:round; stroke-width:4; stroke-opacity:1; fill:none\" points=\"1171.89,262.317 1170.42,280.801 1166.13,298.549 1159.23,315.616 1149.95,332.055 1138.47,347.921 1125.02,363.27 1109.79,378.154 1093,392.63 1074.86,406.752 1055.57,420.573 1035.35,434.149 1014.39,447.534 992.919,460.783 971.132,473.949 949.24,487.089 927.452,500.256 905.977,513.505 885.023,526.89 864.797,540.466 845.51,554.287 827.368,568.408 810.58,582.884 795.355,597.769 781.9,613.117 770.425,628.984 761.137,645.423 754.244,662.489 749.956,680.237 748.481,698.721 \"/>\n",
       "<polyline clip-path=\"url(#clip682)\" style=\"stroke:#000000; stroke-linecap:round; stroke-linejoin:round; stroke-width:4; stroke-opacity:1; fill:none\" points=\"1171.89,262.317 1171.23,277.321 1169.31,292.388 1166.23,307.513 1162.07,322.691 1156.93,337.918 1150.91,353.19 1144.09,368.501 1136.58,383.846 1128.46,399.222 1119.82,414.624 1110.77,430.046 1101.39,445.485 1091.78,460.935 1082.03,476.393 1072.23,491.852 1062.47,507.31 1052.86,522.76 1043.48,538.199 1034.43,553.621 1025.8,569.023 1017.67,584.399 1010.16,599.745 1003.34,615.055 997.322,630.327 992.185,645.554 988.028,660.732 984.943,675.857 983.023,690.924 982.363,705.928 \"/>\n",
       "<polyline clip-path=\"url(#clip682)\" style=\"stroke:#000000; stroke-linecap:round; stroke-linejoin:round; stroke-width:4; stroke-opacity:1; fill:none\" points=\"1171.89,262.317 1170.11,280.431 1164.95,297.34 1156.66,313.136 1145.48,327.906 1131.67,341.74 1115.48,354.727 1097.15,366.956 1076.95,378.516 1055.12,389.497 1031.9,399.988 1007.56,410.077 982.344,419.854 956.499,429.409 930.277,438.83 903.931,448.206 877.709,457.627 851.864,467.181 826.645,476.958 802.304,487.048 779.091,497.538 757.258,508.519 737.054,520.08 718.73,532.309 702.537,545.296 688.727,559.13 677.549,573.9 669.254,589.695 664.093,606.605 662.317,624.718 \"/>\n",
       "<polyline clip-path=\"url(#clip682)\" style=\"stroke:#000000; stroke-linecap:round; stroke-linejoin:round; stroke-width:4; stroke-opacity:1; fill:none\" points=\"1171.89,262.317 1173.49,277.782 1178.15,292.22 1185.64,305.706 1195.72,318.316 1208.19,330.127 1222.8,341.215 1239.33,351.657 1257.57,361.527 1277.27,370.902 1298.22,379.859 1320.18,388.473 1342.94,396.821 1366.27,404.979 1389.93,413.022 1413.7,421.027 1437.37,429.071 1460.69,437.228 1483.45,445.576 1505.41,454.19 1526.36,463.147 1546.07,472.522 1564.3,482.392 1580.83,492.834 1595.45,503.922 1607.91,515.733 1618,528.344 1625.48,541.829 1630.14,556.267 1631.74,571.732 \"/>\n",
       "<polyline clip-path=\"url(#clip682)\" style=\"stroke:#000000; stroke-linecap:round; stroke-linejoin:round; stroke-width:4; stroke-opacity:1; fill:none\" points=\"1171.89,262.317 1173.05,275.707 1176.4,288.4 1181.8,300.449 1189.08,311.905 1198.06,322.819 1208.6,333.243 1220.53,343.228 1233.67,352.827 1247.88,362.091 1262.99,371.071 1278.83,379.818 1295.24,388.386 1312.06,396.824 1329.12,405.185 1346.27,413.52 1363.33,421.881 1380.15,430.32 1396.56,438.887 1412.4,447.635 1427.51,456.615 1441.72,465.878 1454.86,475.477 1466.79,485.463 1477.33,495.887 1486.31,506.801 1493.59,518.256 1498.99,530.305 1502.34,542.999 1503.5,556.388 \"/>\n",
       "<polyline clip-path=\"url(#clip682)\" style=\"stroke:#000000; stroke-linecap:round; stroke-linejoin:round; stroke-width:4; stroke-opacity:1; fill:none\" points=\"1171.89,262.317 1173.75,278.099 1179.14,292.831 1187.8,306.593 1199.48,319.462 1213.91,331.515 1230.82,342.83 1249.97,353.485 1271.07,363.557 1293.88,373.124 1318.13,382.264 1343.56,391.055 1369.91,399.573 1396.91,407.898 1424.3,416.105 1451.83,424.275 1479.22,432.482 1506.22,440.807 1532.57,449.325 1558,458.116 1582.25,467.256 1605.06,476.823 1626.16,486.895 1645.31,497.55 1662.22,508.865 1676.65,520.918 1688.33,533.787 1696.99,547.549 1702.38,562.281 1704.24,578.063 \"/>\n",
       "<polyline clip-path=\"url(#clip682)\" style=\"stroke:#000000; stroke-linecap:round; stroke-linejoin:round; stroke-width:4; stroke-opacity:1; fill:none\" points=\"1171.89,262.317 1171.06,277.698 1168.63,293.002 1164.74,308.234 1159.49,323.399 1153.01,338.505 1145.41,353.556 1136.81,368.558 1127.33,383.517 1117.08,398.439 1106.18,413.329 1094.75,428.194 1082.92,443.038 1070.78,457.868 1058.48,472.689 1046.11,487.508 1033.8,502.329 1021.67,517.159 1009.83,532.004 998.404,546.868 987.508,561.758 977.259,576.68 967.775,591.639 959.174,606.642 951.573,621.693 945.09,636.798 939.843,651.964 935.949,667.196 933.527,682.499 932.693,697.88 \"/>\n",
       "<polyline clip-path=\"url(#clip682)\" style=\"stroke:#000000; stroke-linecap:round; stroke-linejoin:round; stroke-width:4; stroke-opacity:1; fill:none\" points=\"1171.89,262.317 1172.1,275.556 1172.69,289.049 1173.65,302.776 1174.94,316.718 1176.53,330.858 1178.39,345.176 1180.51,359.653 1182.83,374.271 1185.35,389.011 1188.03,403.854 1190.83,418.782 1193.74,433.775 1196.72,448.815 1199.74,463.883 1202.78,478.961 1205.8,494.029 1208.78,509.069 1211.69,524.062 1214.49,538.99 1217.17,553.833 1219.69,568.573 1222.02,583.191 1224.13,597.668 1225.99,611.986 1227.59,626.125 1228.87,640.068 1229.83,653.795 1230.43,667.287 1230.63,680.527 \"/>\n",
       "<polyline clip-path=\"url(#clip682)\" style=\"stroke:#000000; stroke-linecap:round; stroke-linejoin:round; stroke-width:4; stroke-opacity:1; fill:none\" points=\"1305.31,683.033 1304.36,694.928 1301.62,706.361 1297.22,717.366 1291.28,727.977 1283.95,738.228 1275.35,748.153 1265.62,757.788 1254.89,767.165 1243.29,776.319 1230.96,785.285 1218.03,794.097 1204.64,802.789 1190.91,811.396 1176.99,819.951 1163,828.488 1149.07,837.043 1135.34,845.65 1121.95,854.342 1109.02,863.154 1096.69,872.12 1085.1,881.274 1074.37,890.651 1064.64,900.286 1056.04,910.211 1048.7,920.462 1042.76,931.073 1038.36,942.078 1035.62,953.511 1034.68,965.406 \"/>\n",
       "<polyline clip-path=\"url(#clip682)\" style=\"stroke:#000000; stroke-linecap:round; stroke-linejoin:round; stroke-width:4; stroke-opacity:1; fill:none\" points=\"748.481,698.721 749.478,710.564 752.377,721.84 757.035,732.59 763.313,742.857 771.07,752.684 780.164,762.111 790.455,771.181 801.803,779.936 814.065,788.418 827.102,796.668 840.773,804.73 854.937,812.645 869.452,820.454 884.179,828.201 898.977,835.927 913.704,843.673 928.219,851.483 942.383,859.398 956.054,867.459 969.091,875.71 981.353,884.192 992.701,892.947 1002.99,902.017 1012.09,911.444 1019.84,921.27 1026.12,931.537 1030.78,942.288 1033.68,953.563 1034.68,965.406 \"/>\n",
       "<polyline clip-path=\"url(#clip682)\" style=\"stroke:#000000; stroke-linecap:round; stroke-linejoin:round; stroke-width:4; stroke-opacity:1; fill:none\" points=\"982.363,705.928 981.716,717.462 979.837,728.916 976.817,740.295 972.747,751.606 967.718,762.854 961.822,774.046 955.15,785.186 947.794,796.282 939.844,807.34 931.392,818.364 922.529,829.362 913.346,840.339 903.936,851.301 894.388,862.254 884.795,873.204 875.247,884.157 865.837,895.119 856.654,906.096 847.792,917.093 839.34,928.118 831.39,939.175 824.033,950.271 817.361,961.412 811.465,972.604 806.437,983.852 802.367,995.162 799.346,1006.54 797.467,1018 796.821,1029.53 \"/>\n",
       "<polyline clip-path=\"url(#clip682)\" style=\"stroke:#000000; stroke-linecap:round; stroke-linejoin:round; stroke-width:4; stroke-opacity:1; fill:none\" points=\"662.317,624.718 662.786,638.03 664.148,651.48 666.338,665.058 669.288,678.755 672.933,692.56 677.207,706.462 682.044,720.452 687.377,734.519 693.14,748.653 699.267,762.843 705.692,777.08 712.349,791.353 719.171,805.651 726.092,819.965 733.046,834.283 739.967,848.597 746.789,862.895 753.446,877.168 759.871,891.405 765.998,905.595 771.761,919.729 777.094,933.796 781.93,947.786 786.204,961.688 789.85,975.493 792.8,989.19 794.99,1002.77 796.352,1016.22 796.821,1029.53 \"/>\n",
       "<polyline clip-path=\"url(#clip682)\" style=\"stroke:#000000; stroke-linecap:round; stroke-linejoin:round; stroke-width:4; stroke-opacity:1; fill:none\" points=\"1631.74,571.732 1632.11,585.121 1633.18,598.706 1634.91,612.472 1637.23,626.405 1640.1,640.491 1643.47,654.714 1647.28,669.061 1651.48,683.517 1656.02,698.067 1660.85,712.696 1665.91,727.391 1671.15,742.137 1676.52,756.92 1681.97,771.723 1687.45,786.535 1692.9,801.339 1698.28,816.121 1703.52,830.867 1708.58,845.562 1713.41,860.192 1717.94,874.742 1722.15,889.197 1725.95,903.544 1729.32,917.767 1732.19,931.853 1734.52,945.786 1736.24,959.553 1737.31,973.137 1737.68,986.526 \"/>\n",
       "<polyline clip-path=\"url(#clip682)\" style=\"stroke:#000000; stroke-linecap:round; stroke-linejoin:round; stroke-width:4; stroke-opacity:1; fill:none\" points=\"1631.74,571.732 1631.71,581.698 1631.6,591.874 1631.44,602.244 1631.21,612.793 1630.94,623.505 1630.61,634.365 1630.25,645.357 1629.85,656.466 1629.41,667.676 1628.95,678.971 1628.46,690.336 1627.96,701.755 1627.44,713.214 1626.91,724.695 1626.39,736.185 1625.86,747.667 1625.35,759.125 1624.84,770.545 1624.36,781.91 1623.89,793.205 1623.46,804.415 1623.05,815.523 1622.69,826.515 1622.36,837.375 1622.09,848.087 1621.87,858.636 1621.7,869.007 1621.6,879.183 1621.56,889.149 \"/>\n",
       "<polyline clip-path=\"url(#clip682)\" style=\"stroke:#000000; stroke-linecap:round; stroke-linejoin:round; stroke-width:4; stroke-opacity:1; fill:none\" points=\"1503.5,556.388 1504.32,571.55 1506.69,586.642 1510.5,601.668 1515.64,616.634 1521.98,631.545 1529.42,646.406 1537.85,661.223 1547.13,676 1557.17,690.743 1567.83,705.458 1579.02,720.149 1590.61,734.822 1602.49,749.481 1614.54,764.133 1626.65,778.782 1638.7,793.434 1650.57,808.093 1662.16,822.766 1673.35,837.457 1684.02,852.171 1694.05,866.915 1703.34,881.692 1711.76,896.509 1719.2,911.37 1725.55,926.281 1730.68,941.246 1734.49,956.273 1736.87,971.364 1737.68,986.526 \"/>\n",
       "<polyline clip-path=\"url(#clip682)\" style=\"stroke:#000000; stroke-linecap:round; stroke-linejoin:round; stroke-width:4; stroke-opacity:1; fill:none\" points=\"1704.24,578.063 1703.11,592.62 1699.83,606.656 1694.57,620.209 1687.47,633.317 1678.69,646.021 1668.41,658.357 1656.77,670.365 1643.94,682.084 1630.07,693.551 1615.33,704.806 1599.87,715.887 1583.85,726.833 1567.44,737.683 1550.78,748.474 1534.05,759.246 1517.39,770.038 1500.98,780.887 1484.96,791.833 1469.5,802.915 1454.76,814.17 1440.89,825.637 1428.06,837.355 1416.42,849.363 1406.14,861.7 1397.37,874.403 1390.27,887.512 1385,901.065 1381.72,915.101 1380.59,929.658 \"/>\n",
       "<polyline clip-path=\"url(#clip682)\" style=\"stroke:#000000; stroke-linecap:round; stroke-linejoin:round; stroke-width:4; stroke-opacity:1; fill:none\" points=\"932.693,697.88 934.254,709.465 938.79,720.28 946.081,730.382 955.906,739.828 968.045,748.676 982.278,756.982 998.384,764.803 1016.14,772.196 1035.33,779.219 1055.74,785.929 1077.13,792.382 1099.3,798.635 1122.02,804.745 1145.06,810.771 1168.22,816.767 1191.27,822.792 1213.99,828.903 1236.15,835.156 1257.55,841.609 1277.95,848.318 1297.14,855.341 1314.9,862.735 1331.01,870.556 1345.24,878.862 1357.38,887.71 1367.2,897.156 1374.5,907.258 1379.03,918.073 1380.59,929.658 \"/>\n",
       "<polyline clip-path=\"url(#clip682)\" style=\"stroke:#000000; stroke-linecap:round; stroke-linejoin:round; stroke-width:4; stroke-opacity:1; fill:none\" points=\"1230.63,680.527 1231.99,690.954 1235.95,700.688 1242.32,709.781 1250.89,718.284 1261.49,726.247 1273.91,733.723 1287.97,740.763 1303.47,747.418 1320.22,753.74 1338.02,759.779 1356.7,765.587 1376.05,771.215 1395.87,776.716 1415.99,782.139 1436.2,787.536 1456.32,792.96 1476.15,798.46 1495.49,804.088 1514.17,809.896 1531.98,815.935 1548.73,822.257 1564.23,828.912 1578.28,835.952 1590.71,843.428 1601.3,851.391 1609.88,859.894 1616.24,868.987 1620.2,878.721 1621.56,889.149 \"/>\n",
       "<polyline clip-path=\"url(#clip682)\" style=\"stroke:#000000; stroke-linecap:round; stroke-linejoin:round; stroke-width:4; stroke-opacity:1; fill:none\" points=\"1034.68,965.406 1035.6,979.457 1038.29,993.248 1042.61,1006.8 1048.43,1020.13 1055.62,1033.25 1064.05,1046.2 1073.59,1058.98 1084.11,1071.61 1095.48,1084.12 1107.57,1096.52 1120.24,1108.84 1133.37,1121.09 1146.83,1133.29 1160.48,1145.46 1174.2,1157.63 1187.86,1169.8 1201.31,1182 1214.44,1194.25 1227.12,1206.57 1239.21,1218.97 1250.57,1231.48 1261.09,1244.11 1270.64,1256.89 1279.07,1269.84 1286.26,1282.96 1292.08,1296.29 1296.4,1309.84 1299.09,1323.63 1300.01,1337.68 \"/>\n",
       "<polyline clip-path=\"url(#clip682)\" style=\"stroke:#000000; stroke-linecap:round; stroke-linejoin:round; stroke-width:4; stroke-opacity:1; fill:none\" points=\"796.821,1029.53 798.574,1044.93 803.67,1059.31 811.861,1072.74 822.899,1085.3 836.537,1097.06 852.527,1108.11 870.621,1118.5 890.572,1128.33 912.132,1137.67 935.054,1146.59 959.09,1155.17 983.992,1163.49 1009.51,1171.61 1035.41,1179.62 1061.42,1187.59 1087.32,1195.6 1112.84,1203.73 1137.74,1212.04 1161.78,1220.62 1184.7,1229.54 1206.26,1238.88 1226.21,1248.71 1244.3,1259.11 1260.29,1270.15 1273.93,1281.91 1284.97,1294.47 1293.16,1307.9 1298.26,1322.28 1300.01,1337.68 \"/>\n",
       "<polyline clip-path=\"url(#clip682)\" style=\"stroke:#000000; stroke-linecap:round; stroke-linejoin:round; stroke-width:4; stroke-opacity:1; fill:none\" points=\"1737.68,986.526 1736.16,1003.4 1731.72,1019.26 1724.6,1034.17 1715,1048.21 1703.14,1061.45 1689.23,1073.98 1673.49,1085.86 1656.14,1097.18 1637.39,1108 1617.45,1118.4 1596.54,1128.47 1574.88,1138.27 1552.68,1147.88 1530.16,1157.37 1507.53,1166.83 1485.01,1176.33 1462.81,1185.94 1441.15,1195.74 1420.24,1205.81 1400.31,1216.21 1381.55,1227.03 1364.2,1238.35 1348.46,1250.23 1334.56,1262.75 1322.69,1276 1313.09,1290.04 1305.97,1304.95 1301.54,1320.8 1300.01,1337.68 \"/>\n",
       "<polyline clip-path=\"url(#clip682)\" style=\"stroke:#000000; stroke-linecap:round; stroke-linejoin:round; stroke-width:4; stroke-opacity:1; fill:none\" points=\"1380.59,929.658 1380.31,942.683 1379.5,955.931 1378.18,969.388 1376.42,983.034 1374.23,996.855 1371.67,1010.83 1368.77,1024.95 1365.58,1039.2 1362.13,1053.55 1358.46,1067.99 1354.61,1082.51 1350.62,1097.09 1346.53,1111.7 1342.38,1126.35 1338.22,1141 1334.07,1155.64 1329.98,1170.25 1326,1184.83 1322.15,1199.35 1318.48,1213.79 1315.02,1228.14 1311.83,1242.39 1308.93,1256.51 1306.37,1270.48 1304.19,1284.31 1302.42,1297.95 1301.11,1311.41 1300.29,1324.66 1300.01,1337.68 \"/>\n",
       "<polyline clip-path=\"url(#clip682)\" style=\"stroke:#000000; stroke-linecap:round; stroke-linejoin:round; stroke-width:4; stroke-opacity:1; fill:none\" points=\"1621.56,889.149 1620.44,906.108 1617.18,922.748 1611.95,939.091 1604.9,955.162 1596.18,970.985 1585.96,986.582 1574.4,1001.98 1561.65,1017.2 1547.87,1032.26 1533.23,1047.19 1517.87,1062.02 1501.95,1076.76 1485.64,1091.45 1469.1,1106.1 1452.47,1120.73 1435.93,1135.38 1419.62,1150.07 1403.7,1164.81 1388.34,1179.64 1373.7,1194.57 1359.92,1209.64 1347.17,1224.85 1335.61,1240.25 1325.39,1255.85 1316.67,1271.67 1309.62,1287.74 1304.39,1304.08 1301.13,1320.72 1300.01,1337.68 \"/>\n",
       "<path clip-path=\"url(#clip682)\" d=\"M1197.45 262.317 L1184.67 240.184 L1159.11 240.184 L1146.33 262.317 L1159.11 284.45 L1184.67 284.45 L1197.45 262.317 L1197.45 262.317  Z\" fill=\"#009af9\" fill-rule=\"evenodd\" fill-opacity=\"1\"/>\n",
       "<polyline clip-path=\"url(#clip682)\" style=\"stroke:#000000; stroke-linecap:round; stroke-linejoin:round; stroke-width:4; stroke-opacity:1; fill:none\" points=\"1197.45,262.317 1184.67,240.184 1159.11,240.184 1146.33,262.317 1159.11,284.45 1184.67,284.45 1197.45,262.317 \"/>\n",
       "<path clip-path=\"url(#clip682)\" d=\"M1358.5 683.033 L1331.91 636.965 L1278.71 636.965 L1252.11 683.033 L1278.71 729.1 L1331.91 729.1 L1358.5 683.033 L1358.5 683.033  Z\" fill=\"#009af9\" fill-rule=\"evenodd\" fill-opacity=\"1\"/>\n",
       "<polyline clip-path=\"url(#clip682)\" style=\"stroke:#000000; stroke-linecap:round; stroke-linejoin:round; stroke-width:4; stroke-opacity:1; fill:none\" points=\"1358.5,683.033 1331.91,636.965 1278.71,636.965 1252.11,683.033 1278.71,729.1 1331.91,729.1 1358.5,683.033 \"/>\n",
       "<path clip-path=\"url(#clip682)\" d=\"M801.675 698.721 L775.078 652.654 L721.884 652.654 L695.286 698.721 L721.884 744.789 L775.078 744.789 L801.675 698.721 L801.675 698.721  Z\" fill=\"#009af9\" fill-rule=\"evenodd\" fill-opacity=\"1\"/>\n",
       "<polyline clip-path=\"url(#clip682)\" style=\"stroke:#000000; stroke-linecap:round; stroke-linejoin:round; stroke-width:4; stroke-opacity:1; fill:none\" points=\"801.675,698.721 775.078,652.654 721.884,652.654 695.286,698.721 721.884,744.789 775.078,744.789 801.675,698.721 \"/>\n",
       "<path clip-path=\"url(#clip682)\" d=\"M1035.56 705.928 L1008.96 659.86 L955.766 659.86 L929.168 705.928 L955.766 751.996 L1008.96 751.996 L1035.56 705.928 L1035.56 705.928  Z\" fill=\"#009af9\" fill-rule=\"evenodd\" fill-opacity=\"1\"/>\n",
       "<polyline clip-path=\"url(#clip682)\" style=\"stroke:#000000; stroke-linecap:round; stroke-linejoin:round; stroke-width:4; stroke-opacity:1; fill:none\" points=\"1035.56,705.928 1008.96,659.86 955.766,659.86 929.168,705.928 955.766,751.996 1008.96,751.996 1035.56,705.928 \"/>\n",
       "<path clip-path=\"url(#clip682)\" d=\"M715.511 624.718 L688.914 578.651 L635.72 578.651 L609.123 624.718 L635.72 670.786 L688.914 670.786 L715.511 624.718 L715.511 624.718  Z\" fill=\"#009af9\" fill-rule=\"evenodd\" fill-opacity=\"1\"/>\n",
       "<polyline clip-path=\"url(#clip682)\" style=\"stroke:#000000; stroke-linecap:round; stroke-linejoin:round; stroke-width:4; stroke-opacity:1; fill:none\" points=\"715.511,624.718 688.914,578.651 635.72,578.651 609.123,624.718 635.72,670.786 688.914,670.786 715.511,624.718 \"/>\n",
       "<path clip-path=\"url(#clip682)\" d=\"M1676.24 571.732 L1653.99 533.196 L1609.49 533.196 L1587.24 571.732 L1609.49 610.268 L1653.99 610.268 L1676.24 571.732 L1676.24 571.732  Z\" fill=\"#009af9\" fill-rule=\"evenodd\" fill-opacity=\"1\"/>\n",
       "<polyline clip-path=\"url(#clip682)\" style=\"stroke:#000000; stroke-linecap:round; stroke-linejoin:round; stroke-width:4; stroke-opacity:1; fill:none\" points=\"1676.24,571.732 1653.99,533.196 1609.49,533.196 1587.24,571.732 1609.49,610.268 1653.99,610.268 1676.24,571.732 \"/>\n",
       "<path clip-path=\"url(#clip682)\" d=\"M1548 556.388 L1525.75 517.852 L1481.25 517.852 L1459 556.388 L1481.25 594.924 L1525.75 594.924 L1548 556.388 L1548 556.388  Z\" fill=\"#009af9\" fill-rule=\"evenodd\" fill-opacity=\"1\"/>\n",
       "<polyline clip-path=\"url(#clip682)\" style=\"stroke:#000000; stroke-linecap:round; stroke-linejoin:round; stroke-width:4; stroke-opacity:1; fill:none\" points=\"1548,556.388 1525.75,517.852 1481.25,517.852 1459,556.388 1481.25,594.924 1525.75,594.924 1548,556.388 \"/>\n",
       "<path clip-path=\"url(#clip682)\" d=\"M1748.74 578.063 L1726.49 539.527 L1681.99 539.527 L1659.74 578.063 L1681.99 616.599 L1726.49 616.599 L1748.74 578.063 L1748.74 578.063  Z\" fill=\"#009af9\" fill-rule=\"evenodd\" fill-opacity=\"1\"/>\n",
       "<polyline clip-path=\"url(#clip682)\" style=\"stroke:#000000; stroke-linecap:round; stroke-linejoin:round; stroke-width:4; stroke-opacity:1; fill:none\" points=\"1748.74,578.063 1726.49,539.527 1681.99,539.527 1659.74,578.063 1681.99,616.599 1726.49,616.599 1748.74,578.063 \"/>\n",
       "<path clip-path=\"url(#clip682)\" d=\"M985.887 697.88 L959.29 651.813 L906.096 651.813 L879.499 697.88 L906.096 743.948 L959.29 743.948 L985.887 697.88 L985.887 697.88  Z\" fill=\"#009af9\" fill-rule=\"evenodd\" fill-opacity=\"1\"/>\n",
       "<polyline clip-path=\"url(#clip682)\" style=\"stroke:#000000; stroke-linecap:round; stroke-linejoin:round; stroke-width:4; stroke-opacity:1; fill:none\" points=\"985.887,697.88 959.29,651.813 906.096,651.813 879.499,697.88 906.096,743.948 959.29,743.948 985.887,697.88 \"/>\n",
       "<path clip-path=\"url(#clip682)\" d=\"M1283.82 680.527 L1257.23 634.459 L1204.03 634.459 L1177.44 680.527 L1204.03 726.594 L1257.23 726.594 L1283.82 680.527 L1283.82 680.527  Z\" fill=\"#009af9\" fill-rule=\"evenodd\" fill-opacity=\"1\"/>\n",
       "<polyline clip-path=\"url(#clip682)\" style=\"stroke:#000000; stroke-linecap:round; stroke-linejoin:round; stroke-width:4; stroke-opacity:1; fill:none\" points=\"1283.82,680.527 1257.23,634.459 1204.03,634.459 1177.44,680.527 1204.03,726.594 1257.23,726.594 1283.82,680.527 \"/>\n",
       "<path clip-path=\"url(#clip682)\" d=\"M1112.15 965.406 L1073.41 898.311 L995.938 898.311 L957.2 965.406 L995.938 1032.5 L1073.41 1032.5 L1112.15 965.406 L1112.15 965.406  Z\" fill=\"#009af9\" fill-rule=\"evenodd\" fill-opacity=\"1\"/>\n",
       "<polyline clip-path=\"url(#clip682)\" style=\"stroke:#000000; stroke-linecap:round; stroke-linejoin:round; stroke-width:4; stroke-opacity:1; fill:none\" points=\"1112.15,965.406 1073.41,898.311 995.938,898.311 957.2,965.406 995.938,1032.5 1073.41,1032.5 1112.15,965.406 1112.15,965.406 \"/>\n",
       "<path clip-path=\"url(#clip682)\" d=\"M874.295 1029.53 L835.558 962.434 L758.083 962.434 L719.346 1029.53 L758.083 1096.62 L835.558 1096.62 L874.295 1029.53 L874.295 1029.53  Z\" fill=\"#009af9\" fill-rule=\"evenodd\" fill-opacity=\"1\"/>\n",
       "<polyline clip-path=\"url(#clip682)\" style=\"stroke:#000000; stroke-linecap:round; stroke-linejoin:round; stroke-width:4; stroke-opacity:1; fill:none\" points=\"874.295,1029.53 835.558,962.434 758.083,962.434 719.346,1029.53 758.083,1096.62 835.558,1096.62 874.295,1029.53 \"/>\n",
       "<path clip-path=\"url(#clip682)\" d=\"M1799.23 986.526 L1768.46 933.225 L1706.91 933.225 L1676.14 986.526 L1706.91 1039.83 L1768.46 1039.83 L1799.23 986.526 L1799.23 986.526  Z\" fill=\"#009af9\" fill-rule=\"evenodd\" fill-opacity=\"1\"/>\n",
       "<polyline clip-path=\"url(#clip682)\" style=\"stroke:#000000; stroke-linecap:round; stroke-linejoin:round; stroke-width:4; stroke-opacity:1; fill:none\" points=\"1799.23,986.526 1768.46,933.225 1706.91,933.225 1676.14,986.526 1706.91,1039.83 1768.46,1039.83 1799.23,986.526 \"/>\n",
       "<path clip-path=\"url(#clip682)\" d=\"M1450.22 929.658 L1415.41 869.36 L1345.78 869.36 L1310.97 929.658 L1345.78 989.955 L1415.41 989.955 L1450.22 929.658 L1450.22 929.658  Z\" fill=\"#009af9\" fill-rule=\"evenodd\" fill-opacity=\"1\"/>\n",
       "<polyline clip-path=\"url(#clip682)\" style=\"stroke:#000000; stroke-linecap:round; stroke-linejoin:round; stroke-width:4; stroke-opacity:1; fill:none\" points=\"1450.22,929.658 1415.41,869.36 1345.78,869.36 1310.97,929.658 1345.78,989.955 1415.41,989.955 1450.22,929.658 \"/>\n",
       "<path clip-path=\"url(#clip682)\" d=\"M1691.19 889.149 L1656.37 828.851 L1586.75 828.851 L1551.94 889.149 L1586.75 949.446 L1656.37 949.446 L1691.19 889.149 L1691.19 889.149  Z\" fill=\"#009af9\" fill-rule=\"evenodd\" fill-opacity=\"1\"/>\n",
       "<polyline clip-path=\"url(#clip682)\" style=\"stroke:#000000; stroke-linecap:round; stroke-linejoin:round; stroke-width:4; stroke-opacity:1; fill:none\" points=\"1691.19,889.149 1656.37,828.851 1586.75,828.851 1551.94,889.149 1586.75,949.446 1656.37,949.446 1691.19,889.149 \"/>\n",
       "<path clip-path=\"url(#clip682)\" d=\"M1325.57 1337.68 L1312.79 1315.55 L1287.23 1315.55 L1274.45 1337.68 L1287.23 1359.82 L1312.79 1359.82 L1325.57 1337.68 L1325.57 1337.68  Z\" fill=\"#009af9\" fill-rule=\"evenodd\" fill-opacity=\"1\"/>\n",
       "<polyline clip-path=\"url(#clip682)\" style=\"stroke:#000000; stroke-linecap:round; stroke-linejoin:round; stroke-width:4; stroke-opacity:1; fill:none\" points=\"1325.57,1337.68 1312.79,1315.55 1287.23,1315.55 1274.45,1337.68 1287.23,1359.82 1312.79,1359.82 1325.57,1337.68 \"/>\n",
       "<circle clip-path=\"url(#clip682)\" style=\"fill:#009af9; stroke:none; fill-opacity:0\" cx=\"1171.89\" cy=\"262.317\" r=\"2\"/>\n",
       "<circle clip-path=\"url(#clip682)\" style=\"fill:#009af9; stroke:none; fill-opacity:0\" cx=\"1305.31\" cy=\"683.033\" r=\"2\"/>\n",
       "<circle clip-path=\"url(#clip682)\" style=\"fill:#009af9; stroke:none; fill-opacity:0\" cx=\"748.481\" cy=\"698.721\" r=\"2\"/>\n",
       "<circle clip-path=\"url(#clip682)\" style=\"fill:#009af9; stroke:none; fill-opacity:0\" cx=\"982.363\" cy=\"705.928\" r=\"2\"/>\n",
       "<circle clip-path=\"url(#clip682)\" style=\"fill:#009af9; stroke:none; fill-opacity:0\" cx=\"662.317\" cy=\"624.718\" r=\"2\"/>\n",
       "<circle clip-path=\"url(#clip682)\" style=\"fill:#009af9; stroke:none; fill-opacity:0\" cx=\"1631.74\" cy=\"571.732\" r=\"2\"/>\n",
       "<circle clip-path=\"url(#clip682)\" style=\"fill:#009af9; stroke:none; fill-opacity:0\" cx=\"1503.5\" cy=\"556.388\" r=\"2\"/>\n",
       "<circle clip-path=\"url(#clip682)\" style=\"fill:#009af9; stroke:none; fill-opacity:0\" cx=\"1704.24\" cy=\"578.063\" r=\"2\"/>\n",
       "<circle clip-path=\"url(#clip682)\" style=\"fill:#009af9; stroke:none; fill-opacity:0\" cx=\"932.693\" cy=\"697.88\" r=\"2\"/>\n",
       "<circle clip-path=\"url(#clip682)\" style=\"fill:#009af9; stroke:none; fill-opacity:0\" cx=\"1230.63\" cy=\"680.527\" r=\"2\"/>\n",
       "<circle clip-path=\"url(#clip682)\" style=\"fill:#009af9; stroke:none; fill-opacity:0\" cx=\"1034.68\" cy=\"965.406\" r=\"2\"/>\n",
       "<circle clip-path=\"url(#clip682)\" style=\"fill:#009af9; stroke:none; fill-opacity:0\" cx=\"796.821\" cy=\"1029.53\" r=\"2\"/>\n",
       "<circle clip-path=\"url(#clip682)\" style=\"fill:#009af9; stroke:none; fill-opacity:0\" cx=\"1737.68\" cy=\"986.526\" r=\"2\"/>\n",
       "<circle clip-path=\"url(#clip682)\" style=\"fill:#009af9; stroke:none; fill-opacity:0\" cx=\"1380.59\" cy=\"929.658\" r=\"2\"/>\n",
       "<circle clip-path=\"url(#clip682)\" style=\"fill:#009af9; stroke:none; fill-opacity:0\" cx=\"1621.56\" cy=\"889.149\" r=\"2\"/>\n",
       "<circle clip-path=\"url(#clip682)\" style=\"fill:#009af9; stroke:none; fill-opacity:0\" cx=\"1300.01\" cy=\"1337.68\" r=\"2\"/>\n",
       "<path clip-path=\"url(#clip680)\" d=\"M1168.57 245.962 Q1165.85 250.62 1164.54 255.177 Q1163.22 259.735 1163.22 264.414 Q1163.22 269.092 1164.54 273.69 Q1165.88 278.268 1168.57 282.906 L1165.33 282.906 Q1162.29 278.146 1160.77 273.548 Q1159.27 268.951 1159.27 264.414 Q1159.27 259.897 1160.77 255.319 Q1162.27 250.742 1165.33 245.962 L1168.57 245.962 Z\" fill=\"#000000\" fill-rule=\"nonzero\" fill-opacity=\"1\" /><path clip-path=\"url(#clip680)\" d=\"M1175.21 245.962 L1178.45 245.962 Q1181.49 250.742 1182.99 255.319 Q1184.51 259.897 1184.51 264.414 Q1184.51 268.951 1182.99 273.548 Q1181.49 278.146 1178.45 282.906 L1175.21 282.906 Q1177.91 278.268 1179.22 273.69 Q1180.56 269.092 1180.56 264.414 Q1180.56 259.735 1179.22 255.177 Q1177.91 250.62 1175.21 245.962 Z\" fill=\"#000000\" fill-rule=\"nonzero\" fill-opacity=\"1\" /><path clip-path=\"url(#clip680)\" d=\"M1269 666.677 Q1266.29 671.336 1264.97 675.893 Q1263.65 680.45 1263.65 685.129 Q1263.65 689.808 1264.97 694.406 Q1266.31 698.983 1269 703.622 L1265.76 703.622 Q1262.72 698.862 1261.2 694.264 Q1259.71 689.666 1259.71 685.129 Q1259.71 680.612 1261.2 676.035 Q1262.7 671.457 1265.76 666.677 L1269 666.677 Z\" fill=\"#000000\" fill-rule=\"nonzero\" fill-opacity=\"1\" /><path clip-path=\"url(#clip680)\" d=\"M1277.47 694.71 L1284.15 694.71 L1284.15 671.64 L1276.88 673.098 L1276.88 669.371 L1284.11 667.913 L1288.2 667.913 L1288.2 694.71 L1294.89 694.71 L1294.89 698.153 L1277.47 698.153 L1277.47 694.71 Z\" fill=\"#000000\" fill-rule=\"nonzero\" fill-opacity=\"1\" /><path clip-path=\"url(#clip680)\" d=\"M1311.9 683.792 Q1308.98 683.792 1307.3 685.352 Q1305.64 686.912 1305.64 689.646 Q1305.64 692.38 1307.3 693.94 Q1308.98 695.499 1311.9 695.499 Q1314.82 695.499 1316.5 693.94 Q1318.18 692.36 1318.18 689.646 Q1318.18 686.912 1316.5 685.352 Q1314.84 683.792 1311.9 683.792 M1307.81 682.05 Q1305.18 681.402 1303.7 679.6 Q1302.24 677.797 1302.24 675.204 Q1302.24 671.579 1304.81 669.472 Q1307.4 667.366 1311.9 667.366 Q1316.42 667.366 1318.99 669.472 Q1321.56 671.579 1321.56 675.204 Q1321.56 677.797 1320.08 679.6 Q1318.63 681.402 1316.01 682.05 Q1318.97 682.739 1320.61 684.744 Q1322.27 686.75 1322.27 689.646 Q1322.27 694.041 1319.58 696.391 Q1316.9 698.74 1311.9 698.74 Q1306.9 698.74 1304.2 696.391 Q1301.53 694.041 1301.53 689.646 Q1301.53 686.75 1303.19 684.744 Q1304.85 682.739 1307.81 682.05 M1306.31 675.589 Q1306.31 677.939 1307.77 679.255 Q1309.25 680.572 1311.9 680.572 Q1314.53 680.572 1316.01 679.255 Q1317.51 677.939 1317.51 675.589 Q1317.51 673.24 1316.01 671.923 Q1314.53 670.607 1311.9 670.607 Q1309.25 670.607 1307.77 671.923 Q1306.31 673.24 1306.31 675.589 Z\" fill=\"#000000\" fill-rule=\"nonzero\" fill-opacity=\"1\" /><path clip-path=\"url(#clip680)\" d=\"M1329.97 693.008 L1334.24 693.008 L1334.24 696.492 L1330.92 702.973 L1328.31 702.973 L1329.97 696.492 L1329.97 693.008 Z\" fill=\"#000000\" fill-rule=\"nonzero\" fill-opacity=\"1\" /><path clip-path=\"url(#clip680)\" d=\"M1341.61 666.677 L1344.86 666.677 Q1347.89 671.457 1349.39 676.035 Q1350.91 680.612 1350.91 685.129 Q1350.91 689.666 1349.39 694.264 Q1347.89 698.862 1344.86 703.622 L1341.61 703.622 Q1344.31 698.983 1345.62 694.406 Q1346.96 689.808 1346.96 685.129 Q1346.96 680.45 1345.62 675.893 Q1344.31 671.336 1341.61 666.677 Z\" fill=\"#000000\" fill-rule=\"nonzero\" fill-opacity=\"1\" /><path clip-path=\"url(#clip680)\" d=\"M712.174 682.366 Q709.46 687.024 708.144 691.582 Q706.827 696.139 706.827 700.818 Q706.827 705.497 708.144 710.094 Q709.481 714.672 712.174 719.31 L708.934 719.31 Q705.896 714.55 704.377 709.953 Q702.878 705.355 702.878 700.818 Q702.878 696.301 704.377 691.723 Q705.875 687.146 708.934 682.366 L712.174 682.366 Z\" fill=\"#000000\" fill-rule=\"nonzero\" fill-opacity=\"1\" /><path clip-path=\"url(#clip680)\" d=\"M723.456 710.398 L737.736 710.398 L737.736 713.841 L718.534 713.841 L718.534 710.398 Q720.864 707.988 724.874 703.937 Q728.905 699.866 729.938 698.691 Q731.902 696.483 732.672 694.964 Q733.462 693.425 733.462 691.946 Q733.462 689.536 731.761 688.017 Q730.079 686.498 727.365 686.498 Q725.441 686.498 723.294 687.166 Q721.167 687.835 718.737 689.192 L718.737 685.06 Q721.208 684.067 723.355 683.561 Q725.502 683.055 727.284 683.055 Q731.983 683.055 734.779 685.404 Q737.574 687.754 737.574 691.683 Q737.574 693.546 736.865 695.227 Q736.176 696.888 734.333 699.157 Q733.827 699.744 731.112 702.56 Q728.398 705.355 723.456 710.398 Z\" fill=\"#000000\" fill-rule=\"nonzero\" fill-opacity=\"1\" /><path clip-path=\"url(#clip680)\" d=\"M746.364 683.601 L762.426 683.601 L762.426 687.045 L750.111 687.045 L750.111 694.458 Q751.002 694.154 751.894 694.012 Q752.785 693.85 753.676 693.85 Q758.74 693.85 761.697 696.625 Q764.654 699.4 764.654 704.139 Q764.654 709.021 761.616 711.735 Q758.578 714.429 753.048 714.429 Q751.144 714.429 749.159 714.105 Q747.195 713.781 745.088 713.132 L745.088 709.021 Q746.911 710.013 748.855 710.499 Q750.8 710.986 752.967 710.986 Q756.471 710.986 758.517 709.142 Q760.563 707.299 760.563 704.139 Q760.563 700.98 758.517 699.137 Q756.471 697.293 752.967 697.293 Q751.326 697.293 749.686 697.658 Q748.066 698.023 746.364 698.792 L746.364 683.601 Z\" fill=\"#000000\" fill-rule=\"nonzero\" fill-opacity=\"1\" /><path clip-path=\"url(#clip680)\" d=\"M773.141 708.697 L777.414 708.697 L777.414 712.181 L774.093 718.662 L771.48 718.662 L773.141 712.181 L773.141 708.697 Z\" fill=\"#000000\" fill-rule=\"nonzero\" fill-opacity=\"1\" /><path clip-path=\"url(#clip680)\" d=\"M784.787 682.366 L788.028 682.366 Q791.066 687.146 792.565 691.723 Q794.084 696.301 794.084 700.818 Q794.084 705.355 792.565 709.953 Q791.066 714.55 788.028 719.31 L784.787 719.31 Q787.481 714.672 788.797 710.094 Q790.134 705.497 790.134 700.818 Q790.134 696.139 788.797 691.582 Q787.481 687.024 784.787 682.366 Z\" fill=\"#000000\" fill-rule=\"nonzero\" fill-opacity=\"1\" /><path clip-path=\"url(#clip680)\" d=\"M946.056 689.573 Q943.342 694.231 942.026 698.788 Q940.709 703.346 940.709 708.024 Q940.709 712.703 942.026 717.301 Q943.363 721.878 946.056 726.517 L942.816 726.517 Q939.778 721.757 938.258 717.159 Q936.76 712.561 936.76 708.024 Q936.76 703.508 938.258 698.93 Q939.757 694.353 942.816 689.573 L946.056 689.573 Z\" fill=\"#000000\" fill-rule=\"nonzero\" fill-opacity=\"1\" /><path clip-path=\"url(#clip680)\" d=\"M954.523 717.605 L961.207 717.605 L961.207 694.535 L953.935 695.993 L953.935 692.266 L961.166 690.808 L965.258 690.808 L965.258 717.605 L971.942 717.605 L971.942 721.048 L954.523 721.048 L954.523 717.605 Z\" fill=\"#000000\" fill-rule=\"nonzero\" fill-opacity=\"1\" /><path clip-path=\"url(#clip680)\" d=\"M989.462 704.298 Q986.707 704.298 985.087 706.181 Q983.487 708.065 983.487 711.346 Q983.487 714.607 985.087 716.511 Q986.707 718.395 989.462 718.395 Q992.217 718.395 993.817 716.511 Q995.437 714.607 995.437 711.346 Q995.437 708.065 993.817 706.181 Q992.217 704.298 989.462 704.298 M997.584 691.476 L997.584 695.203 Q996.045 694.474 994.465 694.089 Q992.905 693.704 991.366 693.704 Q987.315 693.704 985.168 696.439 Q983.041 699.173 982.737 704.703 Q983.932 702.94 985.735 702.009 Q987.538 701.057 989.705 701.057 Q994.262 701.057 996.895 703.832 Q999.549 706.586 999.549 711.346 Q999.549 716.005 996.794 718.82 Q994.039 721.635 989.462 721.635 Q984.216 721.635 981.441 717.625 Q978.666 713.594 978.666 705.958 Q978.666 698.788 982.069 694.535 Q985.472 690.261 991.204 690.261 Q992.743 690.261 994.303 690.565 Q995.883 690.869 997.584 691.476 Z\" fill=\"#000000\" fill-rule=\"nonzero\" fill-opacity=\"1\" /><path clip-path=\"url(#clip680)\" d=\"M1007.02 715.903 L1011.3 715.903 L1011.3 719.387 L1007.97 725.869 L1005.36 725.869 L1007.02 719.387 L1007.02 715.903 Z\" fill=\"#000000\" fill-rule=\"nonzero\" fill-opacity=\"1\" /><path clip-path=\"url(#clip680)\" d=\"M1018.67 689.573 L1021.91 689.573 Q1024.95 694.353 1026.45 698.93 Q1027.97 703.508 1027.97 708.024 Q1027.97 712.561 1026.45 717.159 Q1024.95 721.757 1021.91 726.517 L1018.67 726.517 Q1021.36 721.878 1022.68 717.301 Q1024.02 712.703 1024.02 708.024 Q1024.02 703.346 1022.68 698.788 Q1021.36 694.231 1018.67 689.573 Z\" fill=\"#000000\" fill-rule=\"nonzero\" fill-opacity=\"1\" /><path clip-path=\"url(#clip680)\" d=\"M626.011 608.363 Q623.297 613.021 621.98 617.579 Q620.664 622.136 620.664 626.815 Q620.664 631.493 621.98 636.091 Q623.317 640.669 626.011 645.307 L622.77 645.307 Q619.732 640.547 618.213 635.949 Q616.714 631.352 616.714 626.815 Q616.714 622.298 618.213 617.72 Q619.712 613.143 622.77 608.363 L626.011 608.363 Z\" fill=\"#000000\" fill-rule=\"nonzero\" fill-opacity=\"1\" /><path clip-path=\"url(#clip680)\" d=\"M637.293 636.395 L651.572 636.395 L651.572 639.838 L632.371 639.838 L632.371 636.395 Q634.7 633.985 638.711 629.934 Q642.741 625.863 643.774 624.688 Q645.739 622.48 646.509 620.961 Q647.298 619.422 647.298 617.943 Q647.298 615.533 645.597 614.014 Q643.916 612.495 641.202 612.495 Q639.278 612.495 637.131 613.163 Q635.004 613.832 632.573 615.189 L632.573 611.057 Q635.044 610.064 637.191 609.558 Q639.338 609.051 641.121 609.051 Q645.82 609.051 648.615 611.401 Q651.41 613.751 651.41 617.68 Q651.41 619.543 650.701 621.224 Q650.013 622.885 648.169 625.154 Q647.663 625.741 644.949 628.557 Q642.235 631.352 637.293 636.395 Z\" fill=\"#000000\" fill-rule=\"nonzero\" fill-opacity=\"1\" /><path clip-path=\"url(#clip680)\" d=\"M668.91 625.478 Q665.993 625.478 664.312 627.037 Q662.651 628.597 662.651 631.331 Q662.651 634.066 664.312 635.625 Q665.993 637.185 668.91 637.185 Q671.827 637.185 673.508 635.625 Q675.189 634.046 675.189 631.331 Q675.189 628.597 673.508 627.037 Q671.847 625.478 668.91 625.478 M664.819 623.736 Q662.186 623.088 660.707 621.285 Q659.249 619.483 659.249 616.89 Q659.249 613.264 661.821 611.158 Q664.414 609.051 668.91 609.051 Q673.427 609.051 675.999 611.158 Q678.571 613.264 678.571 616.89 Q678.571 619.483 677.093 621.285 Q675.635 623.088 673.022 623.736 Q675.979 624.425 677.62 626.43 Q679.28 628.435 679.28 631.331 Q679.28 635.727 676.587 638.076 Q673.913 640.426 668.91 640.426 Q663.907 640.426 661.213 638.076 Q658.54 635.727 658.54 631.331 Q658.54 628.435 660.201 626.43 Q661.861 624.425 664.819 623.736 M663.32 617.275 Q663.32 619.624 664.778 620.941 Q666.257 622.257 668.91 622.257 Q671.543 622.257 673.022 620.941 Q674.521 619.624 674.521 617.275 Q674.521 614.925 673.022 613.609 Q671.543 612.292 668.91 612.292 Q666.257 612.292 664.778 613.609 Q663.32 614.925 663.32 617.275 Z\" fill=\"#000000\" fill-rule=\"nonzero\" fill-opacity=\"1\" /><path clip-path=\"url(#clip680)\" d=\"M686.977 634.694 L691.251 634.694 L691.251 638.177 L687.929 644.659 L685.316 644.659 L686.977 638.177 L686.977 634.694 Z\" fill=\"#000000\" fill-rule=\"nonzero\" fill-opacity=\"1\" /><path clip-path=\"url(#clip680)\" d=\"M698.623 608.363 L701.864 608.363 Q704.902 613.143 706.401 617.72 Q707.92 622.298 707.92 626.815 Q707.92 631.352 706.401 635.949 Q704.902 640.547 701.864 645.307 L698.623 645.307 Q701.317 640.669 702.634 636.091 Q703.971 631.493 703.971 626.815 Q703.971 622.136 702.634 617.579 Q701.317 613.021 698.623 608.363 Z\" fill=\"#000000\" fill-rule=\"nonzero\" fill-opacity=\"1\" /><path clip-path=\"url(#clip680)\" d=\"M1608.63 555.376 Q1605.92 560.035 1604.6 564.592 Q1603.28 569.149 1603.28 573.828 Q1603.28 578.507 1604.6 583.105 Q1605.94 587.682 1608.63 592.321 L1605.39 592.321 Q1602.35 587.561 1600.83 582.963 Q1599.33 578.365 1599.33 573.828 Q1599.33 569.311 1600.83 564.734 Q1602.33 560.156 1605.39 555.376 L1608.63 555.376 Z\" fill=\"#000000\" fill-rule=\"nonzero\" fill-opacity=\"1\" /><path clip-path=\"url(#clip680)\" d=\"M1619.91 583.409 L1634.19 583.409 L1634.19 586.852 L1614.99 586.852 L1614.99 583.409 Q1617.32 580.998 1621.33 576.947 Q1625.36 572.876 1626.39 571.701 Q1628.36 569.494 1629.13 567.975 Q1629.92 566.435 1629.92 564.957 Q1629.92 562.546 1628.22 561.027 Q1626.54 559.508 1623.82 559.508 Q1621.9 559.508 1619.75 560.177 Q1617.62 560.845 1615.19 562.202 L1615.19 558.07 Q1617.67 557.078 1619.81 556.571 Q1621.96 556.065 1623.74 556.065 Q1628.44 556.065 1631.24 558.415 Q1634.03 560.764 1634.03 564.693 Q1634.03 566.557 1633.32 568.238 Q1632.63 569.899 1630.79 572.167 Q1630.28 572.755 1627.57 575.57 Q1624.86 578.365 1619.91 583.409 Z\" fill=\"#000000\" fill-rule=\"nonzero\" fill-opacity=\"1\" /><path clip-path=\"url(#clip680)\" d=\"M1643.21 581.707 L1647.48 581.707 L1647.48 585.191 L1644.16 591.672 L1641.55 591.672 L1643.21 585.191 L1643.21 581.707 Z\" fill=\"#000000\" fill-rule=\"nonzero\" fill-opacity=\"1\" /><path clip-path=\"url(#clip680)\" d=\"M1654.85 555.376 L1658.09 555.376 Q1661.13 560.156 1662.63 564.734 Q1664.15 569.311 1664.15 573.828 Q1664.15 578.365 1662.63 582.963 Q1661.13 587.561 1658.09 592.321 L1654.85 592.321 Q1657.55 587.682 1658.86 583.105 Q1660.2 578.507 1660.2 573.828 Q1660.2 569.149 1658.86 564.592 Q1657.55 560.035 1654.85 555.376 Z\" fill=\"#000000\" fill-rule=\"nonzero\" fill-opacity=\"1\" /><path clip-path=\"url(#clip680)\" d=\"M1480.39 540.033 Q1477.67 544.691 1476.36 549.249 Q1475.04 553.806 1475.04 558.485 Q1475.04 563.163 1476.36 567.761 Q1477.7 572.339 1480.39 576.977 L1477.15 576.977 Q1474.11 572.217 1472.59 567.619 Q1471.09 563.022 1471.09 558.485 Q1471.09 553.968 1472.59 549.39 Q1474.09 544.813 1477.15 540.033 L1480.39 540.033 Z\" fill=\"#000000\" fill-rule=\"nonzero\" fill-opacity=\"1\" /><path clip-path=\"url(#clip680)\" d=\"M1488.19 541.268 L1504.25 541.268 L1504.25 544.712 L1491.93 544.712 L1491.93 552.125 Q1492.83 551.821 1493.72 551.679 Q1494.61 551.517 1495.5 551.517 Q1500.56 551.517 1503.52 554.292 Q1506.48 557.067 1506.48 561.806 Q1506.48 566.688 1503.44 569.402 Q1500.4 572.096 1494.87 572.096 Q1492.97 572.096 1490.98 571.772 Q1489.02 571.448 1486.91 570.799 L1486.91 566.688 Q1488.73 567.68 1490.68 568.166 Q1492.62 568.652 1494.79 568.652 Q1498.29 568.652 1500.34 566.809 Q1502.39 564.966 1502.39 561.806 Q1502.39 558.647 1500.34 556.803 Q1498.29 554.96 1494.79 554.96 Q1493.15 554.96 1491.51 555.325 Q1489.89 555.689 1488.19 556.459 L1488.19 541.268 Z\" fill=\"#000000\" fill-rule=\"nonzero\" fill-opacity=\"1\" /><path clip-path=\"url(#clip680)\" d=\"M1514.96 566.364 L1519.24 566.364 L1519.24 569.847 L1515.92 576.329 L1513.3 576.329 L1514.96 569.847 L1514.96 566.364 Z\" fill=\"#000000\" fill-rule=\"nonzero\" fill-opacity=\"1\" /><path clip-path=\"url(#clip680)\" d=\"M1526.61 540.033 L1529.85 540.033 Q1532.89 544.813 1534.39 549.39 Q1535.91 553.968 1535.91 558.485 Q1535.91 563.022 1534.39 567.619 Q1532.89 572.217 1529.85 576.977 L1526.61 576.977 Q1529.3 572.339 1530.62 567.761 Q1531.96 563.163 1531.96 558.485 Q1531.96 553.806 1530.62 549.249 Q1529.3 544.691 1526.61 540.033 Z\" fill=\"#000000\" fill-rule=\"nonzero\" fill-opacity=\"1\" /><path clip-path=\"url(#clip680)\" d=\"M1681.13 561.707 Q1678.41 566.366 1677.1 570.923 Q1675.78 575.48 1675.78 580.159 Q1675.78 584.838 1677.1 589.436 Q1678.43 594.013 1681.13 598.652 L1677.89 598.652 Q1674.85 593.892 1673.33 589.294 Q1671.83 584.696 1671.83 580.159 Q1671.83 575.642 1673.33 571.065 Q1674.83 566.487 1677.89 561.707 L1681.13 561.707 Z\" fill=\"#000000\" fill-rule=\"nonzero\" fill-opacity=\"1\" /><path clip-path=\"url(#clip680)\" d=\"M1687.85 562.943 L1707.3 562.943 L1707.3 564.685 L1696.32 593.183 L1692.05 593.183 L1702.38 566.386 L1687.85 566.386 L1687.85 562.943 Z\" fill=\"#000000\" fill-rule=\"nonzero\" fill-opacity=\"1\" /><path clip-path=\"url(#clip680)\" d=\"M1715.7 588.038 L1719.98 588.038 L1719.98 591.522 L1716.66 598.003 L1714.04 598.003 L1715.7 591.522 L1715.7 588.038 Z\" fill=\"#000000\" fill-rule=\"nonzero\" fill-opacity=\"1\" /><path clip-path=\"url(#clip680)\" d=\"M1727.35 561.707 L1730.59 561.707 Q1733.63 566.487 1735.13 571.065 Q1736.65 575.642 1736.65 580.159 Q1736.65 584.696 1735.13 589.294 Q1733.63 593.892 1730.59 598.652 L1727.35 598.652 Q1730.04 594.013 1731.36 589.436 Q1732.7 584.838 1732.7 580.159 Q1732.7 575.48 1731.36 570.923 Q1730.04 566.366 1727.35 561.707 Z\" fill=\"#000000\" fill-rule=\"nonzero\" fill-opacity=\"1\" /><path clip-path=\"url(#clip680)\" d=\"M896.387 681.525 Q893.673 686.183 892.356 690.74 Q891.04 695.298 891.04 699.977 Q891.04 704.655 892.356 709.253 Q893.693 713.831 896.387 718.469 L893.146 718.469 Q890.108 713.709 888.589 709.111 Q887.09 704.514 887.09 699.977 Q887.09 695.46 888.589 690.882 Q890.088 686.305 893.146 681.525 L896.387 681.525 Z\" fill=\"#000000\" fill-rule=\"nonzero\" fill-opacity=\"1\" /><path clip-path=\"url(#clip680)\" d=\"M904.853 709.557 L911.537 709.557 L911.537 686.487 L904.266 687.945 L904.266 684.219 L911.497 682.76 L915.588 682.76 L915.588 709.557 L922.272 709.557 L922.272 713 L904.853 713 L904.853 709.557 Z\" fill=\"#000000\" fill-rule=\"nonzero\" fill-opacity=\"1\" /><path clip-path=\"url(#clip680)\" d=\"M941.777 686.325 L931.448 702.468 L941.777 702.468 L941.777 686.325 M940.704 682.76 L945.849 682.76 L945.849 702.468 L950.163 702.468 L950.163 705.871 L945.849 705.871 L945.849 713 L941.777 713 L941.777 705.871 L928.126 705.871 L928.126 701.921 L940.704 682.76 Z\" fill=\"#000000\" fill-rule=\"nonzero\" fill-opacity=\"1\" /><path clip-path=\"url(#clip680)\" d=\"M957.353 707.856 L961.627 707.856 L961.627 711.339 L958.305 717.821 L955.692 717.821 L957.353 711.339 L957.353 707.856 Z\" fill=\"#000000\" fill-rule=\"nonzero\" fill-opacity=\"1\" /><path clip-path=\"url(#clip680)\" d=\"M968.999 681.525 L972.24 681.525 Q975.278 686.305 976.777 690.882 Q978.296 695.46 978.296 699.977 Q978.296 704.514 976.777 709.111 Q975.278 713.709 972.24 718.469 L968.999 718.469 Q971.693 713.831 973.01 709.253 Q974.347 704.655 974.347 699.977 Q974.347 695.298 973.01 690.74 Q971.693 686.183 968.999 681.525 Z\" fill=\"#000000\" fill-rule=\"nonzero\" fill-opacity=\"1\" /><path clip-path=\"url(#clip680)\" d=\"M1194.32 664.171 Q1191.61 668.83 1190.29 673.387 Q1188.98 677.944 1188.98 682.623 Q1188.98 687.302 1190.29 691.899 Q1191.63 696.477 1194.32 701.115 L1191.08 701.115 Q1188.05 696.355 1186.53 691.758 Q1185.03 687.16 1185.03 682.623 Q1185.03 678.106 1186.53 673.529 Q1188.03 668.951 1191.08 664.171 L1194.32 664.171 Z\" fill=\"#000000\" fill-rule=\"nonzero\" fill-opacity=\"1\" /><path clip-path=\"url(#clip680)\" d=\"M1205.61 692.203 L1219.89 692.203 L1219.89 695.647 L1200.68 695.647 L1200.68 692.203 Q1203.01 689.793 1207.02 685.742 Q1211.05 681.671 1212.09 680.496 Q1214.05 678.288 1214.82 676.769 Q1215.61 675.23 1215.61 673.751 Q1215.61 671.341 1213.91 669.822 Q1212.23 668.303 1209.52 668.303 Q1207.59 668.303 1205.44 668.971 Q1203.32 669.64 1200.89 670.997 L1200.89 666.865 Q1203.36 665.872 1205.5 665.366 Q1207.65 664.86 1209.43 664.86 Q1214.13 664.86 1216.93 667.209 Q1219.72 669.559 1219.72 673.488 Q1219.72 675.351 1219.01 677.033 Q1218.33 678.693 1216.48 680.962 Q1215.98 681.549 1213.26 684.365 Q1210.55 687.16 1205.61 692.203 Z\" fill=\"#000000\" fill-rule=\"nonzero\" fill-opacity=\"1\" /><path clip-path=\"url(#clip680)\" d=\"M1232 692.203 L1246.28 692.203 L1246.28 695.647 L1227.08 695.647 L1227.08 692.203 Q1229.41 689.793 1233.42 685.742 Q1237.45 681.671 1238.48 680.496 Q1240.44 678.288 1241.21 676.769 Q1242 675.23 1242 673.751 Q1242 671.341 1240.3 669.822 Q1238.62 668.303 1235.91 668.303 Q1233.98 668.303 1231.84 668.971 Q1229.71 669.64 1227.28 670.997 L1227.28 666.865 Q1229.75 665.872 1231.9 665.366 Q1234.04 664.86 1235.83 664.86 Q1240.52 664.86 1243.32 667.209 Q1246.12 669.559 1246.12 673.488 Q1246.12 675.351 1245.41 677.033 Q1244.72 678.693 1242.87 680.962 Q1242.37 681.549 1239.65 684.365 Q1236.94 687.16 1232 692.203 Z\" fill=\"#000000\" fill-rule=\"nonzero\" fill-opacity=\"1\" /><path clip-path=\"url(#clip680)\" d=\"M1255.29 690.502 L1259.56 690.502 L1259.56 693.986 L1256.24 700.467 L1253.63 700.467 L1255.29 693.986 L1255.29 690.502 Z\" fill=\"#000000\" fill-rule=\"nonzero\" fill-opacity=\"1\" /><path clip-path=\"url(#clip680)\" d=\"M1266.94 664.171 L1270.18 664.171 Q1273.22 668.951 1274.71 673.529 Q1276.23 678.106 1276.23 682.623 Q1276.23 687.16 1274.71 691.758 Q1273.22 696.355 1270.18 701.115 L1266.94 701.115 Q1269.63 696.477 1270.95 691.899 Q1272.28 687.302 1272.28 682.623 Q1272.28 677.944 1270.95 673.387 Q1269.63 668.83 1266.94 664.171 Z\" fill=\"#000000\" fill-rule=\"nonzero\" fill-opacity=\"1\" /><path clip-path=\"url(#clip680)\" d=\"M965.385 949.051 Q962.671 953.709 961.354 958.266 Q960.037 962.824 960.037 967.503 Q960.037 972.181 961.354 976.779 Q962.691 981.357 965.385 985.995 L962.144 985.995 Q959.106 981.235 957.587 976.637 Q956.088 972.04 956.088 967.503 Q956.088 962.986 957.587 958.408 Q959.085 953.831 962.144 949.051 L965.385 949.051 Z\" fill=\"#000000\" fill-rule=\"nonzero\" fill-opacity=\"1\" /><path clip-path=\"url(#clip680)\" d=\"M973.851 977.083 L980.535 977.083 L980.535 954.013 L973.264 955.471 L973.264 951.745 L980.495 950.286 L984.586 950.286 L984.586 977.083 L991.27 977.083 L991.27 980.526 L973.851 980.526 L973.851 977.083 Z\" fill=\"#000000\" fill-rule=\"nonzero\" fill-opacity=\"1\" /><path clip-path=\"url(#clip680)\" d=\"M1008.28 966.166 Q1005.37 966.166 1003.69 967.725 Q1002.03 969.285 1002.03 972.019 Q1002.03 974.754 1003.69 976.313 Q1005.37 977.873 1008.28 977.873 Q1011.2 977.873 1012.88 976.313 Q1014.56 974.733 1014.56 972.019 Q1014.56 969.285 1012.88 967.725 Q1011.22 966.166 1008.28 966.166 M1004.19 964.424 Q1001.56 963.776 1000.08 961.973 Q998.622 960.17 998.622 957.578 Q998.622 953.952 1001.19 951.846 Q1003.79 949.739 1008.28 949.739 Q1012.8 949.739 1015.37 951.846 Q1017.95 953.952 1017.95 957.578 Q1017.95 960.17 1016.47 961.973 Q1015.01 963.776 1012.4 964.424 Q1015.35 965.112 1016.99 967.118 Q1018.65 969.123 1018.65 972.019 Q1018.65 976.415 1015.96 978.764 Q1013.29 981.114 1008.28 981.114 Q1003.28 981.114 1000.59 978.764 Q997.913 976.415 997.913 972.019 Q997.913 969.123 999.574 967.118 Q1001.24 965.112 1004.19 964.424 M1002.69 957.963 Q1002.69 960.312 1004.15 961.629 Q1005.63 962.945 1008.28 962.945 Q1010.92 962.945 1012.4 961.629 Q1013.89 960.312 1013.89 957.963 Q1013.89 955.613 1012.4 954.297 Q1010.92 952.98 1008.28 952.98 Q1005.63 952.98 1004.15 954.297 Q1002.69 955.613 1002.69 957.963 Z\" fill=\"#000000\" fill-rule=\"nonzero\" fill-opacity=\"1\" /><path clip-path=\"url(#clip680)\" d=\"M1026.35 975.382 L1030.62 975.382 L1030.62 978.865 L1027.3 985.347 L1024.69 985.347 L1026.35 978.865 L1026.35 975.382 Z\" fill=\"#000000\" fill-rule=\"nonzero\" fill-opacity=\"1\" /><path clip-path=\"url(#clip680)\" d=\"M1055.82 977.083 L1070.1 977.083 L1070.1 980.526 L1050.9 980.526 L1050.9 977.083 Q1053.23 974.673 1057.24 970.622 Q1061.27 966.551 1062.3 965.376 Q1064.27 963.168 1065.04 961.649 Q1065.83 960.11 1065.83 958.631 Q1065.83 956.221 1064.13 954.702 Q1062.44 953.183 1059.73 953.183 Q1057.81 953.183 1055.66 953.851 Q1053.53 954.519 1051.1 955.876 L1051.1 951.745 Q1053.57 950.752 1055.72 950.246 Q1057.87 949.739 1059.65 949.739 Q1064.35 949.739 1067.14 952.089 Q1069.94 954.438 1069.94 958.368 Q1069.94 960.231 1069.23 961.912 Q1068.54 963.573 1066.7 965.842 Q1066.19 966.429 1063.48 969.244 Q1060.76 972.04 1055.82 977.083 Z\" fill=\"#000000\" fill-rule=\"nonzero\" fill-opacity=\"1\" /><path clip-path=\"url(#clip680)\" d=\"M1078.73 950.286 L1094.79 950.286 L1094.79 953.729 L1082.48 953.729 L1082.48 961.143 Q1083.37 960.839 1084.26 960.697 Q1085.15 960.535 1086.04 960.535 Q1091.1 960.535 1094.06 963.31 Q1097.02 966.085 1097.02 970.824 Q1097.02 975.706 1093.98 978.42 Q1090.94 981.114 1085.41 981.114 Q1083.51 981.114 1081.52 980.789 Q1079.56 980.465 1077.45 979.817 L1077.45 975.706 Q1079.28 976.698 1081.22 977.184 Q1083.16 977.67 1085.33 977.67 Q1088.84 977.67 1090.88 975.827 Q1092.93 973.984 1092.93 970.824 Q1092.93 967.665 1090.88 965.821 Q1088.84 963.978 1085.33 963.978 Q1083.69 963.978 1082.05 964.343 Q1080.43 964.707 1078.73 965.477 L1078.73 950.286 Z\" fill=\"#000000\" fill-rule=\"nonzero\" fill-opacity=\"1\" /><path clip-path=\"url(#clip680)\" d=\"M1103.97 949.051 L1107.21 949.051 Q1110.24 953.831 1111.74 958.408 Q1113.26 962.986 1113.26 967.503 Q1113.26 972.04 1111.74 976.637 Q1110.24 981.235 1107.21 985.995 L1103.97 985.995 Q1106.66 981.357 1107.98 976.779 Q1109.31 972.181 1109.31 967.503 Q1109.31 962.824 1107.98 958.266 Q1106.66 953.709 1103.97 949.051 Z\" fill=\"#000000\" fill-rule=\"nonzero\" fill-opacity=\"1\" /><path clip-path=\"url(#clip680)\" d=\"M727.53 1013.17 Q724.816 1017.83 723.499 1022.39 Q722.183 1026.95 722.183 1031.63 Q722.183 1036.3 723.499 1040.9 Q724.836 1045.48 727.53 1050.12 L724.289 1050.12 Q721.251 1045.36 719.732 1040.76 Q718.233 1036.16 718.233 1031.63 Q718.233 1027.11 719.732 1022.53 Q721.231 1017.95 724.289 1013.17 L727.53 1013.17 Z\" fill=\"#000000\" fill-rule=\"nonzero\" fill-opacity=\"1\" /><path clip-path=\"url(#clip680)\" d=\"M735.996 1041.21 L742.68 1041.21 L742.68 1018.14 L735.409 1019.59 L735.409 1015.87 L742.64 1014.41 L746.731 1014.41 L746.731 1041.21 L753.415 1041.21 L753.415 1044.65 L735.996 1044.65 L735.996 1041.21 Z\" fill=\"#000000\" fill-rule=\"nonzero\" fill-opacity=\"1\" /><path clip-path=\"url(#clip680)\" d=\"M770.935 1027.9 Q768.181 1027.9 766.56 1029.78 Q764.96 1031.67 764.96 1034.95 Q764.96 1038.21 766.56 1040.11 Q768.181 1042 770.935 1042 Q773.69 1042 775.29 1040.11 Q776.91 1038.21 776.91 1034.95 Q776.91 1031.67 775.29 1029.78 Q773.69 1027.9 770.935 1027.9 M779.057 1015.08 L779.057 1018.8 Q777.518 1018.08 775.938 1017.69 Q774.379 1017.31 772.839 1017.31 Q768.788 1017.31 766.641 1020.04 Q764.515 1022.77 764.211 1028.3 Q765.406 1026.54 767.208 1025.61 Q769.011 1024.66 771.178 1024.66 Q775.736 1024.66 778.369 1027.43 Q781.022 1030.19 781.022 1034.95 Q781.022 1039.61 778.267 1042.42 Q775.513 1045.24 770.935 1045.24 Q765.689 1045.24 762.915 1041.23 Q760.14 1037.2 760.14 1029.56 Q760.14 1022.39 763.542 1018.14 Q766.945 1013.86 772.677 1013.86 Q774.217 1013.86 775.776 1014.17 Q777.356 1014.47 779.057 1015.08 Z\" fill=\"#000000\" fill-rule=\"nonzero\" fill-opacity=\"1\" /><path clip-path=\"url(#clip680)\" d=\"M788.496 1039.51 L792.77 1039.51 L792.77 1042.99 L789.448 1049.47 L786.835 1049.47 L788.496 1042.99 L788.496 1039.51 Z\" fill=\"#000000\" fill-rule=\"nonzero\" fill-opacity=\"1\" /><path clip-path=\"url(#clip680)\" d=\"M817.966 1041.21 L832.246 1041.21 L832.246 1044.65 L813.044 1044.65 L813.044 1041.21 Q815.374 1038.8 819.384 1034.75 Q823.415 1030.67 824.448 1029.5 Q826.412 1027.29 827.182 1025.77 Q827.972 1024.23 827.972 1022.75 Q827.972 1020.34 826.271 1018.83 Q824.59 1017.31 821.875 1017.31 Q819.951 1017.31 817.804 1017.97 Q815.678 1018.64 813.247 1020 L813.247 1015.87 Q815.718 1014.88 817.865 1014.37 Q820.012 1013.86 821.794 1013.86 Q826.493 1013.86 829.289 1016.21 Q832.084 1018.56 832.084 1022.49 Q832.084 1024.35 831.375 1026.04 Q830.686 1027.7 828.843 1029.97 Q828.337 1030.55 825.623 1033.37 Q822.908 1036.16 817.966 1041.21 Z\" fill=\"#000000\" fill-rule=\"nonzero\" fill-opacity=\"1\" /><path clip-path=\"url(#clip680)\" d=\"M849.584 1030.29 Q846.667 1030.29 844.986 1031.85 Q843.325 1033.41 843.325 1036.14 Q843.325 1038.88 844.986 1040.44 Q846.667 1042 849.584 1042 Q852.5 1042 854.181 1040.44 Q855.863 1038.86 855.863 1036.14 Q855.863 1033.41 854.181 1031.85 Q852.521 1030.29 849.584 1030.29 M845.492 1028.55 Q842.859 1027.9 841.381 1026.1 Q839.922 1024.29 839.922 1021.7 Q839.922 1018.08 842.495 1015.97 Q845.087 1013.86 849.584 1013.86 Q854.1 1013.86 856.673 1015.97 Q859.245 1018.08 859.245 1021.7 Q859.245 1024.29 857.766 1026.1 Q856.308 1027.9 853.695 1028.55 Q856.652 1029.24 858.293 1031.24 Q859.954 1033.25 859.954 1036.14 Q859.954 1040.54 857.26 1042.89 Q854.586 1045.24 849.584 1045.24 Q844.581 1045.24 841.887 1042.89 Q839.213 1040.54 839.213 1036.14 Q839.213 1033.25 840.874 1031.24 Q842.535 1029.24 845.492 1028.55 M843.993 1022.09 Q843.993 1024.44 845.452 1025.75 Q846.93 1027.07 849.584 1027.07 Q852.217 1027.07 853.695 1025.75 Q855.194 1024.44 855.194 1022.09 Q855.194 1019.74 853.695 1018.42 Q852.217 1017.1 849.584 1017.1 Q846.93 1017.1 845.452 1018.42 Q843.993 1019.74 843.993 1022.09 Z\" fill=\"#000000\" fill-rule=\"nonzero\" fill-opacity=\"1\" /><path clip-path=\"url(#clip680)\" d=\"M866.111 1013.17 L869.352 1013.17 Q872.39 1017.95 873.889 1022.53 Q875.408 1027.11 875.408 1031.63 Q875.408 1036.16 873.889 1040.76 Q872.39 1045.36 869.352 1050.12 L866.111 1050.12 Q868.805 1045.48 870.122 1040.9 Q871.459 1036.3 871.459 1031.63 Q871.459 1026.95 870.122 1022.39 Q868.805 1017.83 866.111 1013.17 Z\" fill=\"#000000\" fill-rule=\"nonzero\" fill-opacity=\"1\" /><path clip-path=\"url(#clip680)\" d=\"M1694.78 970.171 Q1692.07 974.829 1690.75 979.387 Q1689.44 983.944 1689.44 988.623 Q1689.44 993.301 1690.75 997.899 Q1692.09 1002.48 1694.78 1007.12 L1691.54 1007.12 Q1688.5 1002.36 1686.99 997.757 Q1685.49 993.16 1685.49 988.623 Q1685.49 984.106 1686.99 979.528 Q1688.48 974.951 1691.54 970.171 L1694.78 970.171 Z\" fill=\"#000000\" fill-rule=\"nonzero\" fill-opacity=\"1\" /><path clip-path=\"url(#clip680)\" d=\"M1706.07 998.203 L1720.34 998.203 L1720.34 1001.65 L1701.14 1001.65 L1701.14 998.203 Q1703.47 995.793 1707.48 991.742 Q1711.51 987.671 1712.55 986.496 Q1714.51 984.288 1715.28 982.769 Q1716.07 981.23 1716.07 979.751 Q1716.07 977.341 1714.37 975.822 Q1712.69 974.303 1709.97 974.303 Q1708.05 974.303 1705.9 974.971 Q1703.78 975.64 1701.35 976.997 L1701.35 972.865 Q1703.82 971.872 1705.96 971.366 Q1708.11 970.859 1709.89 970.859 Q1714.59 970.859 1717.39 973.209 Q1720.18 975.559 1720.18 979.488 Q1720.18 981.351 1719.47 983.032 Q1718.79 984.693 1716.94 986.962 Q1716.44 987.549 1713.72 990.365 Q1711.01 993.16 1706.07 998.203 Z\" fill=\"#000000\" fill-rule=\"nonzero\" fill-opacity=\"1\" /><path clip-path=\"url(#clip680)\" d=\"M1729.36 996.502 L1733.63 996.502 L1733.63 999.985 L1730.31 1006.47 L1727.7 1006.47 L1729.36 999.985 L1729.36 996.502 Z\" fill=\"#000000\" fill-rule=\"nonzero\" fill-opacity=\"1\" /><path clip-path=\"url(#clip680)\" d=\"M1755.34 971.406 L1771.41 971.406 L1771.41 974.85 L1759.09 974.85 L1759.09 982.263 Q1759.98 981.959 1760.87 981.817 Q1761.77 981.655 1762.66 981.655 Q1767.72 981.655 1770.68 984.43 Q1773.63 987.205 1773.63 991.944 Q1773.63 996.826 1770.6 999.54 Q1767.56 1002.23 1762.03 1002.23 Q1760.12 1002.23 1758.14 1001.91 Q1756.18 1001.59 1754.07 1000.94 L1754.07 996.826 Q1755.89 997.818 1757.84 998.304 Q1759.78 998.79 1761.95 998.79 Q1765.45 998.79 1767.5 996.947 Q1769.54 995.104 1769.54 991.944 Q1769.54 988.785 1767.5 986.942 Q1765.45 985.098 1761.95 985.098 Q1760.31 985.098 1758.67 985.463 Q1757.05 985.828 1755.34 986.597 L1755.34 971.406 Z\" fill=\"#000000\" fill-rule=\"nonzero\" fill-opacity=\"1\" /><path clip-path=\"url(#clip680)\" d=\"M1780.58 970.171 L1783.82 970.171 Q1786.86 974.951 1788.36 979.528 Q1789.88 984.106 1789.88 988.623 Q1789.88 993.16 1788.36 997.757 Q1786.86 1002.36 1783.82 1007.12 L1780.58 1007.12 Q1783.28 1002.48 1784.59 997.899 Q1785.93 993.301 1785.93 988.623 Q1785.93 983.944 1784.59 979.387 Q1783.28 974.829 1780.58 970.171 Z\" fill=\"#000000\" fill-rule=\"nonzero\" fill-opacity=\"1\" /><path clip-path=\"url(#clip680)\" d=\"M1324.5 913.302 Q1321.78 917.961 1320.47 922.518 Q1319.15 927.075 1319.15 931.754 Q1319.15 936.433 1320.47 941.031 Q1321.8 945.608 1324.5 950.246 L1321.26 950.246 Q1318.22 945.487 1316.7 940.889 Q1315.2 936.291 1315.2 931.754 Q1315.2 927.237 1316.7 922.66 Q1318.2 918.082 1321.26 913.302 L1324.5 913.302 Z\" fill=\"#000000\" fill-rule=\"nonzero\" fill-opacity=\"1\" /><path clip-path=\"url(#clip680)\" d=\"M1331.22 914.538 L1350.67 914.538 L1350.67 916.28 L1339.69 944.778 L1335.41 944.778 L1345.74 917.981 L1331.22 917.981 L1331.22 914.538 Z\" fill=\"#000000\" fill-rule=\"nonzero\" fill-opacity=\"1\" /><path clip-path=\"url(#clip680)\" d=\"M1359.07 939.633 L1363.35 939.633 L1363.35 943.117 L1360.02 949.598 L1357.41 949.598 L1359.07 943.117 L1359.07 939.633 Z\" fill=\"#000000\" fill-rule=\"nonzero\" fill-opacity=\"1\" /><path clip-path=\"url(#clip680)\" d=\"M1385.73 941.334 L1392.41 941.334 L1392.41 918.264 L1385.14 919.723 L1385.14 915.996 L1392.37 914.538 L1396.46 914.538 L1396.46 941.334 L1403.15 941.334 L1403.15 944.778 L1385.73 944.778 L1385.73 941.334 Z\" fill=\"#000000\" fill-rule=\"nonzero\" fill-opacity=\"1\" /><path clip-path=\"url(#clip680)\" d=\"M1422.65 918.102 L1412.32 934.245 L1422.65 934.245 L1422.65 918.102 M1421.58 914.538 L1426.72 914.538 L1426.72 934.245 L1431.04 934.245 L1431.04 937.648 L1426.72 937.648 L1426.72 944.778 L1422.65 944.778 L1422.65 937.648 L1409 937.648 L1409 933.698 L1421.58 914.538 Z\" fill=\"#000000\" fill-rule=\"nonzero\" fill-opacity=\"1\" /><path clip-path=\"url(#clip680)\" d=\"M1436.69 913.302 L1439.93 913.302 Q1442.97 918.082 1444.47 922.66 Q1445.98 927.237 1445.98 931.754 Q1445.98 936.291 1444.47 940.889 Q1442.97 945.487 1439.93 950.246 L1436.69 950.246 Q1439.38 945.608 1440.7 941.031 Q1442.03 936.433 1442.03 931.754 Q1442.03 927.075 1440.7 922.518 Q1439.38 917.961 1436.69 913.302 Z\" fill=\"#000000\" fill-rule=\"nonzero\" fill-opacity=\"1\" /><path clip-path=\"url(#clip680)\" d=\"M1565.47 872.793 Q1562.75 877.452 1561.44 882.009 Q1560.12 886.566 1560.12 891.245 Q1560.12 895.924 1561.44 900.522 Q1562.77 905.099 1565.47 909.737 L1562.23 909.737 Q1559.19 904.978 1557.67 900.38 Q1556.17 895.782 1556.17 891.245 Q1556.17 886.728 1557.67 882.151 Q1559.17 877.573 1562.23 872.793 L1565.47 872.793 Z\" fill=\"#000000\" fill-rule=\"nonzero\" fill-opacity=\"1\" /><path clip-path=\"url(#clip680)\" d=\"M1576.75 900.825 L1591.03 900.825 L1591.03 904.269 L1571.83 904.269 L1571.83 900.825 Q1574.16 898.415 1578.17 894.364 Q1582.2 890.293 1583.23 889.118 Q1585.19 886.91 1585.96 885.391 Q1586.75 883.852 1586.75 882.373 Q1586.75 879.963 1585.05 878.444 Q1583.37 876.925 1580.66 876.925 Q1578.73 876.925 1576.59 877.593 Q1574.46 878.262 1572.03 879.619 L1572.03 875.487 Q1574.5 874.494 1576.65 873.988 Q1578.79 873.482 1580.58 873.482 Q1585.28 873.482 1588.07 875.831 Q1590.87 878.181 1590.87 882.11 Q1590.87 883.974 1590.16 885.655 Q1589.47 887.316 1587.62 889.584 Q1587.12 890.171 1584.4 892.987 Q1581.69 895.782 1576.75 900.825 Z\" fill=\"#000000\" fill-rule=\"nonzero\" fill-opacity=\"1\" /><path clip-path=\"url(#clip680)\" d=\"M1600.04 899.124 L1604.31 899.124 L1604.31 902.608 L1600.99 909.089 L1598.38 909.089 L1600.04 902.608 L1600.04 899.124 Z\" fill=\"#000000\" fill-rule=\"nonzero\" fill-opacity=\"1\" /><path clip-path=\"url(#clip680)\" d=\"M1629.51 900.825 L1643.79 900.825 L1643.79 904.269 L1624.59 904.269 L1624.59 900.825 Q1626.92 898.415 1630.93 894.364 Q1634.96 890.293 1635.99 889.118 Q1637.96 886.91 1638.73 885.391 Q1639.52 883.852 1639.52 882.373 Q1639.52 879.963 1637.82 878.444 Q1636.13 876.925 1633.42 876.925 Q1631.5 876.925 1629.35 877.593 Q1627.22 878.262 1624.79 879.619 L1624.79 875.487 Q1627.26 874.494 1629.41 873.988 Q1631.56 873.482 1633.34 873.482 Q1638.04 873.482 1640.83 875.831 Q1643.63 878.181 1643.63 882.11 Q1643.63 883.974 1642.92 885.655 Q1642.23 887.316 1640.39 889.584 Q1639.88 890.171 1637.17 892.987 Q1634.45 895.782 1629.51 900.825 Z\" fill=\"#000000\" fill-rule=\"nonzero\" fill-opacity=\"1\" /><path clip-path=\"url(#clip680)\" d=\"M1655.9 900.825 L1670.18 900.825 L1670.18 904.269 L1650.98 904.269 L1650.98 900.825 Q1653.31 898.415 1657.32 894.364 Q1661.35 890.293 1662.38 889.118 Q1664.35 886.91 1665.12 885.391 Q1665.91 883.852 1665.91 882.373 Q1665.91 879.963 1664.21 878.444 Q1662.53 876.925 1659.81 876.925 Q1657.89 876.925 1655.74 877.593 Q1653.61 878.262 1651.18 879.619 L1651.18 875.487 Q1653.65 874.494 1655.8 873.988 Q1657.95 873.482 1659.73 873.482 Q1664.43 873.482 1667.22 875.831 Q1670.02 878.181 1670.02 882.11 Q1670.02 883.974 1669.31 885.655 Q1668.62 887.316 1666.78 889.584 Q1666.27 890.171 1663.56 892.987 Q1660.84 895.782 1655.9 900.825 Z\" fill=\"#000000\" fill-rule=\"nonzero\" fill-opacity=\"1\" /><path clip-path=\"url(#clip680)\" d=\"M1677.66 872.793 L1680.9 872.793 Q1683.93 877.573 1685.43 882.151 Q1686.95 886.728 1686.95 891.245 Q1686.95 895.782 1685.43 900.38 Q1683.93 904.978 1680.9 909.737 L1677.66 909.737 Q1680.35 905.099 1681.67 900.522 Q1683 895.924 1683 891.245 Q1683 886.566 1681.67 882.009 Q1680.35 877.452 1677.66 872.793 Z\" fill=\"#000000\" fill-rule=\"nonzero\" fill-opacity=\"1\" /><path clip-path=\"url(#clip680)\" d=\"M1296.69 1321.33 Q1293.97 1325.99 1292.66 1330.54 Q1291.34 1335.1 1291.34 1339.78 Q1291.34 1344.46 1292.66 1349.06 Q1293.99 1353.63 1296.69 1358.27 L1293.45 1358.27 Q1290.41 1353.51 1288.89 1348.91 Q1287.39 1344.32 1287.39 1339.78 Q1287.39 1335.26 1288.89 1330.68 Q1290.39 1326.11 1293.45 1321.33 L1296.69 1321.33 Z\" fill=\"#000000\" fill-rule=\"nonzero\" fill-opacity=\"1\" /><path clip-path=\"url(#clip680)\" d=\"M1303.33 1321.33 L1306.57 1321.33 Q1309.61 1326.11 1311.11 1330.68 Q1312.63 1335.26 1312.63 1339.78 Q1312.63 1344.32 1311.11 1348.91 Q1309.61 1353.51 1306.57 1358.27 L1303.33 1358.27 Q1306.03 1353.63 1307.34 1349.06 Q1308.68 1344.46 1308.68 1339.78 Q1308.68 1335.1 1307.34 1330.54 Q1306.03 1325.99 1303.33 1321.33 Z\" fill=\"#000000\" fill-rule=\"nonzero\" fill-opacity=\"1\" /></svg>\n"
      ],
      "text/html": [
       "<?xml version=\"1.0\" encoding=\"utf-8\"?>\n",
       "<svg xmlns=\"http://www.w3.org/2000/svg\" xmlns:xlink=\"http://www.w3.org/1999/xlink\" width=\"600\" height=\"400\" viewBox=\"0 0 2400 1600\">\n",
       "<defs>\n",
       "  <clipPath id=\"clip710\">\n",
       "    <rect x=\"0\" y=\"0\" width=\"2400\" height=\"1600\"/>\n",
       "  </clipPath>\n",
       "</defs>\n",
       "<path clip-path=\"url(#clip710)\" d=\"M0 1600 L2400 1600 L2400 0 L0 0  Z\" fill=\"#ffffff\" fill-rule=\"evenodd\" fill-opacity=\"1\"/>\n",
       "<defs>\n",
       "  <clipPath id=\"clip711\">\n",
       "    <rect x=\"480\" y=\"0\" width=\"1681\" height=\"1600\"/>\n",
       "  </clipPath>\n",
       "</defs>\n",
       "<path clip-path=\"url(#clip710)\" d=\"M447.244 1552.76 L1952.76 1552.76 L1952.76 47.2441 L447.244 47.2441  Z\" fill=\"#ffffff\" fill-rule=\"evenodd\" fill-opacity=\"1\"/>\n",
       "<defs>\n",
       "  <clipPath id=\"clip712\">\n",
       "    <rect x=\"447\" y=\"47\" width=\"1507\" height=\"1507\"/>\n",
       "  </clipPath>\n",
       "</defs>\n",
       "<polyline clip-path=\"url(#clip712)\" style=\"stroke:#000000; stroke-linecap:round; stroke-linejoin:round; stroke-width:4; stroke-opacity:1; fill:none\" points=\"1171.89,262.317 1172.36,276.097 1173.71,290.032 1175.88,304.112 1178.81,318.324 1182.42,332.659 1186.66,347.102 1191.46,361.645 1196.75,376.273 1202.46,390.977 1208.54,405.745 1214.92,420.564 1221.52,435.424 1228.29,450.313 1235.15,465.219 1242.05,480.131 1248.91,495.037 1255.68,509.926 1262.28,524.786 1268.66,539.605 1274.73,554.373 1280.45,569.077 1285.74,583.705 1290.54,598.248 1294.78,612.691 1298.39,627.026 1301.32,641.238 1303.49,655.318 1304.84,669.253 1305.31,683.033 \"/>\n",
       "<polyline clip-path=\"url(#clip712)\" style=\"stroke:#000000; stroke-linecap:round; stroke-linejoin:round; stroke-width:4; stroke-opacity:1; fill:none\" points=\"1171.89,262.317 1170.42,280.801 1166.13,298.549 1159.23,315.616 1149.95,332.055 1138.47,347.921 1125.02,363.27 1109.79,378.154 1093,392.63 1074.86,406.752 1055.57,420.573 1035.35,434.149 1014.39,447.534 992.919,460.783 971.132,473.949 949.24,487.089 927.452,500.256 905.977,513.505 885.023,526.89 864.797,540.466 845.51,554.287 827.368,568.408 810.58,582.884 795.355,597.769 781.9,613.117 770.425,628.984 761.137,645.423 754.244,662.489 749.956,680.237 748.481,698.721 \"/>\n",
       "<polyline clip-path=\"url(#clip712)\" style=\"stroke:#000000; stroke-linecap:round; stroke-linejoin:round; stroke-width:4; stroke-opacity:1; fill:none\" points=\"1171.89,262.317 1171.23,277.321 1169.31,292.388 1166.23,307.513 1162.07,322.691 1156.93,337.918 1150.91,353.19 1144.09,368.501 1136.58,383.846 1128.46,399.222 1119.82,414.624 1110.77,430.046 1101.39,445.485 1091.78,460.935 1082.03,476.393 1072.23,491.852 1062.47,507.31 1052.86,522.76 1043.48,538.199 1034.43,553.621 1025.8,569.023 1017.67,584.399 1010.16,599.745 1003.34,615.055 997.322,630.327 992.185,645.554 988.028,660.732 984.943,675.857 983.023,690.924 982.363,705.928 \"/>\n",
       "<polyline clip-path=\"url(#clip712)\" style=\"stroke:#000000; stroke-linecap:round; stroke-linejoin:round; stroke-width:4; stroke-opacity:1; fill:none\" points=\"1171.89,262.317 1170.11,280.431 1164.95,297.34 1156.66,313.136 1145.48,327.906 1131.67,341.74 1115.48,354.727 1097.15,366.956 1076.95,378.516 1055.12,389.497 1031.9,399.988 1007.56,410.077 982.344,419.854 956.499,429.409 930.277,438.83 903.931,448.206 877.709,457.627 851.864,467.181 826.645,476.958 802.304,487.048 779.091,497.538 757.258,508.519 737.054,520.08 718.73,532.309 702.537,545.296 688.727,559.13 677.549,573.9 669.254,589.695 664.093,606.605 662.317,624.718 \"/>\n",
       "<polyline clip-path=\"url(#clip712)\" style=\"stroke:#000000; stroke-linecap:round; stroke-linejoin:round; stroke-width:4; stroke-opacity:1; fill:none\" points=\"1171.89,262.317 1173.49,277.782 1178.15,292.22 1185.64,305.706 1195.72,318.316 1208.19,330.127 1222.8,341.215 1239.33,351.657 1257.57,361.527 1277.27,370.902 1298.22,379.859 1320.18,388.473 1342.94,396.821 1366.27,404.979 1389.93,413.022 1413.7,421.027 1437.37,429.071 1460.69,437.228 1483.45,445.576 1505.41,454.19 1526.36,463.147 1546.07,472.522 1564.3,482.392 1580.83,492.834 1595.45,503.922 1607.91,515.733 1618,528.344 1625.48,541.829 1630.14,556.267 1631.74,571.732 \"/>\n",
       "<polyline clip-path=\"url(#clip712)\" style=\"stroke:#000000; stroke-linecap:round; stroke-linejoin:round; stroke-width:4; stroke-opacity:1; fill:none\" points=\"1171.89,262.317 1173.05,275.707 1176.4,288.4 1181.8,300.449 1189.08,311.905 1198.06,322.819 1208.6,333.243 1220.53,343.228 1233.67,352.827 1247.88,362.091 1262.99,371.071 1278.83,379.818 1295.24,388.386 1312.06,396.824 1329.12,405.185 1346.27,413.52 1363.33,421.881 1380.15,430.32 1396.56,438.887 1412.4,447.635 1427.51,456.615 1441.72,465.878 1454.86,475.477 1466.79,485.463 1477.33,495.887 1486.31,506.801 1493.59,518.256 1498.99,530.305 1502.34,542.999 1503.5,556.388 \"/>\n",
       "<polyline clip-path=\"url(#clip712)\" style=\"stroke:#000000; stroke-linecap:round; stroke-linejoin:round; stroke-width:4; stroke-opacity:1; fill:none\" points=\"1171.89,262.317 1173.75,278.099 1179.14,292.831 1187.8,306.593 1199.48,319.462 1213.91,331.515 1230.82,342.83 1249.97,353.485 1271.07,363.557 1293.88,373.124 1318.13,382.264 1343.56,391.055 1369.91,399.573 1396.91,407.898 1424.3,416.105 1451.83,424.275 1479.22,432.482 1506.22,440.807 1532.57,449.325 1558,458.116 1582.25,467.256 1605.06,476.823 1626.16,486.895 1645.31,497.55 1662.22,508.865 1676.65,520.918 1688.33,533.787 1696.99,547.549 1702.38,562.281 1704.24,578.063 \"/>\n",
       "<polyline clip-path=\"url(#clip712)\" style=\"stroke:#000000; stroke-linecap:round; stroke-linejoin:round; stroke-width:4; stroke-opacity:1; fill:none\" points=\"1171.89,262.317 1171.06,277.698 1168.63,293.002 1164.74,308.234 1159.49,323.399 1153.01,338.505 1145.41,353.556 1136.81,368.558 1127.33,383.517 1117.08,398.439 1106.18,413.329 1094.75,428.194 1082.92,443.038 1070.78,457.868 1058.48,472.689 1046.11,487.508 1033.8,502.329 1021.67,517.159 1009.83,532.004 998.404,546.868 987.508,561.758 977.259,576.68 967.775,591.639 959.174,606.642 951.573,621.693 945.09,636.798 939.843,651.964 935.949,667.196 933.527,682.499 932.693,697.88 \"/>\n",
       "<polyline clip-path=\"url(#clip712)\" style=\"stroke:#000000; stroke-linecap:round; stroke-linejoin:round; stroke-width:4; stroke-opacity:1; fill:none\" points=\"1171.89,262.317 1172.1,275.556 1172.69,289.049 1173.65,302.776 1174.94,316.718 1176.53,330.858 1178.39,345.176 1180.51,359.653 1182.83,374.271 1185.35,389.011 1188.03,403.854 1190.83,418.782 1193.74,433.775 1196.72,448.815 1199.74,463.883 1202.78,478.961 1205.8,494.029 1208.78,509.069 1211.69,524.062 1214.49,538.99 1217.17,553.833 1219.69,568.573 1222.02,583.191 1224.13,597.668 1225.99,611.986 1227.59,626.125 1228.87,640.068 1229.83,653.795 1230.43,667.287 1230.63,680.527 \"/>\n",
       "<polyline clip-path=\"url(#clip712)\" style=\"stroke:#000000; stroke-linecap:round; stroke-linejoin:round; stroke-width:4; stroke-opacity:1; fill:none\" points=\"1305.31,683.033 1304.36,694.928 1301.62,706.361 1297.22,717.366 1291.28,727.977 1283.95,738.228 1275.35,748.153 1265.62,757.788 1254.89,767.165 1243.29,776.319 1230.96,785.285 1218.03,794.097 1204.64,802.789 1190.91,811.396 1176.99,819.951 1163,828.488 1149.07,837.043 1135.34,845.65 1121.95,854.342 1109.02,863.154 1096.69,872.12 1085.1,881.274 1074.37,890.651 1064.64,900.286 1056.04,910.211 1048.7,920.462 1042.76,931.073 1038.36,942.078 1035.62,953.511 1034.68,965.406 \"/>\n",
       "<polyline clip-path=\"url(#clip712)\" style=\"stroke:#000000; stroke-linecap:round; stroke-linejoin:round; stroke-width:4; stroke-opacity:1; fill:none\" points=\"748.481,698.721 749.478,710.564 752.377,721.84 757.035,732.59 763.313,742.857 771.07,752.684 780.164,762.111 790.455,771.181 801.803,779.936 814.065,788.418 827.102,796.668 840.773,804.73 854.937,812.645 869.452,820.454 884.179,828.201 898.977,835.927 913.704,843.673 928.219,851.483 942.383,859.398 956.054,867.459 969.091,875.71 981.353,884.192 992.701,892.947 1002.99,902.017 1012.09,911.444 1019.84,921.27 1026.12,931.537 1030.78,942.288 1033.68,953.563 1034.68,965.406 \"/>\n",
       "<polyline clip-path=\"url(#clip712)\" style=\"stroke:#000000; stroke-linecap:round; stroke-linejoin:round; stroke-width:4; stroke-opacity:1; fill:none\" points=\"982.363,705.928 981.716,717.462 979.837,728.916 976.817,740.295 972.747,751.606 967.718,762.854 961.822,774.046 955.15,785.186 947.794,796.282 939.844,807.34 931.392,818.364 922.529,829.362 913.346,840.339 903.936,851.301 894.388,862.254 884.795,873.204 875.247,884.157 865.837,895.119 856.654,906.096 847.792,917.093 839.34,928.118 831.39,939.175 824.033,950.271 817.361,961.412 811.465,972.604 806.437,983.852 802.367,995.162 799.346,1006.54 797.467,1018 796.821,1029.53 \"/>\n",
       "<polyline clip-path=\"url(#clip712)\" style=\"stroke:#000000; stroke-linecap:round; stroke-linejoin:round; stroke-width:4; stroke-opacity:1; fill:none\" points=\"662.317,624.718 662.786,638.03 664.148,651.48 666.338,665.058 669.288,678.755 672.933,692.56 677.207,706.462 682.044,720.452 687.377,734.519 693.14,748.653 699.267,762.843 705.692,777.08 712.349,791.353 719.171,805.651 726.092,819.965 733.046,834.283 739.967,848.597 746.789,862.895 753.446,877.168 759.871,891.405 765.998,905.595 771.761,919.729 777.094,933.796 781.93,947.786 786.204,961.688 789.85,975.493 792.8,989.19 794.99,1002.77 796.352,1016.22 796.821,1029.53 \"/>\n",
       "<polyline clip-path=\"url(#clip712)\" style=\"stroke:#000000; stroke-linecap:round; stroke-linejoin:round; stroke-width:4; stroke-opacity:1; fill:none\" points=\"1631.74,571.732 1632.11,585.121 1633.18,598.706 1634.91,612.472 1637.23,626.405 1640.1,640.491 1643.47,654.714 1647.28,669.061 1651.48,683.517 1656.02,698.067 1660.85,712.696 1665.91,727.391 1671.15,742.137 1676.52,756.92 1681.97,771.723 1687.45,786.535 1692.9,801.339 1698.28,816.121 1703.52,830.867 1708.58,845.562 1713.41,860.192 1717.94,874.742 1722.15,889.197 1725.95,903.544 1729.32,917.767 1732.19,931.853 1734.52,945.786 1736.24,959.553 1737.31,973.137 1737.68,986.526 \"/>\n",
       "<polyline clip-path=\"url(#clip712)\" style=\"stroke:#000000; stroke-linecap:round; stroke-linejoin:round; stroke-width:4; stroke-opacity:1; fill:none\" points=\"1631.74,571.732 1631.71,581.698 1631.6,591.874 1631.44,602.244 1631.21,612.793 1630.94,623.505 1630.61,634.365 1630.25,645.357 1629.85,656.466 1629.41,667.676 1628.95,678.971 1628.46,690.336 1627.96,701.755 1627.44,713.214 1626.91,724.695 1626.39,736.185 1625.86,747.667 1625.35,759.125 1624.84,770.545 1624.36,781.91 1623.89,793.205 1623.46,804.415 1623.05,815.523 1622.69,826.515 1622.36,837.375 1622.09,848.087 1621.87,858.636 1621.7,869.007 1621.6,879.183 1621.56,889.149 \"/>\n",
       "<polyline clip-path=\"url(#clip712)\" style=\"stroke:#000000; stroke-linecap:round; stroke-linejoin:round; stroke-width:4; stroke-opacity:1; fill:none\" points=\"1503.5,556.388 1504.32,571.55 1506.69,586.642 1510.5,601.668 1515.64,616.634 1521.98,631.545 1529.42,646.406 1537.85,661.223 1547.13,676 1557.17,690.743 1567.83,705.458 1579.02,720.149 1590.61,734.822 1602.49,749.481 1614.54,764.133 1626.65,778.782 1638.7,793.434 1650.57,808.093 1662.16,822.766 1673.35,837.457 1684.02,852.171 1694.05,866.915 1703.34,881.692 1711.76,896.509 1719.2,911.37 1725.55,926.281 1730.68,941.246 1734.49,956.273 1736.87,971.364 1737.68,986.526 \"/>\n",
       "<polyline clip-path=\"url(#clip712)\" style=\"stroke:#000000; stroke-linecap:round; stroke-linejoin:round; stroke-width:4; stroke-opacity:1; fill:none\" points=\"1704.24,578.063 1703.11,592.62 1699.83,606.656 1694.57,620.209 1687.47,633.317 1678.69,646.021 1668.41,658.357 1656.77,670.365 1643.94,682.084 1630.07,693.551 1615.33,704.806 1599.87,715.887 1583.85,726.833 1567.44,737.683 1550.78,748.474 1534.05,759.246 1517.39,770.038 1500.98,780.887 1484.96,791.833 1469.5,802.915 1454.76,814.17 1440.89,825.637 1428.06,837.355 1416.42,849.363 1406.14,861.7 1397.37,874.403 1390.27,887.512 1385,901.065 1381.72,915.101 1380.59,929.658 \"/>\n",
       "<polyline clip-path=\"url(#clip712)\" style=\"stroke:#000000; stroke-linecap:round; stroke-linejoin:round; stroke-width:4; stroke-opacity:1; fill:none\" points=\"932.693,697.88 934.254,709.465 938.79,720.28 946.081,730.382 955.906,739.828 968.045,748.676 982.278,756.982 998.384,764.803 1016.14,772.196 1035.33,779.219 1055.74,785.929 1077.13,792.382 1099.3,798.635 1122.02,804.745 1145.06,810.771 1168.22,816.767 1191.27,822.792 1213.99,828.903 1236.15,835.156 1257.55,841.609 1277.95,848.318 1297.14,855.341 1314.9,862.735 1331.01,870.556 1345.24,878.862 1357.38,887.71 1367.2,897.156 1374.5,907.258 1379.03,918.073 1380.59,929.658 \"/>\n",
       "<polyline clip-path=\"url(#clip712)\" style=\"stroke:#000000; stroke-linecap:round; stroke-linejoin:round; stroke-width:4; stroke-opacity:1; fill:none\" points=\"1230.63,680.527 1231.99,690.954 1235.95,700.688 1242.32,709.781 1250.89,718.284 1261.49,726.247 1273.91,733.723 1287.97,740.763 1303.47,747.418 1320.22,753.74 1338.02,759.779 1356.7,765.587 1376.05,771.215 1395.87,776.716 1415.99,782.139 1436.2,787.536 1456.32,792.96 1476.15,798.46 1495.49,804.088 1514.17,809.896 1531.98,815.935 1548.73,822.257 1564.23,828.912 1578.28,835.952 1590.71,843.428 1601.3,851.391 1609.88,859.894 1616.24,868.987 1620.2,878.721 1621.56,889.149 \"/>\n",
       "<polyline clip-path=\"url(#clip712)\" style=\"stroke:#000000; stroke-linecap:round; stroke-linejoin:round; stroke-width:4; stroke-opacity:1; fill:none\" points=\"1034.68,965.406 1035.6,979.457 1038.29,993.248 1042.61,1006.8 1048.43,1020.13 1055.62,1033.25 1064.05,1046.2 1073.59,1058.98 1084.11,1071.61 1095.48,1084.12 1107.57,1096.52 1120.24,1108.84 1133.37,1121.09 1146.83,1133.29 1160.48,1145.46 1174.2,1157.63 1187.86,1169.8 1201.31,1182 1214.44,1194.25 1227.12,1206.57 1239.21,1218.97 1250.57,1231.48 1261.09,1244.11 1270.64,1256.89 1279.07,1269.84 1286.26,1282.96 1292.08,1296.29 1296.4,1309.84 1299.09,1323.63 1300.01,1337.68 \"/>\n",
       "<polyline clip-path=\"url(#clip712)\" style=\"stroke:#000000; stroke-linecap:round; stroke-linejoin:round; stroke-width:4; stroke-opacity:1; fill:none\" points=\"796.821,1029.53 798.574,1044.93 803.67,1059.31 811.861,1072.74 822.899,1085.3 836.537,1097.06 852.527,1108.11 870.621,1118.5 890.572,1128.33 912.132,1137.67 935.054,1146.59 959.09,1155.17 983.992,1163.49 1009.51,1171.61 1035.41,1179.62 1061.42,1187.59 1087.32,1195.6 1112.84,1203.73 1137.74,1212.04 1161.78,1220.62 1184.7,1229.54 1206.26,1238.88 1226.21,1248.71 1244.3,1259.11 1260.29,1270.15 1273.93,1281.91 1284.97,1294.47 1293.16,1307.9 1298.26,1322.28 1300.01,1337.68 \"/>\n",
       "<polyline clip-path=\"url(#clip712)\" style=\"stroke:#000000; stroke-linecap:round; stroke-linejoin:round; stroke-width:4; stroke-opacity:1; fill:none\" points=\"1737.68,986.526 1736.16,1003.4 1731.72,1019.26 1724.6,1034.17 1715,1048.21 1703.14,1061.45 1689.23,1073.98 1673.49,1085.86 1656.14,1097.18 1637.39,1108 1617.45,1118.4 1596.54,1128.47 1574.88,1138.27 1552.68,1147.88 1530.16,1157.37 1507.53,1166.83 1485.01,1176.33 1462.81,1185.94 1441.15,1195.74 1420.24,1205.81 1400.31,1216.21 1381.55,1227.03 1364.2,1238.35 1348.46,1250.23 1334.56,1262.75 1322.69,1276 1313.09,1290.04 1305.97,1304.95 1301.54,1320.8 1300.01,1337.68 \"/>\n",
       "<polyline clip-path=\"url(#clip712)\" style=\"stroke:#000000; stroke-linecap:round; stroke-linejoin:round; stroke-width:4; stroke-opacity:1; fill:none\" points=\"1380.59,929.658 1380.31,942.683 1379.5,955.931 1378.18,969.388 1376.42,983.034 1374.23,996.855 1371.67,1010.83 1368.77,1024.95 1365.58,1039.2 1362.13,1053.55 1358.46,1067.99 1354.61,1082.51 1350.62,1097.09 1346.53,1111.7 1342.38,1126.35 1338.22,1141 1334.07,1155.64 1329.98,1170.25 1326,1184.83 1322.15,1199.35 1318.48,1213.79 1315.02,1228.14 1311.83,1242.39 1308.93,1256.51 1306.37,1270.48 1304.19,1284.31 1302.42,1297.95 1301.11,1311.41 1300.29,1324.66 1300.01,1337.68 \"/>\n",
       "<polyline clip-path=\"url(#clip712)\" style=\"stroke:#000000; stroke-linecap:round; stroke-linejoin:round; stroke-width:4; stroke-opacity:1; fill:none\" points=\"1621.56,889.149 1620.44,906.108 1617.18,922.748 1611.95,939.091 1604.9,955.162 1596.18,970.985 1585.96,986.582 1574.4,1001.98 1561.65,1017.2 1547.87,1032.26 1533.23,1047.19 1517.87,1062.02 1501.95,1076.76 1485.64,1091.45 1469.1,1106.1 1452.47,1120.73 1435.93,1135.38 1419.62,1150.07 1403.7,1164.81 1388.34,1179.64 1373.7,1194.57 1359.92,1209.64 1347.17,1224.85 1335.61,1240.25 1325.39,1255.85 1316.67,1271.67 1309.62,1287.74 1304.39,1304.08 1301.13,1320.72 1300.01,1337.68 \"/>\n",
       "<path clip-path=\"url(#clip712)\" d=\"M1197.45 262.317 L1184.67 240.184 L1159.11 240.184 L1146.33 262.317 L1159.11 284.45 L1184.67 284.45 L1197.45 262.317 L1197.45 262.317  Z\" fill=\"#009af9\" fill-rule=\"evenodd\" fill-opacity=\"1\"/>\n",
       "<polyline clip-path=\"url(#clip712)\" style=\"stroke:#000000; stroke-linecap:round; stroke-linejoin:round; stroke-width:4; stroke-opacity:1; fill:none\" points=\"1197.45,262.317 1184.67,240.184 1159.11,240.184 1146.33,262.317 1159.11,284.45 1184.67,284.45 1197.45,262.317 \"/>\n",
       "<path clip-path=\"url(#clip712)\" d=\"M1358.5 683.033 L1331.91 636.965 L1278.71 636.965 L1252.11 683.033 L1278.71 729.1 L1331.91 729.1 L1358.5 683.033 L1358.5 683.033  Z\" fill=\"#009af9\" fill-rule=\"evenodd\" fill-opacity=\"1\"/>\n",
       "<polyline clip-path=\"url(#clip712)\" style=\"stroke:#000000; stroke-linecap:round; stroke-linejoin:round; stroke-width:4; stroke-opacity:1; fill:none\" points=\"1358.5,683.033 1331.91,636.965 1278.71,636.965 1252.11,683.033 1278.71,729.1 1331.91,729.1 1358.5,683.033 \"/>\n",
       "<path clip-path=\"url(#clip712)\" d=\"M801.675 698.721 L775.078 652.654 L721.884 652.654 L695.286 698.721 L721.884 744.789 L775.078 744.789 L801.675 698.721 L801.675 698.721  Z\" fill=\"#009af9\" fill-rule=\"evenodd\" fill-opacity=\"1\"/>\n",
       "<polyline clip-path=\"url(#clip712)\" style=\"stroke:#000000; stroke-linecap:round; stroke-linejoin:round; stroke-width:4; stroke-opacity:1; fill:none\" points=\"801.675,698.721 775.078,652.654 721.884,652.654 695.286,698.721 721.884,744.789 775.078,744.789 801.675,698.721 \"/>\n",
       "<path clip-path=\"url(#clip712)\" d=\"M1035.56 705.928 L1008.96 659.86 L955.766 659.86 L929.168 705.928 L955.766 751.996 L1008.96 751.996 L1035.56 705.928 L1035.56 705.928  Z\" fill=\"#009af9\" fill-rule=\"evenodd\" fill-opacity=\"1\"/>\n",
       "<polyline clip-path=\"url(#clip712)\" style=\"stroke:#000000; stroke-linecap:round; stroke-linejoin:round; stroke-width:4; stroke-opacity:1; fill:none\" points=\"1035.56,705.928 1008.96,659.86 955.766,659.86 929.168,705.928 955.766,751.996 1008.96,751.996 1035.56,705.928 \"/>\n",
       "<path clip-path=\"url(#clip712)\" d=\"M715.511 624.718 L688.914 578.651 L635.72 578.651 L609.123 624.718 L635.72 670.786 L688.914 670.786 L715.511 624.718 L715.511 624.718  Z\" fill=\"#009af9\" fill-rule=\"evenodd\" fill-opacity=\"1\"/>\n",
       "<polyline clip-path=\"url(#clip712)\" style=\"stroke:#000000; stroke-linecap:round; stroke-linejoin:round; stroke-width:4; stroke-opacity:1; fill:none\" points=\"715.511,624.718 688.914,578.651 635.72,578.651 609.123,624.718 635.72,670.786 688.914,670.786 715.511,624.718 \"/>\n",
       "<path clip-path=\"url(#clip712)\" d=\"M1676.24 571.732 L1653.99 533.196 L1609.49 533.196 L1587.24 571.732 L1609.49 610.268 L1653.99 610.268 L1676.24 571.732 L1676.24 571.732  Z\" fill=\"#009af9\" fill-rule=\"evenodd\" fill-opacity=\"1\"/>\n",
       "<polyline clip-path=\"url(#clip712)\" style=\"stroke:#000000; stroke-linecap:round; stroke-linejoin:round; stroke-width:4; stroke-opacity:1; fill:none\" points=\"1676.24,571.732 1653.99,533.196 1609.49,533.196 1587.24,571.732 1609.49,610.268 1653.99,610.268 1676.24,571.732 \"/>\n",
       "<path clip-path=\"url(#clip712)\" d=\"M1548 556.388 L1525.75 517.852 L1481.25 517.852 L1459 556.388 L1481.25 594.924 L1525.75 594.924 L1548 556.388 L1548 556.388  Z\" fill=\"#009af9\" fill-rule=\"evenodd\" fill-opacity=\"1\"/>\n",
       "<polyline clip-path=\"url(#clip712)\" style=\"stroke:#000000; stroke-linecap:round; stroke-linejoin:round; stroke-width:4; stroke-opacity:1; fill:none\" points=\"1548,556.388 1525.75,517.852 1481.25,517.852 1459,556.388 1481.25,594.924 1525.75,594.924 1548,556.388 \"/>\n",
       "<path clip-path=\"url(#clip712)\" d=\"M1748.74 578.063 L1726.49 539.527 L1681.99 539.527 L1659.74 578.063 L1681.99 616.599 L1726.49 616.599 L1748.74 578.063 L1748.74 578.063  Z\" fill=\"#009af9\" fill-rule=\"evenodd\" fill-opacity=\"1\"/>\n",
       "<polyline clip-path=\"url(#clip712)\" style=\"stroke:#000000; stroke-linecap:round; stroke-linejoin:round; stroke-width:4; stroke-opacity:1; fill:none\" points=\"1748.74,578.063 1726.49,539.527 1681.99,539.527 1659.74,578.063 1681.99,616.599 1726.49,616.599 1748.74,578.063 \"/>\n",
       "<path clip-path=\"url(#clip712)\" d=\"M985.887 697.88 L959.29 651.813 L906.096 651.813 L879.499 697.88 L906.096 743.948 L959.29 743.948 L985.887 697.88 L985.887 697.88  Z\" fill=\"#009af9\" fill-rule=\"evenodd\" fill-opacity=\"1\"/>\n",
       "<polyline clip-path=\"url(#clip712)\" style=\"stroke:#000000; stroke-linecap:round; stroke-linejoin:round; stroke-width:4; stroke-opacity:1; fill:none\" points=\"985.887,697.88 959.29,651.813 906.096,651.813 879.499,697.88 906.096,743.948 959.29,743.948 985.887,697.88 \"/>\n",
       "<path clip-path=\"url(#clip712)\" d=\"M1283.82 680.527 L1257.23 634.459 L1204.03 634.459 L1177.44 680.527 L1204.03 726.594 L1257.23 726.594 L1283.82 680.527 L1283.82 680.527  Z\" fill=\"#009af9\" fill-rule=\"evenodd\" fill-opacity=\"1\"/>\n",
       "<polyline clip-path=\"url(#clip712)\" style=\"stroke:#000000; stroke-linecap:round; stroke-linejoin:round; stroke-width:4; stroke-opacity:1; fill:none\" points=\"1283.82,680.527 1257.23,634.459 1204.03,634.459 1177.44,680.527 1204.03,726.594 1257.23,726.594 1283.82,680.527 \"/>\n",
       "<path clip-path=\"url(#clip712)\" d=\"M1112.15 965.406 L1073.41 898.311 L995.938 898.311 L957.2 965.406 L995.938 1032.5 L1073.41 1032.5 L1112.15 965.406 L1112.15 965.406  Z\" fill=\"#009af9\" fill-rule=\"evenodd\" fill-opacity=\"1\"/>\n",
       "<polyline clip-path=\"url(#clip712)\" style=\"stroke:#000000; stroke-linecap:round; stroke-linejoin:round; stroke-width:4; stroke-opacity:1; fill:none\" points=\"1112.15,965.406 1073.41,898.311 995.938,898.311 957.2,965.406 995.938,1032.5 1073.41,1032.5 1112.15,965.406 1112.15,965.406 \"/>\n",
       "<path clip-path=\"url(#clip712)\" d=\"M874.295 1029.53 L835.558 962.434 L758.083 962.434 L719.346 1029.53 L758.083 1096.62 L835.558 1096.62 L874.295 1029.53 L874.295 1029.53  Z\" fill=\"#009af9\" fill-rule=\"evenodd\" fill-opacity=\"1\"/>\n",
       "<polyline clip-path=\"url(#clip712)\" style=\"stroke:#000000; stroke-linecap:round; stroke-linejoin:round; stroke-width:4; stroke-opacity:1; fill:none\" points=\"874.295,1029.53 835.558,962.434 758.083,962.434 719.346,1029.53 758.083,1096.62 835.558,1096.62 874.295,1029.53 \"/>\n",
       "<path clip-path=\"url(#clip712)\" d=\"M1799.23 986.526 L1768.46 933.225 L1706.91 933.225 L1676.14 986.526 L1706.91 1039.83 L1768.46 1039.83 L1799.23 986.526 L1799.23 986.526  Z\" fill=\"#009af9\" fill-rule=\"evenodd\" fill-opacity=\"1\"/>\n",
       "<polyline clip-path=\"url(#clip712)\" style=\"stroke:#000000; stroke-linecap:round; stroke-linejoin:round; stroke-width:4; stroke-opacity:1; fill:none\" points=\"1799.23,986.526 1768.46,933.225 1706.91,933.225 1676.14,986.526 1706.91,1039.83 1768.46,1039.83 1799.23,986.526 \"/>\n",
       "<path clip-path=\"url(#clip712)\" d=\"M1450.22 929.658 L1415.41 869.36 L1345.78 869.36 L1310.97 929.658 L1345.78 989.955 L1415.41 989.955 L1450.22 929.658 L1450.22 929.658  Z\" fill=\"#009af9\" fill-rule=\"evenodd\" fill-opacity=\"1\"/>\n",
       "<polyline clip-path=\"url(#clip712)\" style=\"stroke:#000000; stroke-linecap:round; stroke-linejoin:round; stroke-width:4; stroke-opacity:1; fill:none\" points=\"1450.22,929.658 1415.41,869.36 1345.78,869.36 1310.97,929.658 1345.78,989.955 1415.41,989.955 1450.22,929.658 \"/>\n",
       "<path clip-path=\"url(#clip712)\" d=\"M1691.19 889.149 L1656.37 828.851 L1586.75 828.851 L1551.94 889.149 L1586.75 949.446 L1656.37 949.446 L1691.19 889.149 L1691.19 889.149  Z\" fill=\"#009af9\" fill-rule=\"evenodd\" fill-opacity=\"1\"/>\n",
       "<polyline clip-path=\"url(#clip712)\" style=\"stroke:#000000; stroke-linecap:round; stroke-linejoin:round; stroke-width:4; stroke-opacity:1; fill:none\" points=\"1691.19,889.149 1656.37,828.851 1586.75,828.851 1551.94,889.149 1586.75,949.446 1656.37,949.446 1691.19,889.149 \"/>\n",
       "<path clip-path=\"url(#clip712)\" d=\"M1325.57 1337.68 L1312.79 1315.55 L1287.23 1315.55 L1274.45 1337.68 L1287.23 1359.82 L1312.79 1359.82 L1325.57 1337.68 L1325.57 1337.68  Z\" fill=\"#009af9\" fill-rule=\"evenodd\" fill-opacity=\"1\"/>\n",
       "<polyline clip-path=\"url(#clip712)\" style=\"stroke:#000000; stroke-linecap:round; stroke-linejoin:round; stroke-width:4; stroke-opacity:1; fill:none\" points=\"1325.57,1337.68 1312.79,1315.55 1287.23,1315.55 1274.45,1337.68 1287.23,1359.82 1312.79,1359.82 1325.57,1337.68 \"/>\n",
       "<circle clip-path=\"url(#clip712)\" style=\"fill:#009af9; stroke:none; fill-opacity:0\" cx=\"1171.89\" cy=\"262.317\" r=\"2\"/>\n",
       "<circle clip-path=\"url(#clip712)\" style=\"fill:#009af9; stroke:none; fill-opacity:0\" cx=\"1305.31\" cy=\"683.033\" r=\"2\"/>\n",
       "<circle clip-path=\"url(#clip712)\" style=\"fill:#009af9; stroke:none; fill-opacity:0\" cx=\"748.481\" cy=\"698.721\" r=\"2\"/>\n",
       "<circle clip-path=\"url(#clip712)\" style=\"fill:#009af9; stroke:none; fill-opacity:0\" cx=\"982.363\" cy=\"705.928\" r=\"2\"/>\n",
       "<circle clip-path=\"url(#clip712)\" style=\"fill:#009af9; stroke:none; fill-opacity:0\" cx=\"662.317\" cy=\"624.718\" r=\"2\"/>\n",
       "<circle clip-path=\"url(#clip712)\" style=\"fill:#009af9; stroke:none; fill-opacity:0\" cx=\"1631.74\" cy=\"571.732\" r=\"2\"/>\n",
       "<circle clip-path=\"url(#clip712)\" style=\"fill:#009af9; stroke:none; fill-opacity:0\" cx=\"1503.5\" cy=\"556.388\" r=\"2\"/>\n",
       "<circle clip-path=\"url(#clip712)\" style=\"fill:#009af9; stroke:none; fill-opacity:0\" cx=\"1704.24\" cy=\"578.063\" r=\"2\"/>\n",
       "<circle clip-path=\"url(#clip712)\" style=\"fill:#009af9; stroke:none; fill-opacity:0\" cx=\"932.693\" cy=\"697.88\" r=\"2\"/>\n",
       "<circle clip-path=\"url(#clip712)\" style=\"fill:#009af9; stroke:none; fill-opacity:0\" cx=\"1230.63\" cy=\"680.527\" r=\"2\"/>\n",
       "<circle clip-path=\"url(#clip712)\" style=\"fill:#009af9; stroke:none; fill-opacity:0\" cx=\"1034.68\" cy=\"965.406\" r=\"2\"/>\n",
       "<circle clip-path=\"url(#clip712)\" style=\"fill:#009af9; stroke:none; fill-opacity:0\" cx=\"796.821\" cy=\"1029.53\" r=\"2\"/>\n",
       "<circle clip-path=\"url(#clip712)\" style=\"fill:#009af9; stroke:none; fill-opacity:0\" cx=\"1737.68\" cy=\"986.526\" r=\"2\"/>\n",
       "<circle clip-path=\"url(#clip712)\" style=\"fill:#009af9; stroke:none; fill-opacity:0\" cx=\"1380.59\" cy=\"929.658\" r=\"2\"/>\n",
       "<circle clip-path=\"url(#clip712)\" style=\"fill:#009af9; stroke:none; fill-opacity:0\" cx=\"1621.56\" cy=\"889.149\" r=\"2\"/>\n",
       "<circle clip-path=\"url(#clip712)\" style=\"fill:#009af9; stroke:none; fill-opacity:0\" cx=\"1300.01\" cy=\"1337.68\" r=\"2\"/>\n",
       "<path clip-path=\"url(#clip710)\" d=\"M1168.57 245.962 Q1165.85 250.62 1164.54 255.177 Q1163.22 259.735 1163.22 264.414 Q1163.22 269.092 1164.54 273.69 Q1165.88 278.268 1168.57 282.906 L1165.33 282.906 Q1162.29 278.146 1160.77 273.548 Q1159.27 268.951 1159.27 264.414 Q1159.27 259.897 1160.77 255.319 Q1162.27 250.742 1165.33 245.962 L1168.57 245.962 Z\" fill=\"#000000\" fill-rule=\"nonzero\" fill-opacity=\"1\" /><path clip-path=\"url(#clip710)\" d=\"M1175.21 245.962 L1178.45 245.962 Q1181.49 250.742 1182.99 255.319 Q1184.51 259.897 1184.51 264.414 Q1184.51 268.951 1182.99 273.548 Q1181.49 278.146 1178.45 282.906 L1175.21 282.906 Q1177.91 278.268 1179.22 273.69 Q1180.56 269.092 1180.56 264.414 Q1180.56 259.735 1179.22 255.177 Q1177.91 250.62 1175.21 245.962 Z\" fill=\"#000000\" fill-rule=\"nonzero\" fill-opacity=\"1\" /><path clip-path=\"url(#clip710)\" d=\"M1269 666.677 Q1266.29 671.336 1264.97 675.893 Q1263.65 680.45 1263.65 685.129 Q1263.65 689.808 1264.97 694.406 Q1266.31 698.983 1269 703.622 L1265.76 703.622 Q1262.72 698.862 1261.2 694.264 Q1259.71 689.666 1259.71 685.129 Q1259.71 680.612 1261.2 676.035 Q1262.7 671.457 1265.76 666.677 L1269 666.677 Z\" fill=\"#000000\" fill-rule=\"nonzero\" fill-opacity=\"1\" /><path clip-path=\"url(#clip710)\" d=\"M1277.47 694.71 L1284.15 694.71 L1284.15 671.64 L1276.88 673.098 L1276.88 669.371 L1284.11 667.913 L1288.2 667.913 L1288.2 694.71 L1294.89 694.71 L1294.89 698.153 L1277.47 698.153 L1277.47 694.71 Z\" fill=\"#000000\" fill-rule=\"nonzero\" fill-opacity=\"1\" /><path clip-path=\"url(#clip710)\" d=\"M1311.9 683.792 Q1308.98 683.792 1307.3 685.352 Q1305.64 686.912 1305.64 689.646 Q1305.64 692.38 1307.3 693.94 Q1308.98 695.499 1311.9 695.499 Q1314.82 695.499 1316.5 693.94 Q1318.18 692.36 1318.18 689.646 Q1318.18 686.912 1316.5 685.352 Q1314.84 683.792 1311.9 683.792 M1307.81 682.05 Q1305.18 681.402 1303.7 679.6 Q1302.24 677.797 1302.24 675.204 Q1302.24 671.579 1304.81 669.472 Q1307.4 667.366 1311.9 667.366 Q1316.42 667.366 1318.99 669.472 Q1321.56 671.579 1321.56 675.204 Q1321.56 677.797 1320.08 679.6 Q1318.63 681.402 1316.01 682.05 Q1318.97 682.739 1320.61 684.744 Q1322.27 686.75 1322.27 689.646 Q1322.27 694.041 1319.58 696.391 Q1316.9 698.74 1311.9 698.74 Q1306.9 698.74 1304.2 696.391 Q1301.53 694.041 1301.53 689.646 Q1301.53 686.75 1303.19 684.744 Q1304.85 682.739 1307.81 682.05 M1306.31 675.589 Q1306.31 677.939 1307.77 679.255 Q1309.25 680.572 1311.9 680.572 Q1314.53 680.572 1316.01 679.255 Q1317.51 677.939 1317.51 675.589 Q1317.51 673.24 1316.01 671.923 Q1314.53 670.607 1311.9 670.607 Q1309.25 670.607 1307.77 671.923 Q1306.31 673.24 1306.31 675.589 Z\" fill=\"#000000\" fill-rule=\"nonzero\" fill-opacity=\"1\" /><path clip-path=\"url(#clip710)\" d=\"M1329.97 693.008 L1334.24 693.008 L1334.24 696.492 L1330.92 702.973 L1328.31 702.973 L1329.97 696.492 L1329.97 693.008 Z\" fill=\"#000000\" fill-rule=\"nonzero\" fill-opacity=\"1\" /><path clip-path=\"url(#clip710)\" d=\"M1341.61 666.677 L1344.86 666.677 Q1347.89 671.457 1349.39 676.035 Q1350.91 680.612 1350.91 685.129 Q1350.91 689.666 1349.39 694.264 Q1347.89 698.862 1344.86 703.622 L1341.61 703.622 Q1344.31 698.983 1345.62 694.406 Q1346.96 689.808 1346.96 685.129 Q1346.96 680.45 1345.62 675.893 Q1344.31 671.336 1341.61 666.677 Z\" fill=\"#000000\" fill-rule=\"nonzero\" fill-opacity=\"1\" /><path clip-path=\"url(#clip710)\" d=\"M712.174 682.366 Q709.46 687.024 708.144 691.582 Q706.827 696.139 706.827 700.818 Q706.827 705.497 708.144 710.094 Q709.481 714.672 712.174 719.31 L708.934 719.31 Q705.896 714.55 704.377 709.953 Q702.878 705.355 702.878 700.818 Q702.878 696.301 704.377 691.723 Q705.875 687.146 708.934 682.366 L712.174 682.366 Z\" fill=\"#000000\" fill-rule=\"nonzero\" fill-opacity=\"1\" /><path clip-path=\"url(#clip710)\" d=\"M723.456 710.398 L737.736 710.398 L737.736 713.841 L718.534 713.841 L718.534 710.398 Q720.864 707.988 724.874 703.937 Q728.905 699.866 729.938 698.691 Q731.902 696.483 732.672 694.964 Q733.462 693.425 733.462 691.946 Q733.462 689.536 731.761 688.017 Q730.079 686.498 727.365 686.498 Q725.441 686.498 723.294 687.166 Q721.167 687.835 718.737 689.192 L718.737 685.06 Q721.208 684.067 723.355 683.561 Q725.502 683.055 727.284 683.055 Q731.983 683.055 734.779 685.404 Q737.574 687.754 737.574 691.683 Q737.574 693.546 736.865 695.227 Q736.176 696.888 734.333 699.157 Q733.827 699.744 731.112 702.56 Q728.398 705.355 723.456 710.398 Z\" fill=\"#000000\" fill-rule=\"nonzero\" fill-opacity=\"1\" /><path clip-path=\"url(#clip710)\" d=\"M746.364 683.601 L762.426 683.601 L762.426 687.045 L750.111 687.045 L750.111 694.458 Q751.002 694.154 751.894 694.012 Q752.785 693.85 753.676 693.85 Q758.74 693.85 761.697 696.625 Q764.654 699.4 764.654 704.139 Q764.654 709.021 761.616 711.735 Q758.578 714.429 753.048 714.429 Q751.144 714.429 749.159 714.105 Q747.195 713.781 745.088 713.132 L745.088 709.021 Q746.911 710.013 748.855 710.499 Q750.8 710.986 752.967 710.986 Q756.471 710.986 758.517 709.142 Q760.563 707.299 760.563 704.139 Q760.563 700.98 758.517 699.137 Q756.471 697.293 752.967 697.293 Q751.326 697.293 749.686 697.658 Q748.066 698.023 746.364 698.792 L746.364 683.601 Z\" fill=\"#000000\" fill-rule=\"nonzero\" fill-opacity=\"1\" /><path clip-path=\"url(#clip710)\" d=\"M773.141 708.697 L777.414 708.697 L777.414 712.181 L774.093 718.662 L771.48 718.662 L773.141 712.181 L773.141 708.697 Z\" fill=\"#000000\" fill-rule=\"nonzero\" fill-opacity=\"1\" /><path clip-path=\"url(#clip710)\" d=\"M784.787 682.366 L788.028 682.366 Q791.066 687.146 792.565 691.723 Q794.084 696.301 794.084 700.818 Q794.084 705.355 792.565 709.953 Q791.066 714.55 788.028 719.31 L784.787 719.31 Q787.481 714.672 788.797 710.094 Q790.134 705.497 790.134 700.818 Q790.134 696.139 788.797 691.582 Q787.481 687.024 784.787 682.366 Z\" fill=\"#000000\" fill-rule=\"nonzero\" fill-opacity=\"1\" /><path clip-path=\"url(#clip710)\" d=\"M946.056 689.573 Q943.342 694.231 942.026 698.788 Q940.709 703.346 940.709 708.024 Q940.709 712.703 942.026 717.301 Q943.363 721.878 946.056 726.517 L942.816 726.517 Q939.778 721.757 938.258 717.159 Q936.76 712.561 936.76 708.024 Q936.76 703.508 938.258 698.93 Q939.757 694.353 942.816 689.573 L946.056 689.573 Z\" fill=\"#000000\" fill-rule=\"nonzero\" fill-opacity=\"1\" /><path clip-path=\"url(#clip710)\" d=\"M954.523 717.605 L961.207 717.605 L961.207 694.535 L953.935 695.993 L953.935 692.266 L961.166 690.808 L965.258 690.808 L965.258 717.605 L971.942 717.605 L971.942 721.048 L954.523 721.048 L954.523 717.605 Z\" fill=\"#000000\" fill-rule=\"nonzero\" fill-opacity=\"1\" /><path clip-path=\"url(#clip710)\" d=\"M989.462 704.298 Q986.707 704.298 985.087 706.181 Q983.487 708.065 983.487 711.346 Q983.487 714.607 985.087 716.511 Q986.707 718.395 989.462 718.395 Q992.217 718.395 993.817 716.511 Q995.437 714.607 995.437 711.346 Q995.437 708.065 993.817 706.181 Q992.217 704.298 989.462 704.298 M997.584 691.476 L997.584 695.203 Q996.045 694.474 994.465 694.089 Q992.905 693.704 991.366 693.704 Q987.315 693.704 985.168 696.439 Q983.041 699.173 982.737 704.703 Q983.932 702.94 985.735 702.009 Q987.538 701.057 989.705 701.057 Q994.262 701.057 996.895 703.832 Q999.549 706.586 999.549 711.346 Q999.549 716.005 996.794 718.82 Q994.039 721.635 989.462 721.635 Q984.216 721.635 981.441 717.625 Q978.666 713.594 978.666 705.958 Q978.666 698.788 982.069 694.535 Q985.472 690.261 991.204 690.261 Q992.743 690.261 994.303 690.565 Q995.883 690.869 997.584 691.476 Z\" fill=\"#000000\" fill-rule=\"nonzero\" fill-opacity=\"1\" /><path clip-path=\"url(#clip710)\" d=\"M1007.02 715.903 L1011.3 715.903 L1011.3 719.387 L1007.97 725.869 L1005.36 725.869 L1007.02 719.387 L1007.02 715.903 Z\" fill=\"#000000\" fill-rule=\"nonzero\" fill-opacity=\"1\" /><path clip-path=\"url(#clip710)\" d=\"M1018.67 689.573 L1021.91 689.573 Q1024.95 694.353 1026.45 698.93 Q1027.97 703.508 1027.97 708.024 Q1027.97 712.561 1026.45 717.159 Q1024.95 721.757 1021.91 726.517 L1018.67 726.517 Q1021.36 721.878 1022.68 717.301 Q1024.02 712.703 1024.02 708.024 Q1024.02 703.346 1022.68 698.788 Q1021.36 694.231 1018.67 689.573 Z\" fill=\"#000000\" fill-rule=\"nonzero\" fill-opacity=\"1\" /><path clip-path=\"url(#clip710)\" d=\"M626.011 608.363 Q623.297 613.021 621.98 617.579 Q620.664 622.136 620.664 626.815 Q620.664 631.493 621.98 636.091 Q623.317 640.669 626.011 645.307 L622.77 645.307 Q619.732 640.547 618.213 635.949 Q616.714 631.352 616.714 626.815 Q616.714 622.298 618.213 617.72 Q619.712 613.143 622.77 608.363 L626.011 608.363 Z\" fill=\"#000000\" fill-rule=\"nonzero\" fill-opacity=\"1\" /><path clip-path=\"url(#clip710)\" d=\"M637.293 636.395 L651.572 636.395 L651.572 639.838 L632.371 639.838 L632.371 636.395 Q634.7 633.985 638.711 629.934 Q642.741 625.863 643.774 624.688 Q645.739 622.48 646.509 620.961 Q647.298 619.422 647.298 617.943 Q647.298 615.533 645.597 614.014 Q643.916 612.495 641.202 612.495 Q639.278 612.495 637.131 613.163 Q635.004 613.832 632.573 615.189 L632.573 611.057 Q635.044 610.064 637.191 609.558 Q639.338 609.051 641.121 609.051 Q645.82 609.051 648.615 611.401 Q651.41 613.751 651.41 617.68 Q651.41 619.543 650.701 621.224 Q650.013 622.885 648.169 625.154 Q647.663 625.741 644.949 628.557 Q642.235 631.352 637.293 636.395 Z\" fill=\"#000000\" fill-rule=\"nonzero\" fill-opacity=\"1\" /><path clip-path=\"url(#clip710)\" d=\"M668.91 625.478 Q665.993 625.478 664.312 627.037 Q662.651 628.597 662.651 631.331 Q662.651 634.066 664.312 635.625 Q665.993 637.185 668.91 637.185 Q671.827 637.185 673.508 635.625 Q675.189 634.046 675.189 631.331 Q675.189 628.597 673.508 627.037 Q671.847 625.478 668.91 625.478 M664.819 623.736 Q662.186 623.088 660.707 621.285 Q659.249 619.483 659.249 616.89 Q659.249 613.264 661.821 611.158 Q664.414 609.051 668.91 609.051 Q673.427 609.051 675.999 611.158 Q678.571 613.264 678.571 616.89 Q678.571 619.483 677.093 621.285 Q675.635 623.088 673.022 623.736 Q675.979 624.425 677.62 626.43 Q679.28 628.435 679.28 631.331 Q679.28 635.727 676.587 638.076 Q673.913 640.426 668.91 640.426 Q663.907 640.426 661.213 638.076 Q658.54 635.727 658.54 631.331 Q658.54 628.435 660.201 626.43 Q661.861 624.425 664.819 623.736 M663.32 617.275 Q663.32 619.624 664.778 620.941 Q666.257 622.257 668.91 622.257 Q671.543 622.257 673.022 620.941 Q674.521 619.624 674.521 617.275 Q674.521 614.925 673.022 613.609 Q671.543 612.292 668.91 612.292 Q666.257 612.292 664.778 613.609 Q663.32 614.925 663.32 617.275 Z\" fill=\"#000000\" fill-rule=\"nonzero\" fill-opacity=\"1\" /><path clip-path=\"url(#clip710)\" d=\"M686.977 634.694 L691.251 634.694 L691.251 638.177 L687.929 644.659 L685.316 644.659 L686.977 638.177 L686.977 634.694 Z\" fill=\"#000000\" fill-rule=\"nonzero\" fill-opacity=\"1\" /><path clip-path=\"url(#clip710)\" d=\"M698.623 608.363 L701.864 608.363 Q704.902 613.143 706.401 617.72 Q707.92 622.298 707.92 626.815 Q707.92 631.352 706.401 635.949 Q704.902 640.547 701.864 645.307 L698.623 645.307 Q701.317 640.669 702.634 636.091 Q703.971 631.493 703.971 626.815 Q703.971 622.136 702.634 617.579 Q701.317 613.021 698.623 608.363 Z\" fill=\"#000000\" fill-rule=\"nonzero\" fill-opacity=\"1\" /><path clip-path=\"url(#clip710)\" d=\"M1608.63 555.376 Q1605.92 560.035 1604.6 564.592 Q1603.28 569.149 1603.28 573.828 Q1603.28 578.507 1604.6 583.105 Q1605.94 587.682 1608.63 592.321 L1605.39 592.321 Q1602.35 587.561 1600.83 582.963 Q1599.33 578.365 1599.33 573.828 Q1599.33 569.311 1600.83 564.734 Q1602.33 560.156 1605.39 555.376 L1608.63 555.376 Z\" fill=\"#000000\" fill-rule=\"nonzero\" fill-opacity=\"1\" /><path clip-path=\"url(#clip710)\" d=\"M1619.91 583.409 L1634.19 583.409 L1634.19 586.852 L1614.99 586.852 L1614.99 583.409 Q1617.32 580.998 1621.33 576.947 Q1625.36 572.876 1626.39 571.701 Q1628.36 569.494 1629.13 567.975 Q1629.92 566.435 1629.92 564.957 Q1629.92 562.546 1628.22 561.027 Q1626.54 559.508 1623.82 559.508 Q1621.9 559.508 1619.75 560.177 Q1617.62 560.845 1615.19 562.202 L1615.19 558.07 Q1617.67 557.078 1619.81 556.571 Q1621.96 556.065 1623.74 556.065 Q1628.44 556.065 1631.24 558.415 Q1634.03 560.764 1634.03 564.693 Q1634.03 566.557 1633.32 568.238 Q1632.63 569.899 1630.79 572.167 Q1630.28 572.755 1627.57 575.57 Q1624.86 578.365 1619.91 583.409 Z\" fill=\"#000000\" fill-rule=\"nonzero\" fill-opacity=\"1\" /><path clip-path=\"url(#clip710)\" d=\"M1643.21 581.707 L1647.48 581.707 L1647.48 585.191 L1644.16 591.672 L1641.55 591.672 L1643.21 585.191 L1643.21 581.707 Z\" fill=\"#000000\" fill-rule=\"nonzero\" fill-opacity=\"1\" /><path clip-path=\"url(#clip710)\" d=\"M1654.85 555.376 L1658.09 555.376 Q1661.13 560.156 1662.63 564.734 Q1664.15 569.311 1664.15 573.828 Q1664.15 578.365 1662.63 582.963 Q1661.13 587.561 1658.09 592.321 L1654.85 592.321 Q1657.55 587.682 1658.86 583.105 Q1660.2 578.507 1660.2 573.828 Q1660.2 569.149 1658.86 564.592 Q1657.55 560.035 1654.85 555.376 Z\" fill=\"#000000\" fill-rule=\"nonzero\" fill-opacity=\"1\" /><path clip-path=\"url(#clip710)\" d=\"M1480.39 540.033 Q1477.67 544.691 1476.36 549.249 Q1475.04 553.806 1475.04 558.485 Q1475.04 563.163 1476.36 567.761 Q1477.7 572.339 1480.39 576.977 L1477.15 576.977 Q1474.11 572.217 1472.59 567.619 Q1471.09 563.022 1471.09 558.485 Q1471.09 553.968 1472.59 549.39 Q1474.09 544.813 1477.15 540.033 L1480.39 540.033 Z\" fill=\"#000000\" fill-rule=\"nonzero\" fill-opacity=\"1\" /><path clip-path=\"url(#clip710)\" d=\"M1488.19 541.268 L1504.25 541.268 L1504.25 544.712 L1491.93 544.712 L1491.93 552.125 Q1492.83 551.821 1493.72 551.679 Q1494.61 551.517 1495.5 551.517 Q1500.56 551.517 1503.52 554.292 Q1506.48 557.067 1506.48 561.806 Q1506.48 566.688 1503.44 569.402 Q1500.4 572.096 1494.87 572.096 Q1492.97 572.096 1490.98 571.772 Q1489.02 571.448 1486.91 570.799 L1486.91 566.688 Q1488.73 567.68 1490.68 568.166 Q1492.62 568.652 1494.79 568.652 Q1498.29 568.652 1500.34 566.809 Q1502.39 564.966 1502.39 561.806 Q1502.39 558.647 1500.34 556.803 Q1498.29 554.96 1494.79 554.96 Q1493.15 554.96 1491.51 555.325 Q1489.89 555.689 1488.19 556.459 L1488.19 541.268 Z\" fill=\"#000000\" fill-rule=\"nonzero\" fill-opacity=\"1\" /><path clip-path=\"url(#clip710)\" d=\"M1514.96 566.364 L1519.24 566.364 L1519.24 569.847 L1515.92 576.329 L1513.3 576.329 L1514.96 569.847 L1514.96 566.364 Z\" fill=\"#000000\" fill-rule=\"nonzero\" fill-opacity=\"1\" /><path clip-path=\"url(#clip710)\" d=\"M1526.61 540.033 L1529.85 540.033 Q1532.89 544.813 1534.39 549.39 Q1535.91 553.968 1535.91 558.485 Q1535.91 563.022 1534.39 567.619 Q1532.89 572.217 1529.85 576.977 L1526.61 576.977 Q1529.3 572.339 1530.62 567.761 Q1531.96 563.163 1531.96 558.485 Q1531.96 553.806 1530.62 549.249 Q1529.3 544.691 1526.61 540.033 Z\" fill=\"#000000\" fill-rule=\"nonzero\" fill-opacity=\"1\" /><path clip-path=\"url(#clip710)\" d=\"M1681.13 561.707 Q1678.41 566.366 1677.1 570.923 Q1675.78 575.48 1675.78 580.159 Q1675.78 584.838 1677.1 589.436 Q1678.43 594.013 1681.13 598.652 L1677.89 598.652 Q1674.85 593.892 1673.33 589.294 Q1671.83 584.696 1671.83 580.159 Q1671.83 575.642 1673.33 571.065 Q1674.83 566.487 1677.89 561.707 L1681.13 561.707 Z\" fill=\"#000000\" fill-rule=\"nonzero\" fill-opacity=\"1\" /><path clip-path=\"url(#clip710)\" d=\"M1687.85 562.943 L1707.3 562.943 L1707.3 564.685 L1696.32 593.183 L1692.05 593.183 L1702.38 566.386 L1687.85 566.386 L1687.85 562.943 Z\" fill=\"#000000\" fill-rule=\"nonzero\" fill-opacity=\"1\" /><path clip-path=\"url(#clip710)\" d=\"M1715.7 588.038 L1719.98 588.038 L1719.98 591.522 L1716.66 598.003 L1714.04 598.003 L1715.7 591.522 L1715.7 588.038 Z\" fill=\"#000000\" fill-rule=\"nonzero\" fill-opacity=\"1\" /><path clip-path=\"url(#clip710)\" d=\"M1727.35 561.707 L1730.59 561.707 Q1733.63 566.487 1735.13 571.065 Q1736.65 575.642 1736.65 580.159 Q1736.65 584.696 1735.13 589.294 Q1733.63 593.892 1730.59 598.652 L1727.35 598.652 Q1730.04 594.013 1731.36 589.436 Q1732.7 584.838 1732.7 580.159 Q1732.7 575.48 1731.36 570.923 Q1730.04 566.366 1727.35 561.707 Z\" fill=\"#000000\" fill-rule=\"nonzero\" fill-opacity=\"1\" /><path clip-path=\"url(#clip710)\" d=\"M896.387 681.525 Q893.673 686.183 892.356 690.74 Q891.04 695.298 891.04 699.977 Q891.04 704.655 892.356 709.253 Q893.693 713.831 896.387 718.469 L893.146 718.469 Q890.108 713.709 888.589 709.111 Q887.09 704.514 887.09 699.977 Q887.09 695.46 888.589 690.882 Q890.088 686.305 893.146 681.525 L896.387 681.525 Z\" fill=\"#000000\" fill-rule=\"nonzero\" fill-opacity=\"1\" /><path clip-path=\"url(#clip710)\" d=\"M904.853 709.557 L911.537 709.557 L911.537 686.487 L904.266 687.945 L904.266 684.219 L911.497 682.76 L915.588 682.76 L915.588 709.557 L922.272 709.557 L922.272 713 L904.853 713 L904.853 709.557 Z\" fill=\"#000000\" fill-rule=\"nonzero\" fill-opacity=\"1\" /><path clip-path=\"url(#clip710)\" d=\"M941.777 686.325 L931.448 702.468 L941.777 702.468 L941.777 686.325 M940.704 682.76 L945.849 682.76 L945.849 702.468 L950.163 702.468 L950.163 705.871 L945.849 705.871 L945.849 713 L941.777 713 L941.777 705.871 L928.126 705.871 L928.126 701.921 L940.704 682.76 Z\" fill=\"#000000\" fill-rule=\"nonzero\" fill-opacity=\"1\" /><path clip-path=\"url(#clip710)\" d=\"M957.353 707.856 L961.627 707.856 L961.627 711.339 L958.305 717.821 L955.692 717.821 L957.353 711.339 L957.353 707.856 Z\" fill=\"#000000\" fill-rule=\"nonzero\" fill-opacity=\"1\" /><path clip-path=\"url(#clip710)\" d=\"M968.999 681.525 L972.24 681.525 Q975.278 686.305 976.777 690.882 Q978.296 695.46 978.296 699.977 Q978.296 704.514 976.777 709.111 Q975.278 713.709 972.24 718.469 L968.999 718.469 Q971.693 713.831 973.01 709.253 Q974.347 704.655 974.347 699.977 Q974.347 695.298 973.01 690.74 Q971.693 686.183 968.999 681.525 Z\" fill=\"#000000\" fill-rule=\"nonzero\" fill-opacity=\"1\" /><path clip-path=\"url(#clip710)\" d=\"M1194.32 664.171 Q1191.61 668.83 1190.29 673.387 Q1188.98 677.944 1188.98 682.623 Q1188.98 687.302 1190.29 691.899 Q1191.63 696.477 1194.32 701.115 L1191.08 701.115 Q1188.05 696.355 1186.53 691.758 Q1185.03 687.16 1185.03 682.623 Q1185.03 678.106 1186.53 673.529 Q1188.03 668.951 1191.08 664.171 L1194.32 664.171 Z\" fill=\"#000000\" fill-rule=\"nonzero\" fill-opacity=\"1\" /><path clip-path=\"url(#clip710)\" d=\"M1205.61 692.203 L1219.89 692.203 L1219.89 695.647 L1200.68 695.647 L1200.68 692.203 Q1203.01 689.793 1207.02 685.742 Q1211.05 681.671 1212.09 680.496 Q1214.05 678.288 1214.82 676.769 Q1215.61 675.23 1215.61 673.751 Q1215.61 671.341 1213.91 669.822 Q1212.23 668.303 1209.52 668.303 Q1207.59 668.303 1205.44 668.971 Q1203.32 669.64 1200.89 670.997 L1200.89 666.865 Q1203.36 665.872 1205.5 665.366 Q1207.65 664.86 1209.43 664.86 Q1214.13 664.86 1216.93 667.209 Q1219.72 669.559 1219.72 673.488 Q1219.72 675.351 1219.01 677.033 Q1218.33 678.693 1216.48 680.962 Q1215.98 681.549 1213.26 684.365 Q1210.55 687.16 1205.61 692.203 Z\" fill=\"#000000\" fill-rule=\"nonzero\" fill-opacity=\"1\" /><path clip-path=\"url(#clip710)\" d=\"M1232 692.203 L1246.28 692.203 L1246.28 695.647 L1227.08 695.647 L1227.08 692.203 Q1229.41 689.793 1233.42 685.742 Q1237.45 681.671 1238.48 680.496 Q1240.44 678.288 1241.21 676.769 Q1242 675.23 1242 673.751 Q1242 671.341 1240.3 669.822 Q1238.62 668.303 1235.91 668.303 Q1233.98 668.303 1231.84 668.971 Q1229.71 669.64 1227.28 670.997 L1227.28 666.865 Q1229.75 665.872 1231.9 665.366 Q1234.04 664.86 1235.83 664.86 Q1240.52 664.86 1243.32 667.209 Q1246.12 669.559 1246.12 673.488 Q1246.12 675.351 1245.41 677.033 Q1244.72 678.693 1242.87 680.962 Q1242.37 681.549 1239.65 684.365 Q1236.94 687.16 1232 692.203 Z\" fill=\"#000000\" fill-rule=\"nonzero\" fill-opacity=\"1\" /><path clip-path=\"url(#clip710)\" d=\"M1255.29 690.502 L1259.56 690.502 L1259.56 693.986 L1256.24 700.467 L1253.63 700.467 L1255.29 693.986 L1255.29 690.502 Z\" fill=\"#000000\" fill-rule=\"nonzero\" fill-opacity=\"1\" /><path clip-path=\"url(#clip710)\" d=\"M1266.94 664.171 L1270.18 664.171 Q1273.22 668.951 1274.71 673.529 Q1276.23 678.106 1276.23 682.623 Q1276.23 687.16 1274.71 691.758 Q1273.22 696.355 1270.18 701.115 L1266.94 701.115 Q1269.63 696.477 1270.95 691.899 Q1272.28 687.302 1272.28 682.623 Q1272.28 677.944 1270.95 673.387 Q1269.63 668.83 1266.94 664.171 Z\" fill=\"#000000\" fill-rule=\"nonzero\" fill-opacity=\"1\" /><path clip-path=\"url(#clip710)\" d=\"M965.385 949.051 Q962.671 953.709 961.354 958.266 Q960.037 962.824 960.037 967.503 Q960.037 972.181 961.354 976.779 Q962.691 981.357 965.385 985.995 L962.144 985.995 Q959.106 981.235 957.587 976.637 Q956.088 972.04 956.088 967.503 Q956.088 962.986 957.587 958.408 Q959.085 953.831 962.144 949.051 L965.385 949.051 Z\" fill=\"#000000\" fill-rule=\"nonzero\" fill-opacity=\"1\" /><path clip-path=\"url(#clip710)\" d=\"M973.851 977.083 L980.535 977.083 L980.535 954.013 L973.264 955.471 L973.264 951.745 L980.495 950.286 L984.586 950.286 L984.586 977.083 L991.27 977.083 L991.27 980.526 L973.851 980.526 L973.851 977.083 Z\" fill=\"#000000\" fill-rule=\"nonzero\" fill-opacity=\"1\" /><path clip-path=\"url(#clip710)\" d=\"M1008.28 966.166 Q1005.37 966.166 1003.69 967.725 Q1002.03 969.285 1002.03 972.019 Q1002.03 974.754 1003.69 976.313 Q1005.37 977.873 1008.28 977.873 Q1011.2 977.873 1012.88 976.313 Q1014.56 974.733 1014.56 972.019 Q1014.56 969.285 1012.88 967.725 Q1011.22 966.166 1008.28 966.166 M1004.19 964.424 Q1001.56 963.776 1000.08 961.973 Q998.622 960.17 998.622 957.578 Q998.622 953.952 1001.19 951.846 Q1003.79 949.739 1008.28 949.739 Q1012.8 949.739 1015.37 951.846 Q1017.95 953.952 1017.95 957.578 Q1017.95 960.17 1016.47 961.973 Q1015.01 963.776 1012.4 964.424 Q1015.35 965.112 1016.99 967.118 Q1018.65 969.123 1018.65 972.019 Q1018.65 976.415 1015.96 978.764 Q1013.29 981.114 1008.28 981.114 Q1003.28 981.114 1000.59 978.764 Q997.913 976.415 997.913 972.019 Q997.913 969.123 999.574 967.118 Q1001.24 965.112 1004.19 964.424 M1002.69 957.963 Q1002.69 960.312 1004.15 961.629 Q1005.63 962.945 1008.28 962.945 Q1010.92 962.945 1012.4 961.629 Q1013.89 960.312 1013.89 957.963 Q1013.89 955.613 1012.4 954.297 Q1010.92 952.98 1008.28 952.98 Q1005.63 952.98 1004.15 954.297 Q1002.69 955.613 1002.69 957.963 Z\" fill=\"#000000\" fill-rule=\"nonzero\" fill-opacity=\"1\" /><path clip-path=\"url(#clip710)\" d=\"M1026.35 975.382 L1030.62 975.382 L1030.62 978.865 L1027.3 985.347 L1024.69 985.347 L1026.35 978.865 L1026.35 975.382 Z\" fill=\"#000000\" fill-rule=\"nonzero\" fill-opacity=\"1\" /><path clip-path=\"url(#clip710)\" d=\"M1055.82 977.083 L1070.1 977.083 L1070.1 980.526 L1050.9 980.526 L1050.9 977.083 Q1053.23 974.673 1057.24 970.622 Q1061.27 966.551 1062.3 965.376 Q1064.27 963.168 1065.04 961.649 Q1065.83 960.11 1065.83 958.631 Q1065.83 956.221 1064.13 954.702 Q1062.44 953.183 1059.73 953.183 Q1057.81 953.183 1055.66 953.851 Q1053.53 954.519 1051.1 955.876 L1051.1 951.745 Q1053.57 950.752 1055.72 950.246 Q1057.87 949.739 1059.65 949.739 Q1064.35 949.739 1067.14 952.089 Q1069.94 954.438 1069.94 958.368 Q1069.94 960.231 1069.23 961.912 Q1068.54 963.573 1066.7 965.842 Q1066.19 966.429 1063.48 969.244 Q1060.76 972.04 1055.82 977.083 Z\" fill=\"#000000\" fill-rule=\"nonzero\" fill-opacity=\"1\" /><path clip-path=\"url(#clip710)\" d=\"M1078.73 950.286 L1094.79 950.286 L1094.79 953.729 L1082.48 953.729 L1082.48 961.143 Q1083.37 960.839 1084.26 960.697 Q1085.15 960.535 1086.04 960.535 Q1091.1 960.535 1094.06 963.31 Q1097.02 966.085 1097.02 970.824 Q1097.02 975.706 1093.98 978.42 Q1090.94 981.114 1085.41 981.114 Q1083.51 981.114 1081.52 980.789 Q1079.56 980.465 1077.45 979.817 L1077.45 975.706 Q1079.28 976.698 1081.22 977.184 Q1083.16 977.67 1085.33 977.67 Q1088.84 977.67 1090.88 975.827 Q1092.93 973.984 1092.93 970.824 Q1092.93 967.665 1090.88 965.821 Q1088.84 963.978 1085.33 963.978 Q1083.69 963.978 1082.05 964.343 Q1080.43 964.707 1078.73 965.477 L1078.73 950.286 Z\" fill=\"#000000\" fill-rule=\"nonzero\" fill-opacity=\"1\" /><path clip-path=\"url(#clip710)\" d=\"M1103.97 949.051 L1107.21 949.051 Q1110.24 953.831 1111.74 958.408 Q1113.26 962.986 1113.26 967.503 Q1113.26 972.04 1111.74 976.637 Q1110.24 981.235 1107.21 985.995 L1103.97 985.995 Q1106.66 981.357 1107.98 976.779 Q1109.31 972.181 1109.31 967.503 Q1109.31 962.824 1107.98 958.266 Q1106.66 953.709 1103.97 949.051 Z\" fill=\"#000000\" fill-rule=\"nonzero\" fill-opacity=\"1\" /><path clip-path=\"url(#clip710)\" d=\"M727.53 1013.17 Q724.816 1017.83 723.499 1022.39 Q722.183 1026.95 722.183 1031.63 Q722.183 1036.3 723.499 1040.9 Q724.836 1045.48 727.53 1050.12 L724.289 1050.12 Q721.251 1045.36 719.732 1040.76 Q718.233 1036.16 718.233 1031.63 Q718.233 1027.11 719.732 1022.53 Q721.231 1017.95 724.289 1013.17 L727.53 1013.17 Z\" fill=\"#000000\" fill-rule=\"nonzero\" fill-opacity=\"1\" /><path clip-path=\"url(#clip710)\" d=\"M735.996 1041.21 L742.68 1041.21 L742.68 1018.14 L735.409 1019.59 L735.409 1015.87 L742.64 1014.41 L746.731 1014.41 L746.731 1041.21 L753.415 1041.21 L753.415 1044.65 L735.996 1044.65 L735.996 1041.21 Z\" fill=\"#000000\" fill-rule=\"nonzero\" fill-opacity=\"1\" /><path clip-path=\"url(#clip710)\" d=\"M770.935 1027.9 Q768.181 1027.9 766.56 1029.78 Q764.96 1031.67 764.96 1034.95 Q764.96 1038.21 766.56 1040.11 Q768.181 1042 770.935 1042 Q773.69 1042 775.29 1040.11 Q776.91 1038.21 776.91 1034.95 Q776.91 1031.67 775.29 1029.78 Q773.69 1027.9 770.935 1027.9 M779.057 1015.08 L779.057 1018.8 Q777.518 1018.08 775.938 1017.69 Q774.379 1017.31 772.839 1017.31 Q768.788 1017.31 766.641 1020.04 Q764.515 1022.77 764.211 1028.3 Q765.406 1026.54 767.208 1025.61 Q769.011 1024.66 771.178 1024.66 Q775.736 1024.66 778.369 1027.43 Q781.022 1030.19 781.022 1034.95 Q781.022 1039.61 778.267 1042.42 Q775.513 1045.24 770.935 1045.24 Q765.689 1045.24 762.915 1041.23 Q760.14 1037.2 760.14 1029.56 Q760.14 1022.39 763.542 1018.14 Q766.945 1013.86 772.677 1013.86 Q774.217 1013.86 775.776 1014.17 Q777.356 1014.47 779.057 1015.08 Z\" fill=\"#000000\" fill-rule=\"nonzero\" fill-opacity=\"1\" /><path clip-path=\"url(#clip710)\" d=\"M788.496 1039.51 L792.77 1039.51 L792.77 1042.99 L789.448 1049.47 L786.835 1049.47 L788.496 1042.99 L788.496 1039.51 Z\" fill=\"#000000\" fill-rule=\"nonzero\" fill-opacity=\"1\" /><path clip-path=\"url(#clip710)\" d=\"M817.966 1041.21 L832.246 1041.21 L832.246 1044.65 L813.044 1044.65 L813.044 1041.21 Q815.374 1038.8 819.384 1034.75 Q823.415 1030.67 824.448 1029.5 Q826.412 1027.29 827.182 1025.77 Q827.972 1024.23 827.972 1022.75 Q827.972 1020.34 826.271 1018.83 Q824.59 1017.31 821.875 1017.31 Q819.951 1017.31 817.804 1017.97 Q815.678 1018.64 813.247 1020 L813.247 1015.87 Q815.718 1014.88 817.865 1014.37 Q820.012 1013.86 821.794 1013.86 Q826.493 1013.86 829.289 1016.21 Q832.084 1018.56 832.084 1022.49 Q832.084 1024.35 831.375 1026.04 Q830.686 1027.7 828.843 1029.97 Q828.337 1030.55 825.623 1033.37 Q822.908 1036.16 817.966 1041.21 Z\" fill=\"#000000\" fill-rule=\"nonzero\" fill-opacity=\"1\" /><path clip-path=\"url(#clip710)\" d=\"M849.584 1030.29 Q846.667 1030.29 844.986 1031.85 Q843.325 1033.41 843.325 1036.14 Q843.325 1038.88 844.986 1040.44 Q846.667 1042 849.584 1042 Q852.5 1042 854.181 1040.44 Q855.863 1038.86 855.863 1036.14 Q855.863 1033.41 854.181 1031.85 Q852.521 1030.29 849.584 1030.29 M845.492 1028.55 Q842.859 1027.9 841.381 1026.1 Q839.922 1024.29 839.922 1021.7 Q839.922 1018.08 842.495 1015.97 Q845.087 1013.86 849.584 1013.86 Q854.1 1013.86 856.673 1015.97 Q859.245 1018.08 859.245 1021.7 Q859.245 1024.29 857.766 1026.1 Q856.308 1027.9 853.695 1028.55 Q856.652 1029.24 858.293 1031.24 Q859.954 1033.25 859.954 1036.14 Q859.954 1040.54 857.26 1042.89 Q854.586 1045.24 849.584 1045.24 Q844.581 1045.24 841.887 1042.89 Q839.213 1040.54 839.213 1036.14 Q839.213 1033.25 840.874 1031.24 Q842.535 1029.24 845.492 1028.55 M843.993 1022.09 Q843.993 1024.44 845.452 1025.75 Q846.93 1027.07 849.584 1027.07 Q852.217 1027.07 853.695 1025.75 Q855.194 1024.44 855.194 1022.09 Q855.194 1019.74 853.695 1018.42 Q852.217 1017.1 849.584 1017.1 Q846.93 1017.1 845.452 1018.42 Q843.993 1019.74 843.993 1022.09 Z\" fill=\"#000000\" fill-rule=\"nonzero\" fill-opacity=\"1\" /><path clip-path=\"url(#clip710)\" d=\"M866.111 1013.17 L869.352 1013.17 Q872.39 1017.95 873.889 1022.53 Q875.408 1027.11 875.408 1031.63 Q875.408 1036.16 873.889 1040.76 Q872.39 1045.36 869.352 1050.12 L866.111 1050.12 Q868.805 1045.48 870.122 1040.9 Q871.459 1036.3 871.459 1031.63 Q871.459 1026.95 870.122 1022.39 Q868.805 1017.83 866.111 1013.17 Z\" fill=\"#000000\" fill-rule=\"nonzero\" fill-opacity=\"1\" /><path clip-path=\"url(#clip710)\" d=\"M1694.78 970.171 Q1692.07 974.829 1690.75 979.387 Q1689.44 983.944 1689.44 988.623 Q1689.44 993.301 1690.75 997.899 Q1692.09 1002.48 1694.78 1007.12 L1691.54 1007.12 Q1688.5 1002.36 1686.99 997.757 Q1685.49 993.16 1685.49 988.623 Q1685.49 984.106 1686.99 979.528 Q1688.48 974.951 1691.54 970.171 L1694.78 970.171 Z\" fill=\"#000000\" fill-rule=\"nonzero\" fill-opacity=\"1\" /><path clip-path=\"url(#clip710)\" d=\"M1706.07 998.203 L1720.34 998.203 L1720.34 1001.65 L1701.14 1001.65 L1701.14 998.203 Q1703.47 995.793 1707.48 991.742 Q1711.51 987.671 1712.55 986.496 Q1714.51 984.288 1715.28 982.769 Q1716.07 981.23 1716.07 979.751 Q1716.07 977.341 1714.37 975.822 Q1712.69 974.303 1709.97 974.303 Q1708.05 974.303 1705.9 974.971 Q1703.78 975.64 1701.35 976.997 L1701.35 972.865 Q1703.82 971.872 1705.96 971.366 Q1708.11 970.859 1709.89 970.859 Q1714.59 970.859 1717.39 973.209 Q1720.18 975.559 1720.18 979.488 Q1720.18 981.351 1719.47 983.032 Q1718.79 984.693 1716.94 986.962 Q1716.44 987.549 1713.72 990.365 Q1711.01 993.16 1706.07 998.203 Z\" fill=\"#000000\" fill-rule=\"nonzero\" fill-opacity=\"1\" /><path clip-path=\"url(#clip710)\" d=\"M1729.36 996.502 L1733.63 996.502 L1733.63 999.985 L1730.31 1006.47 L1727.7 1006.47 L1729.36 999.985 L1729.36 996.502 Z\" fill=\"#000000\" fill-rule=\"nonzero\" fill-opacity=\"1\" /><path clip-path=\"url(#clip710)\" d=\"M1755.34 971.406 L1771.41 971.406 L1771.41 974.85 L1759.09 974.85 L1759.09 982.263 Q1759.98 981.959 1760.87 981.817 Q1761.77 981.655 1762.66 981.655 Q1767.72 981.655 1770.68 984.43 Q1773.63 987.205 1773.63 991.944 Q1773.63 996.826 1770.6 999.54 Q1767.56 1002.23 1762.03 1002.23 Q1760.12 1002.23 1758.14 1001.91 Q1756.18 1001.59 1754.07 1000.94 L1754.07 996.826 Q1755.89 997.818 1757.84 998.304 Q1759.78 998.79 1761.95 998.79 Q1765.45 998.79 1767.5 996.947 Q1769.54 995.104 1769.54 991.944 Q1769.54 988.785 1767.5 986.942 Q1765.45 985.098 1761.95 985.098 Q1760.31 985.098 1758.67 985.463 Q1757.05 985.828 1755.34 986.597 L1755.34 971.406 Z\" fill=\"#000000\" fill-rule=\"nonzero\" fill-opacity=\"1\" /><path clip-path=\"url(#clip710)\" d=\"M1780.58 970.171 L1783.82 970.171 Q1786.86 974.951 1788.36 979.528 Q1789.88 984.106 1789.88 988.623 Q1789.88 993.16 1788.36 997.757 Q1786.86 1002.36 1783.82 1007.12 L1780.58 1007.12 Q1783.28 1002.48 1784.59 997.899 Q1785.93 993.301 1785.93 988.623 Q1785.93 983.944 1784.59 979.387 Q1783.28 974.829 1780.58 970.171 Z\" fill=\"#000000\" fill-rule=\"nonzero\" fill-opacity=\"1\" /><path clip-path=\"url(#clip710)\" d=\"M1324.5 913.302 Q1321.78 917.961 1320.47 922.518 Q1319.15 927.075 1319.15 931.754 Q1319.15 936.433 1320.47 941.031 Q1321.8 945.608 1324.5 950.246 L1321.26 950.246 Q1318.22 945.487 1316.7 940.889 Q1315.2 936.291 1315.2 931.754 Q1315.2 927.237 1316.7 922.66 Q1318.2 918.082 1321.26 913.302 L1324.5 913.302 Z\" fill=\"#000000\" fill-rule=\"nonzero\" fill-opacity=\"1\" /><path clip-path=\"url(#clip710)\" d=\"M1331.22 914.538 L1350.67 914.538 L1350.67 916.28 L1339.69 944.778 L1335.41 944.778 L1345.74 917.981 L1331.22 917.981 L1331.22 914.538 Z\" fill=\"#000000\" fill-rule=\"nonzero\" fill-opacity=\"1\" /><path clip-path=\"url(#clip710)\" d=\"M1359.07 939.633 L1363.35 939.633 L1363.35 943.117 L1360.02 949.598 L1357.41 949.598 L1359.07 943.117 L1359.07 939.633 Z\" fill=\"#000000\" fill-rule=\"nonzero\" fill-opacity=\"1\" /><path clip-path=\"url(#clip710)\" d=\"M1385.73 941.334 L1392.41 941.334 L1392.41 918.264 L1385.14 919.723 L1385.14 915.996 L1392.37 914.538 L1396.46 914.538 L1396.46 941.334 L1403.15 941.334 L1403.15 944.778 L1385.73 944.778 L1385.73 941.334 Z\" fill=\"#000000\" fill-rule=\"nonzero\" fill-opacity=\"1\" /><path clip-path=\"url(#clip710)\" d=\"M1422.65 918.102 L1412.32 934.245 L1422.65 934.245 L1422.65 918.102 M1421.58 914.538 L1426.72 914.538 L1426.72 934.245 L1431.04 934.245 L1431.04 937.648 L1426.72 937.648 L1426.72 944.778 L1422.65 944.778 L1422.65 937.648 L1409 937.648 L1409 933.698 L1421.58 914.538 Z\" fill=\"#000000\" fill-rule=\"nonzero\" fill-opacity=\"1\" /><path clip-path=\"url(#clip710)\" d=\"M1436.69 913.302 L1439.93 913.302 Q1442.97 918.082 1444.47 922.66 Q1445.98 927.237 1445.98 931.754 Q1445.98 936.291 1444.47 940.889 Q1442.97 945.487 1439.93 950.246 L1436.69 950.246 Q1439.38 945.608 1440.7 941.031 Q1442.03 936.433 1442.03 931.754 Q1442.03 927.075 1440.7 922.518 Q1439.38 917.961 1436.69 913.302 Z\" fill=\"#000000\" fill-rule=\"nonzero\" fill-opacity=\"1\" /><path clip-path=\"url(#clip710)\" d=\"M1565.47 872.793 Q1562.75 877.452 1561.44 882.009 Q1560.12 886.566 1560.12 891.245 Q1560.12 895.924 1561.44 900.522 Q1562.77 905.099 1565.47 909.737 L1562.23 909.737 Q1559.19 904.978 1557.67 900.38 Q1556.17 895.782 1556.17 891.245 Q1556.17 886.728 1557.67 882.151 Q1559.17 877.573 1562.23 872.793 L1565.47 872.793 Z\" fill=\"#000000\" fill-rule=\"nonzero\" fill-opacity=\"1\" /><path clip-path=\"url(#clip710)\" d=\"M1576.75 900.825 L1591.03 900.825 L1591.03 904.269 L1571.83 904.269 L1571.83 900.825 Q1574.16 898.415 1578.17 894.364 Q1582.2 890.293 1583.23 889.118 Q1585.19 886.91 1585.96 885.391 Q1586.75 883.852 1586.75 882.373 Q1586.75 879.963 1585.05 878.444 Q1583.37 876.925 1580.66 876.925 Q1578.73 876.925 1576.59 877.593 Q1574.46 878.262 1572.03 879.619 L1572.03 875.487 Q1574.5 874.494 1576.65 873.988 Q1578.79 873.482 1580.58 873.482 Q1585.28 873.482 1588.07 875.831 Q1590.87 878.181 1590.87 882.11 Q1590.87 883.974 1590.16 885.655 Q1589.47 887.316 1587.62 889.584 Q1587.12 890.171 1584.4 892.987 Q1581.69 895.782 1576.75 900.825 Z\" fill=\"#000000\" fill-rule=\"nonzero\" fill-opacity=\"1\" /><path clip-path=\"url(#clip710)\" d=\"M1600.04 899.124 L1604.31 899.124 L1604.31 902.608 L1600.99 909.089 L1598.38 909.089 L1600.04 902.608 L1600.04 899.124 Z\" fill=\"#000000\" fill-rule=\"nonzero\" fill-opacity=\"1\" /><path clip-path=\"url(#clip710)\" d=\"M1629.51 900.825 L1643.79 900.825 L1643.79 904.269 L1624.59 904.269 L1624.59 900.825 Q1626.92 898.415 1630.93 894.364 Q1634.96 890.293 1635.99 889.118 Q1637.96 886.91 1638.73 885.391 Q1639.52 883.852 1639.52 882.373 Q1639.52 879.963 1637.82 878.444 Q1636.13 876.925 1633.42 876.925 Q1631.5 876.925 1629.35 877.593 Q1627.22 878.262 1624.79 879.619 L1624.79 875.487 Q1627.26 874.494 1629.41 873.988 Q1631.56 873.482 1633.34 873.482 Q1638.04 873.482 1640.83 875.831 Q1643.63 878.181 1643.63 882.11 Q1643.63 883.974 1642.92 885.655 Q1642.23 887.316 1640.39 889.584 Q1639.88 890.171 1637.17 892.987 Q1634.45 895.782 1629.51 900.825 Z\" fill=\"#000000\" fill-rule=\"nonzero\" fill-opacity=\"1\" /><path clip-path=\"url(#clip710)\" d=\"M1655.9 900.825 L1670.18 900.825 L1670.18 904.269 L1650.98 904.269 L1650.98 900.825 Q1653.31 898.415 1657.32 894.364 Q1661.35 890.293 1662.38 889.118 Q1664.35 886.91 1665.12 885.391 Q1665.91 883.852 1665.91 882.373 Q1665.91 879.963 1664.21 878.444 Q1662.53 876.925 1659.81 876.925 Q1657.89 876.925 1655.74 877.593 Q1653.61 878.262 1651.18 879.619 L1651.18 875.487 Q1653.65 874.494 1655.8 873.988 Q1657.95 873.482 1659.73 873.482 Q1664.43 873.482 1667.22 875.831 Q1670.02 878.181 1670.02 882.11 Q1670.02 883.974 1669.31 885.655 Q1668.62 887.316 1666.78 889.584 Q1666.27 890.171 1663.56 892.987 Q1660.84 895.782 1655.9 900.825 Z\" fill=\"#000000\" fill-rule=\"nonzero\" fill-opacity=\"1\" /><path clip-path=\"url(#clip710)\" d=\"M1677.66 872.793 L1680.9 872.793 Q1683.93 877.573 1685.43 882.151 Q1686.95 886.728 1686.95 891.245 Q1686.95 895.782 1685.43 900.38 Q1683.93 904.978 1680.9 909.737 L1677.66 909.737 Q1680.35 905.099 1681.67 900.522 Q1683 895.924 1683 891.245 Q1683 886.566 1681.67 882.009 Q1680.35 877.452 1677.66 872.793 Z\" fill=\"#000000\" fill-rule=\"nonzero\" fill-opacity=\"1\" /><path clip-path=\"url(#clip710)\" d=\"M1296.69 1321.33 Q1293.97 1325.99 1292.66 1330.54 Q1291.34 1335.1 1291.34 1339.78 Q1291.34 1344.46 1292.66 1349.06 Q1293.99 1353.63 1296.69 1358.27 L1293.45 1358.27 Q1290.41 1353.51 1288.89 1348.91 Q1287.39 1344.32 1287.39 1339.78 Q1287.39 1335.26 1288.89 1330.68 Q1290.39 1326.11 1293.45 1321.33 L1296.69 1321.33 Z\" fill=\"#000000\" fill-rule=\"nonzero\" fill-opacity=\"1\" /><path clip-path=\"url(#clip710)\" d=\"M1303.33 1321.33 L1306.57 1321.33 Q1309.61 1326.11 1311.11 1330.68 Q1312.63 1335.26 1312.63 1339.78 Q1312.63 1344.32 1311.11 1348.91 Q1309.61 1353.51 1306.57 1358.27 L1303.33 1358.27 Q1306.03 1353.63 1307.34 1349.06 Q1308.68 1344.46 1308.68 1339.78 Q1308.68 1335.1 1307.34 1330.54 Q1306.03 1325.99 1303.33 1321.33 Z\" fill=\"#000000\" fill-rule=\"nonzero\" fill-opacity=\"1\" /></svg>\n"
      ]
     },
     "metadata": {},
     "output_type": "display_data"
    }
   ],
   "source": [
    "using Plots, Graphs\n",
    "\n",
    "function plot_selection_diagram(sd)\n",
    "    incidence = zeros(Int, nv(sd), nv(sd))\n",
    "\n",
    "    V = collect(vertices(sd))\n",
    "\n",
    "    for a in edges(sd)\n",
    "        i = findfirst(v -> v == a.src, V)\n",
    "        j = findfirst(v -> v == a.dst, V)\n",
    "        incidence[i, j] = 1\n",
    "    end\n",
    "\n",
    "    graphplot(incidence, names=[v[2] for v in V], curves=true, method=:tree)\n",
    "end\n",
    "\n",
    "plot_selection_diagram(sd)"
   ]
  },
  {
   "cell_type": "markdown",
   "id": "b5e1e2f5",
   "metadata": {},
   "source": [
    "### Solve"
   ]
  },
  {
   "cell_type": "code",
   "execution_count": 462,
   "id": "c6b2f875",
   "metadata": {},
   "outputs": [
    {
     "name": "stdout",
     "output_type": "stream",
     "text": [
      "Set parameter OutputFlag to value 1\n",
      "Set parameter Threads to value 0\n",
      "Set parameter Threads to value 0\n",
      "Set parameter OutputFlag to value 1\n",
      "Gurobi Optimizer version 12.0.2 build v12.0.2rc0 (armlinux64 - \"Ubuntu 22.04.5 LTS\")\n",
      "\n",
      "CPU model: ARM64\n",
      "Thread count: 8 physical cores, 8 logical processors, using up to 8 threads\n",
      "\n",
      "Academic license 2562957 - for non-commercial use only - registered to br___@umontreal.ca\n",
      "Optimize a model with 75 rows, 78 columns and 255 nonzeros\n",
      "Model fingerprint: 0x575491b7\n",
      "Variable types: 48 continuous, 30 integer (30 binary)\n",
      "Coefficient statistics:\n",
      "  Matrix range     [1e+00, 1e+02]\n",
      "  Objective range  [1e+00, 1e+00]\n",
      "  Bounds range     [3e+00, 1e+02]\n",
      "  RHS range        [1e-04, 8e+02]\n",
      "Found heuristic solution: objective -0.0000000\n",
      "Presolve removed 31 rows and 19 columns\n",
      "Presolve time: 0.00s\n",
      "Presolved: 44 rows, 59 columns, 182 nonzeros\n",
      "Found heuristic solution: objective 344.5001000\n",
      "Variable types: 29 continuous, 30 integer (30 binary)\n",
      "\n",
      "Root relaxation: objective 4.312436e+02, 51 iterations, 0.00 seconds (0.00 work units)\n",
      "\n",
      "    Nodes    |    Current Node    |     Objective Bounds      |     Work\n",
      " Expl Unexpl |  Obj  Depth IntInf | Incumbent    BestBd   Gap | It/Node Time\n",
      "\n",
      "     0     0  431.24364    0    2  344.50010  431.24364  25.2%     -    0s\n",
      "H    0     0                     423.5001000  431.24364  1.83%     -    0s\n",
      "     0     0  428.79638    0    4  423.50010  428.79638  1.25%     -    0s\n",
      "H    0     0                     427.5001000  428.58679  0.25%     -    0s\n",
      "     0     0  428.58679    0    4  427.50010  428.58679  0.25%     -    0s\n",
      "     0     0  427.86374    0    1  427.50010  427.86374  0.09%     -    0s\n",
      "\n",
      "Cutting planes:\n",
      "  Gomory: 2\n",
      "  Cover: 1\n",
      "  MIR: 1\n",
      "  Flow cover: 1\n",
      "\n",
      "Explored 1 nodes (75 simplex iterations) in 0.25 seconds (0.00 work units)\n",
      "Thread count was 8 (of 8 available processors)\n",
      "\n",
      "Solution count 4: 427.5 423.5 344.5 -0 \n",
      "\n",
      "Optimal solution found (tolerance 1.00e-04)\n",
      "Best objective 4.275001000000e+02, best bound 4.275001000000e+02, gap 0.0000%\n",
      "\n",
      "User-callback calls 407, time in user-callback 0.00 sec\n"
     ]
    }
   ],
   "source": [
    "# Create a model from the SD\n",
    "# model_sd = sdgraph_model(sd)  # This is the model with the callback already\n",
    "\n",
    "# Create baseline SD model\n",
    "model_sd = base_model(prob)\n",
    "CombinatorialPricing.add_sdgraph_dual!(model_sd, sd)\n",
    "\n",
    "# equivalent to the first iteration, i.e., solves the relaxation\n",
    "optimize!(model_sd)"
   ]
  },
  {
   "cell_type": "code",
   "execution_count": 463,
   "id": "de60247e",
   "metadata": {},
   "outputs": [],
   "source": [
    "# candidate solution\n",
    "x_hat = value.(model_sd[:x])\n",
    "t_hat = value.(model_sd[:t])\n",
    ";"
   ]
  },
  {
   "cell_type": "markdown",
   "id": "c30700b7",
   "metadata": {},
   "source": [
    "### Best Response"
   ]
  },
  {
   "cell_type": "code",
   "execution_count": 464,
   "id": "010c0b76",
   "metadata": {},
   "outputs": [
    {
     "name": "stdout",
     "output_type": "stream",
     "text": [
      "Set parameter OutputFlag to value 1\n",
      "Set parameter Threads to value 0\n"
     ]
    },
    {
     "data": {
      "text/plain": [
       "-631.9999"
      ]
     },
     "metadata": {},
     "output_type": "display_data"
    }
   ],
   "source": [
    "model_f = follower_model(prob)\n",
    "\n",
    "follower_obj = set_toll!(model_f, prob, value.(t_hat))\n",
    "\n",
    "inp = Dict(model_f[:x][i] => value(x_hat[i]) for i in 1:num_items(prob))\n",
    "follower_obj_hat = value(i -> inp[i], follower_obj)"
   ]
  },
  {
   "cell_type": "code",
   "execution_count": 465,
   "id": "2b641a09",
   "metadata": {},
   "outputs": [
    {
     "name": "stdout",
     "output_type": "stream",
     "text": [
      "Set parameter Threads to value 0\n",
      "Set parameter OutputFlag to value 1\n",
      "Gurobi Optimizer version 12.0.2 build v12.0.2rc0 (armlinux64 - \"Ubuntu 22.04.5 LTS\")\n",
      "\n",
      "CPU model: ARM64\n",
      "Thread count: 8 physical cores, 8 logical processors, using up to 8 threads\n",
      "\n",
      "Academic license 2562957 - for non-commercial use only - registered to br___@umontreal.ca\n",
      "Optimize a model with 1 rows, 30 columns and 30 nonzeros\n",
      "Model fingerprint: 0x30b8c630\n",
      "Variable types: 0 continuous, 30 integer (30 binary)\n",
      "Coefficient statistics:\n",
      "  Matrix range     [2e+00, 1e+02]\n",
      "  Objective range  [8e+00, 1e+02]\n",
      "  Bounds range     [0e+00, 0e+00]\n",
      "  RHS range        [7e+02, 7e+02]\n",
      "Found heuristic solution: objective -838.0000000\n",
      "Presolve removed 1 rows and 30 columns\n",
      "Presolve time: 0.00s\n",
      "Presolve: All rows and columns removed\n",
      "\n",
      "Explored 0 nodes (0 simplex iterations) in 0.17 seconds (0.00 work units)\n",
      "Thread count was 1 (of 8 available processors)\n",
      "\n",
      "Solution count 2: -886 -838 \n",
      "No other solutions better than -886\n",
      "\n",
      "Optimal solution found (tolerance 1.00e-04)\n",
      "Best objective -8.860000000000e+02, best bound -8.860000000000e+02, gap 0.0000%\n",
      "\n",
      "User-callback calls 144, time in user-callback 0.00 sec\n"
     ]
    }
   ],
   "source": [
    "optimize!(model_f)"
   ]
  },
  {
   "cell_type": "code",
   "execution_count": 466,
   "id": "99cb8dd6",
   "metadata": {},
   "outputs": [
    {
     "data": {
      "text/plain": [
       "12"
      ]
     },
     "metadata": {},
     "output_type": "display_data"
    }
   ],
   "source": [
    "# follower's best response\n",
    "x_br = value.(model_f[:x])\n",
    "\n",
    "sum(.!(x_hat .≈ x_br))"
   ]
  },
  {
   "cell_type": "code",
   "execution_count": 467,
   "id": "d4878d4c",
   "metadata": {},
   "outputs": [
    {
     "name": "stdout",
     "output_type": "stream",
     "text": [
      "DPArc (2, (16, 28)) => (3, ()) (1, 3, 4, 6, 8, 10, 12, 15, 20, 21, 22, 24, 29)\n"
     ]
    }
   ],
   "source": [
    "x_set = CombinatorialPricing.convert_x_to_set(x_br)\n",
    "\n",
    "arc_best_response = SDArc(source_node(sd), sink_node(sd), x_set)\n",
    "\n",
    "added = false\n",
    "for l in 2:-1:1\n",
    "    layer = sd.layers[l]\n",
    "    for s in layer\n",
    "        (s.selected ⊆ x_set) || continue\n",
    "        arc_label = setdiff(x_set, s.selected)\n",
    "        arc_best_response = SDArc((l, s), sink_node(sd), arc_label)\n",
    "        added = true\n",
    "        break\n",
    "    end\n",
    "    added && break\n",
    "end\n",
    "\n",
    "# push!(sd.arcs, arc_best_response)\n",
    "\n",
    "println(arc_best_response)"
   ]
  },
  {
   "cell_type": "markdown",
   "id": "d55a2bca",
   "metadata": {},
   "source": [
    "### Separation Problem"
   ]
  },
  {
   "cell_type": "code",
   "execution_count": 468,
   "id": "0a72948f",
   "metadata": {},
   "outputs": [],
   "source": [
    "# state matrix\n",
    "S = zeros(Int, num_items(prob), nv(sd))\n",
    "\n",
    "for (j, v) in enumerate(collect(vertices(sd)))\n",
    "    for i in v[2].selected\n",
    "        S[i,j] = 1\n",
    "    end\n",
    "end"
   ]
  },
  {
   "cell_type": "code",
   "execution_count": 469,
   "id": "a8f653b0",
   "metadata": {},
   "outputs": [],
   "source": [
    "# dual variables vector\n",
    "y = zeros(nv(sd))\n",
    "\n",
    "for (j, v) in enumerate(vertices(sd))\n",
    "    y[j] = -value(model_sd[:y][v])\n",
    "end"
   ]
  },
  {
   "cell_type": "code",
   "execution_count": 470,
   "id": "c7e942ea",
   "metadata": {},
   "outputs": [
    {
     "name": "stdout",
     "output_type": "stream",
     "text": [
      "Set parameter WLSAccessID\n",
      "Set parameter WLSSecret\n",
      "Set parameter LicenseID to value 2562957\n",
      "Academic license 2562957 - for non-commercial use only - registered to br___@umontreal.ca\n",
      "Gurobi Optimizer version 12.0.2 build v12.0.2rc0 (armlinux64 - \"Ubuntu 22.04.5 LTS\")\n",
      "\n",
      "CPU model: ARM64\n",
      "Thread count: 8 physical cores, 8 logical processors, using up to 8 threads\n",
      "\n",
      "Academic license 2562957 - for non-commercial use only - registered to br___@umontreal.ca\n",
      "Optimize a model with 33 rows, 46 columns and 110 nonzeros\n",
      "Model fingerprint: 0xd2f5590b\n",
      "Variable types: 0 continuous, 46 integer (46 binary)\n",
      "Coefficient statistics:\n",
      "  Matrix range     [1e+00, 2e+02]\n",
      "  Objective range  [8e+00, 6e+02]\n",
      "  Bounds range     [0e+00, 0e+00]\n",
      "  RHS range        [1e+00, 7e+02]\n",
      "Found heuristic solution: objective -206.0000000\n",
      "Presolve removed 25 rows and 16 columns\n",
      "Presolve time: 0.00s\n",
      "Presolved: 8 rows, 30 columns, 52 nonzeros\n",
      "Variable types: 0 continuous, 30 integer (30 binary)\n",
      "\n",
      "Root relaxation: objective -8.682236e+02, 2 iterations, 0.00 seconds (0.00 work units)\n",
      "\n",
      "    Nodes    |    Current Node    |     Objective Bounds      |     Work\n",
      " Expl Unexpl |  Obj  Depth IntInf | Incumbent    BestBd   Gap | It/Node Time\n",
      "\n",
      "     0     0 -868.22362    0    1 -206.00000 -868.22362   321%     -    0s\n",
      "H    0     0                    -773.9999000 -868.22362  12.2%     -    0s\n",
      "H    0     0                    -848.9999000 -868.22362  2.26%     -    0s\n",
      "H    0     0                    -851.9999000 -868.22362  1.90%     -    0s\n",
      "H    0     0                    -864.9999000 -868.22362  0.37%     -    0s\n",
      "     0     0 -867.38689    0    2 -864.99990 -867.38689  0.28%     -    0s\n",
      "\n",
      "Cutting planes:\n",
      "  MIR: 1\n",
      "\n",
      "Explored 1 nodes (3 simplex iterations) in 0.00 seconds (0.00 work units)\n",
      "Thread count was 8 (of 8 available processors)\n",
      "\n",
      "Solution count 5: -865 -852 -849 ... -206\n",
      "No other solutions better than -865\n",
      "\n",
      "Optimal solution found (tolerance 1.00e-04)\n",
      "Best objective -8.649999000000e+02, best bound -8.649999000000e+02, gap 0.0000%\n",
      "\n",
      "User-callback calls 384, time in user-callback 0.00 sec\n"
     ]
    }
   ],
   "source": [
    "model_sep = Model(Gurobi.Optimizer)\n",
    "\n",
    "@variable(model_sep, u[1:nv(sd)], Bin)\n",
    "@variable(model_sep, l[1:num_items(prob)], Bin)\n",
    "\n",
    "@constraint(model_sep, prob.weights' * (S * u .+ l) <= prob.capacity)\n",
    "@constraint(model_sep, S * u .+ l .<= 1)\n",
    "@constraint(model_sep, sum(u) == 1)\n",
    "@constraint(model_sep, u[end] == 0)\n",
    "\n",
    "ct = base_costs(prob) .+ CombinatorialPricing.expand_t(t_hat, prob)\n",
    "@objective(model_sep, Min, y' * u + ct' * l)\n",
    "\n",
    "optimize!(model_sep)"
   ]
  },
  {
   "cell_type": "code",
   "execution_count": 471,
   "id": "ca20c133",
   "metadata": {},
   "outputs": [
    {
     "data": {
      "text/plain": [
       "DPArc (1, (5,)) => (3, ()) (1, 3, 4, 6, 8, 12, 15, 16, 18, 22, 24, 28)"
      ]
     },
     "metadata": {},
     "output_type": "display_data"
    }
   ],
   "source": [
    "u_star = collect(vertices(sd))[findfirst(round.(Bool, value.(u)))]\n",
    "arc_label = Set(findall(round.(Bool, value.(l))))\n",
    "\n",
    "arc_separation = SDArc(u_star, sink_node(sd), arc_label)"
   ]
  },
  {
   "cell_type": "code",
   "execution_count": 472,
   "id": "c67f14c1",
   "metadata": {},
   "outputs": [
    {
     "data": {
      "text/plain": [
       "DPArc (2, (16, 28)) => (3, ()) (1, 3, 4, 6, 8, 10, 12, 15, 20, 21, 22, 24, 29)"
      ]
     },
     "metadata": {},
     "output_type": "display_data"
    }
   ],
   "source": [
    "arc_best_response"
   ]
  },
  {
   "cell_type": "code",
   "execution_count": 473,
   "id": "f4719036",
   "metadata": {},
   "outputs": [
    {
     "data": {
      "text/plain": [
       "15-element Vector{Int64}:\n",
       "  1\n",
       "  3\n",
       "  4\n",
       "  6\n",
       "  8\n",
       " 10\n",
       " 12\n",
       " 15\n",
       " 16\n",
       " 20\n",
       " 21\n",
       " 22\n",
       " 24\n",
       " 28\n",
       " 29"
      ]
     },
     "metadata": {},
     "output_type": "display_data"
    }
   ],
   "source": [
    "findall(round.(Bool, x_br))"
   ]
  },
  {
   "cell_type": "code",
   "execution_count": 474,
   "id": "12b94823",
   "metadata": {},
   "outputs": [
    {
     "data": {
      "text/plain": [
       "BitSet with 13 elements:\n",
       "  1\n",
       "  3\n",
       "  4\n",
       "  5\n",
       "  6\n",
       "  8\n",
       "  12\n",
       "  15\n",
       "  16\n",
       "  18\n",
       "  22\n",
       "  24\n",
       "  28"
      ]
     },
     "metadata": {},
     "output_type": "display_data"
    }
   ],
   "source": [
    "arc_separation.src[2].selected ∪ arc_separation.action"
   ]
  },
  {
   "cell_type": "code",
   "execution_count": 475,
   "id": "067cecd4",
   "metadata": {},
   "outputs": [
    {
     "data": {
      "text/plain": [
       "-886.0"
      ]
     },
     "metadata": {},
     "output_type": "display_data"
    }
   ],
   "source": [
    "function get_x_index(var)\n",
    "    m = match(r\"\\[(\\d+)\\]\", name(var))\n",
    "\n",
    "    return parse(Int, m.captures[1])\n",
    "end\n",
    "\n",
    "# inp = Dict(model_f[:x][i] => value(x_hat[i]) for i in 1:num_items(prob))\n",
    "# follower_obj_hat = value(x_i -> inp[x_i], follower_obj)\n",
    "\n",
    "value(x_i -> x_br[get_x_index(x_i)], objective_function(model_f))"
   ]
  },
  {
   "cell_type": "code",
   "execution_count": 476,
   "id": "22b802ed",
   "metadata": {},
   "outputs": [
    {
     "data": {
      "text/plain": [
       "-884.9999"
      ]
     },
     "metadata": {},
     "output_type": "display_data"
    }
   ],
   "source": [
    "value(x_i -> get_x_index(x_i) in arc_separation.src[2].selected ∪ arc_separation.action, objective_function(model_f))"
   ]
  },
  {
   "cell_type": "code",
   "execution_count": 477,
   "id": "7eb6742b",
   "metadata": {},
   "outputs": [
    {
     "data": {
      "text/plain": [
       "-254.0"
      ]
     },
     "metadata": {},
     "output_type": "display_data"
    }
   ],
   "source": [
    "# best response violation\n",
    "-value(model_sd[:y][arc_best_response.src]) + sum(ct[i] for i in arc_best_response.action)"
   ]
  },
  {
   "cell_type": "code",
   "execution_count": 478,
   "id": "7fac5e35",
   "metadata": {},
   "outputs": [
    {
     "data": {
      "text/plain": [
       "-864.9999"
      ]
     },
     "metadata": {},
     "output_type": "display_data"
    }
   ],
   "source": [
    "# separation violation\n",
    "-value(model_sd[:y][arc_separation.src]) + sum(ct[i] for i in arc_separation.action)"
   ]
  },
  {
   "cell_type": "code",
   "execution_count": 286,
   "id": "71c4dead",
   "metadata": {},
   "outputs": [
    {
     "name": "stdout",
     "output_type": "stream",
     "text": [
      "BitSet([]) -> 108.0 + -800.5 = -692.5\n",
      "BitSet([1]) -> 30.0 + -800.5 = -770.5\n",
      "BitSet([29]) -> -0.0 + -770.5 = -770.5\n",
      "BitSet([7]) -> 88.0 + -800.5 = -712.5\n",
      "BitSet([13]) -> -0.0 + -712.5 = -712.5\n",
      "BitSet([5]) -> 96.0 + -800.5 = -704.5\n",
      "BitSet([12]) -> 12.0 + -704.5 = -692.5\n",
      "BitSet([14]) -> 12.0 + -775.5 = -763.5\n",
      "BitSet([20]) -> -0.0 + -792.5 = -792.5\n",
      "BitSet([1, 29]) -> 0.0 + -770.5 = -770.5\n",
      "BitSet([7, 13]) -> 0.0 + -712.5 = -712.5\n",
      "BitSet([5, 12]) -> 0.0 + -704.5 = -704.5\n",
      "BitSet([5, 14]) -> 0.0 + -775.5 = -775.5\n",
      "BitSet([7, 20]) -> 0.0 + -792.5 = -792.5\n",
      "BitSet([]) -> -0.0 + -800.5 = -800.5\n"
     ]
    }
   ],
   "source": [
    "for u in vertices(sd)\n",
    "    print(u[2].selected)\n",
    "    print(\" -> \")\n",
    "\n",
    "    θ = -value(model_sd[:y][u])\n",
    "\n",
    "    γ = 0\n",
    "\n",
    "    for i in findall(convert.(Bool, x_br))\n",
    "        if ~(i in u[2].selected)\n",
    "            γ += ct[i]\n",
    "        end\n",
    "    end\n",
    "\n",
    "    println(θ, \" + \", γ, \" = \", θ + γ)\n",
    "end"
   ]
  },
  {
   "cell_type": "markdown",
   "id": "19ebfe7e",
   "metadata": {},
   "source": [
    "### Add the arcs"
   ]
  },
  {
   "cell_type": "code",
   "execution_count": 480,
   "id": "8ebd8cf6",
   "metadata": {},
   "outputs": [
    {
     "name": "stdout",
     "output_type": "stream",
     "text": [
      "Set parameter OutputFlag to value 1\n",
      "Set parameter Threads to value 0\n",
      "Set parameter OutputFlag to value 1\n",
      "Set parameter Threads to value 0\n"
     ]
    }
   ],
   "source": [
    "sd_sep = SDGraph(prob, copy(sd.layers), copy(sd.arcs))\n",
    "sd_br = SDGraph(prob, copy(sd.layers), copy(sd.arcs))\n",
    "\n",
    "push!(sd_br.arcs, arc_best_response)\n",
    "push!(sd_sep.arcs, arc_separation)\n",
    "\n",
    "model_sd_br = base_model(prob)\n",
    "CombinatorialPricing.add_sdgraph_dual!(model_sd_br, sd_br)\n",
    "\n",
    "model_sd_sep = base_model(prob)\n",
    "CombinatorialPricing.add_sdgraph_dual!(model_sd_sep, sd_sep)\n",
    ";"
   ]
  },
  {
   "cell_type": "code",
   "execution_count": 481,
   "id": "5433b1d7",
   "metadata": {},
   "outputs": [
    {
     "name": "stdout",
     "output_type": "stream",
     "text": [
      "Set parameter Threads to value 0\n",
      "Set parameter OutputFlag to value 1\n",
      "Gurobi Optimizer version 12.0.2 build v12.0.2rc0 (armlinux64 - \"Ubuntu 22.04.5 LTS\")\n",
      "\n",
      "CPU model: ARM64\n",
      "Thread count: 8 physical cores, 8 logical processors, using up to 8 threads\n",
      "\n",
      "Academic license 2562957 - for non-commercial use only - registered to br___@umontreal.ca\n",
      "Optimize a model with 76 rows, 78 columns and 263 nonzeros\n",
      "Model fingerprint: 0xb915e557\n",
      "Variable types: 48 continuous, 30 integer (30 binary)\n",
      "Coefficient statistics:\n",
      "  Matrix range     [1e+00, 1e+02]\n",
      "  Objective range  [1e+00, 1e+00]\n",
      "  Bounds range     [3e+00, 1e+02]\n",
      "  RHS range        [1e-04, 8e+02]\n",
      "Presolve removed 25 rows and 16 columns\n",
      "Presolve time: 0.00s\n",
      "Presolved: 51 rows, 62 columns, 204 nonzeros\n",
      "Variable types: 32 continuous, 30 integer (30 binary)\n",
      "Found heuristic solution: objective -0.0000000\n",
      "\n",
      "Root relaxation: objective 4.194474e+02, 56 iterations, 0.00 seconds (0.00 work units)\n",
      "\n",
      "    Nodes    |    Current Node    |     Objective Bounds      |     Work\n",
      " Expl Unexpl |  Obj  Depth IntInf | Incumbent    BestBd   Gap | It/Node Time\n",
      "\n",
      "     0     0  419.44741    0    2   -0.00000  419.44741      -     -    0s\n",
      "H    0     0                     395.0002000  419.44741  6.19%     -    0s\n",
      "H    0     0                     405.5001000  417.88957  3.06%     -    0s\n",
      "H    0     0                     414.5001500  416.66236  0.52%     -    0s\n",
      "     0     0  416.66236    0    3  414.50015  416.66236  0.52%     -    0s\n",
      "     0     0  415.43763    0    4  414.50015  415.43763  0.23%     -    0s\n",
      "     0     0  415.03792    0    4  414.50015  415.03792  0.13%     -    0s\n",
      "     0     0  414.50015    0    6  414.50015  414.50015  0.00%     -    0s\n",
      "\n",
      "Cutting planes:\n",
      "  Gomory: 3\n",
      "  MIR: 1\n",
      "  StrongCG: 1\n",
      "  Flow cover: 1\n",
      "  RLT: 1\n",
      "\n",
      "Explored 1 nodes (74 simplex iterations) in 0.01 seconds (0.00 work units)\n",
      "Thread count was 8 (of 8 available processors)\n",
      "\n",
      "Solution count 4: 414.5 405.5 395 -0 \n",
      "\n",
      "Optimal solution found (tolerance 1.00e-04)\n",
      "Best objective 4.145001500000e+02, best bound 4.145001500000e+02, gap 0.0000%\n",
      "\n",
      "User-callback calls 319, time in user-callback 0.00 sec\n"
     ]
    }
   ],
   "source": [
    "optimize!(model_sd_br)"
   ]
  },
  {
   "cell_type": "code",
   "execution_count": 482,
   "id": "b9686851",
   "metadata": {},
   "outputs": [
    {
     "name": "stdout",
     "output_type": "stream",
     "text": [
      "Set parameter Threads to value 0\n",
      "Set parameter OutputFlag to value 1\n",
      "Gurobi Optimizer version 12.0.2 build v12.0.2rc0 (armlinux64 - \"Ubuntu 22.04.5 LTS\")\n",
      "\n",
      "CPU model: ARM64\n",
      "Thread count: 8 physical cores, 8 logical processors, using up to 8 threads\n",
      "\n",
      "Academic license 2562957 - for non-commercial use only - registered to br___@umontreal.ca\n",
      "Optimize a model with 76 rows, 78 columns and 264 nonzeros\n",
      "Model fingerprint: 0x137e1af3\n",
      "Variable types: 48 continuous, 30 integer (30 binary)\n",
      "Coefficient statistics:\n",
      "  Matrix range     [1e+00, 1e+02]\n",
      "  Objective range  [1e+00, 1e+00]\n",
      "  Bounds range     [3e+00, 1e+02]\n",
      "  RHS range        [1e-04, 9e+02]\n",
      "Found heuristic solution: objective 167.5002000\n",
      "Presolve removed 25 rows and 16 columns\n",
      "Presolve time: 0.00s\n",
      "Presolved: 51 rows, 62 columns, 205 nonzeros\n",
      "Variable types: 32 continuous, 30 integer (30 binary)\n",
      "\n",
      "Root relaxation: objective 4.295183e+02, 43 iterations, 0.00 seconds (0.00 work units)\n",
      "\n",
      "    Nodes    |    Current Node    |     Objective Bounds      |     Work\n",
      " Expl Unexpl |  Obj  Depth IntInf | Incumbent    BestBd   Gap | It/Node Time\n",
      "\n",
      "     0     0  429.51828    0    2  167.50020  429.51828   156%     -    0s\n",
      "H    0     0                     423.5001000  429.51828  1.42%     -    0s\n",
      "     0     0  428.63535    0    3  423.50010  428.63535  1.21%     -    0s\n",
      "H    0     0                     427.5001000  428.61527  0.26%     -    0s\n",
      "     0     0  428.07153    0    3  427.50010  428.07153  0.13%     -    0s\n",
      "     0     0  428.07153    0    4  427.50010  428.07153  0.13%     -    0s\n",
      "\n",
      "Cutting planes:\n",
      "  Gomory: 3\n",
      "  MIR: 1\n",
      "  RLT: 1\n",
      "\n",
      "Explored 1 nodes (54 simplex iterations) in 0.01 seconds (0.00 work units)\n",
      "Thread count was 8 (of 8 available processors)\n",
      "\n",
      "Solution count 3: 427.5 423.5 167.5 \n",
      "\n",
      "Optimal solution found (tolerance 1.00e-04)\n",
      "Best objective 4.275001000000e+02, best bound 4.275001000000e+02, gap 0.0000%\n",
      "\n",
      "User-callback calls 311, time in user-callback 0.00 sec\n"
     ]
    }
   ],
   "source": [
    "optimize!(model_sd_sep)"
   ]
  },
  {
   "cell_type": "code",
   "execution_count": 483,
   "id": "10587e0b",
   "metadata": {},
   "outputs": [
    {
     "data": {
      "text/plain": [
       "false"
      ]
     },
     "metadata": {},
     "output_type": "display_data"
    }
   ],
   "source": [
    "value.(model_sd_sep[:x]) ≈ value.(model_sd_br[:x])"
   ]
  },
  {
   "cell_type": "code",
   "execution_count": 484,
   "id": "871df074",
   "metadata": {},
   "outputs": [
    {
     "data": {
      "text/plain": [
       "false"
      ]
     },
     "metadata": {},
     "output_type": "display_data"
    }
   ],
   "source": [
    "value.(model_sd_sep[:t]).data ≈ value.(model_sd_br[:t]).data"
   ]
  },
  {
   "cell_type": "code",
   "execution_count": 485,
   "id": "cdb35968",
   "metadata": {},
   "outputs": [
    {
     "data": {
      "text/plain": [
       "1-dimensional DenseAxisArray{Float64,1,...} with index sets:\n",
       "    Dimension 1, [1, 4, 7, 8, 9, 11, 15, 17, 18, 19, 22, 23, 24, 26, 30]\n",
       "And data, a 15-element Vector{Float64}:\n",
       " 123.0\n",
       "  16.5\n",
       "  38.0000500000001\n",
       "  41.5000500000001\n",
       "  73.5\n",
       " 108.0\n",
       "  55.5\n",
       "  81.0\n",
       "   0.0\n",
       "  39.0\n",
       "   0.0\n",
       "   0.0\n",
       "  15.0\n",
       "  87.5000500000001\n",
       "   3.0"
      ]
     },
     "metadata": {},
     "output_type": "display_data"
    }
   ],
   "source": [
    "value.(model_sd_br[:t])"
   ]
  },
  {
   "cell_type": "code",
   "execution_count": 486,
   "id": "e2a92401",
   "metadata": {},
   "outputs": [
    {
     "data": {
      "text/plain": [
       "1-dimensional DenseAxisArray{Float64,1,...} with index sets:\n",
       "    Dimension 1, [1, 4, 7, 8, 9, 11, 15, 17, 18, 19, 22, 23, 24, 26, 30]\n",
       "And data, a 15-element Vector{Float64}:\n",
       " 108.99990000000003\n",
       "  16.5\n",
       "  40.5\n",
       "  31.500099999999975\n",
       "  73.5\n",
       "  81.50009999999997\n",
       "   0.0\n",
       "  81.0\n",
       " 130.5\n",
       "  39.0\n",
       "   0.0\n",
       "   0.0\n",
       "  15.0\n",
       "   0.0\n",
       "   3.0"
      ]
     },
     "metadata": {},
     "output_type": "display_data"
    }
   ],
   "source": [
    "value.(model_sd_sep[:t])"
   ]
  },
  {
   "cell_type": "code",
   "execution_count": 487,
   "id": "3a7a37b9",
   "metadata": {},
   "outputs": [
    {
     "data": {
      "text/plain": [
       "12-element Vector{Int64}:\n",
       "  1\n",
       "  3\n",
       "  4\n",
       "  6\n",
       "  7\n",
       "  8\n",
       " 11\n",
       " 16\n",
       " 18\n",
       " 22\n",
       " 23\n",
       " 26"
      ]
     },
     "metadata": {},
     "output_type": "display_data"
    }
   ],
   "source": [
    "findall(convert.(Bool, value.(model_sd_br[:x])))"
   ]
  },
  {
   "cell_type": "code",
   "execution_count": 488,
   "id": "1bd0d4c5",
   "metadata": {},
   "outputs": [
    {
     "data": {
      "text/plain": [
       "15-element Vector{Int64}:\n",
       "  1\n",
       "  4\n",
       "  6\n",
       "  7\n",
       "  8\n",
       " 11\n",
       " 15\n",
       " 16\n",
       " 18\n",
       " 20\n",
       " 22\n",
       " 23\n",
       " 24\n",
       " 26\n",
       " 30"
      ]
     },
     "metadata": {},
     "output_type": "display_data"
    }
   ],
   "source": [
    "findall(convert.(Bool, value.(model_sd_sep[:x])))"
   ]
  },
  {
   "cell_type": "markdown",
   "id": "760fb711",
   "metadata": {},
   "source": [
    "### Update original SD"
   ]
  },
  {
   "cell_type": "code",
   "execution_count": 460,
   "id": "ade15a4b",
   "metadata": {},
   "outputs": [
    {
     "data": {
      "text/plain": [
       "26-element Vector{SDArc}:\n",
       " DPArc (0, ()) => (1, (18,)) (18,)\n",
       " DPArc (0, ()) => (1, (25,)) (25,)\n",
       " DPArc (0, ()) => (1, (16,)) (16,)\n",
       " DPArc (0, ()) => (1, (28,)) (28,)\n",
       " DPArc (0, ()) => (1, (2,)) (2,)\n",
       " DPArc (0, ()) => (1, (5,)) (5,)\n",
       " DPArc (0, ()) => (1, (7,)) (7,)\n",
       " DPArc (0, ()) => (1, (14,)) (14,)\n",
       " DPArc (0, ()) => (1, (22,)) (22,)\n",
       " DPArc (1, (18,)) => (2, (18, 25)) (25,)\n",
       " ⋮\n",
       " DPArc (1, (14,)) => (2, (7, 14)) (7,)\n",
       " DPArc (1, (22,)) => (2, (2, 22)) (2,)\n",
       " DPArc (2, (18, 25)) => (3, ()) ()\n",
       " DPArc (2, (16, 28)) => (3, ()) ()\n",
       " DPArc (2, (2, 5)) => (3, ()) ()\n",
       " DPArc (2, (7, 14)) => (3, ()) ()\n",
       " DPArc (2, (2, 22)) => (3, ()) ()\n",
       " DPArc (2, (16, 28)) => (3, ()) (2, 3, 5, 6, 7, 9, 12, 14, 17, 20, 21, 27, 29, 30)\n",
       " DPArc (2, (16, 28)) => (3, ()) (1, 3, 4, 6, 11, 18, 19, 20, 21, 23, 24, 26)"
      ]
     },
     "metadata": {},
     "output_type": "display_data"
    }
   ],
   "source": [
    "push!(sd.arcs, arc_best_response)"
   ]
  }
 ],
 "metadata": {
  "kernelspec": {
   "display_name": "Julia 1.11.5",
   "language": "julia",
   "name": "julia-1.11"
  },
  "language_info": {
   "file_extension": ".jl",
   "mimetype": "application/julia",
   "name": "julia",
   "version": "1.11.5"
  }
 },
 "nbformat": 4,
 "nbformat_minor": 5
}
